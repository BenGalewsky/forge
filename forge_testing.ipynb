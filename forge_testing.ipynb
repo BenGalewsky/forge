{
 "cells": [
  {
   "cell_type": "code",
   "execution_count": 1,
   "metadata": {
    "collapsed": false,
    "deletable": true,
    "editable": true,
    "scrolled": false
   },
   "outputs": [],
   "source": [
    "%load_ext autoreload\n",
    "%autoreload 2"
   ]
  },
  {
   "cell_type": "code",
   "execution_count": 2,
   "metadata": {
    "collapsed": true
   },
   "outputs": [],
   "source": [
    "from mdf_dataworks.forge import Forge"
   ]
  },
  {
   "cell_type": "code",
   "execution_count": 3,
   "metadata": {
    "collapsed": false,
    "deletable": true,
    "editable": true
   },
   "outputs": [],
   "source": [
    "mdf = Forge()"
   ]
  },
  {
   "cell_type": "code",
   "execution_count": 3,
   "metadata": {
    "collapsed": false,
    "deletable": true,
    "editable": true,
    "scrolled": false
   },
   "outputs": [],
   "source": [
    "res = mdf.search(\"mdf.source_name:fe_cr_al_oxidation\", advanced=True, limit=10)"
   ]
  },
  {
   "cell_type": "code",
   "execution_count": 4,
   "metadata": {
    "collapsed": false,
    "deletable": true,
    "editable": true
   },
   "outputs": [
    {
     "data": {
      "text/plain": [
       "10"
      ]
     },
     "execution_count": 4,
     "metadata": {},
     "output_type": "execute_result"
    }
   ],
   "source": [
    "len(res)"
   ]
  },
  {
   "cell_type": "code",
   "execution_count": 5,
   "metadata": {
    "collapsed": false,
    "deletable": true,
    "editable": true,
    "scrolled": false
   },
   "outputs": [],
   "source": [
    "res2 = mdf.match_term(\"Al\").match_term(\"C\").execute(limit=10)"
   ]
  },
  {
   "cell_type": "code",
   "execution_count": 6,
   "metadata": {
    "collapsed": false,
    "deletable": true,
    "editable": true
   },
   "outputs": [
    {
     "data": {
      "text/plain": [
       "10"
      ]
     },
     "execution_count": 6,
     "metadata": {},
     "output_type": "execute_result"
    }
   ],
   "source": [
    "len(res2)"
   ]
  },
  {
   "cell_type": "code",
   "execution_count": 10,
   "metadata": {
    "collapsed": false,
    "deletable": true,
    "editable": true,
    "scrolled": true
   },
   "outputs": [
    {
     "name": "stderr",
     "output_type": "stream",
     "text": [
      "Fetching files: 100%|██████████| 5/5 [00:02<00:00,  1.80it/s]\n"
     ]
    }
   ],
   "source": [
    "#mdf.http_download(res[:5], dest=\"/Users/jonathongaff/Downloads/oqmd\", preserve_dir=False)"
   ]
  },
  {
   "cell_type": "code",
   "execution_count": 11,
   "metadata": {
    "collapsed": true,
    "deletable": true,
    "editable": true
   },
   "outputs": [],
   "source": [
    "#r = mdf.http_stream(res)"
   ]
  },
  {
   "cell_type": "code",
   "execution_count": 7,
   "metadata": {
    "collapsed": false,
    "deletable": true,
    "editable": true,
    "scrolled": true
   },
   "outputs": [],
   "source": [
    "r = mdf.search_by_elements([\"Al\", \"Cr\", \"Pb\", \"U\"], match_all=True)"
   ]
  },
  {
   "cell_type": "code",
   "execution_count": 8,
   "metadata": {
    "collapsed": false,
    "deletable": true,
    "editable": true
   },
   "outputs": [
    {
     "data": {
      "text/plain": [
       "[{'mdf': {'collection': 'AMCS',\n",
       "   'composition': 'Na0.09 Sr1.599 Ca0.078 La0.528 Ce0.303 Y0.615 U1.221 Ti37.26 Mn0.216 Nb0.054 Al0.108 V0.54 Cr4.86 Fe16.26 Sn0.054 Pb0.315 O114',\n",
       "   'elements': ['Pb',\n",
       "    'Ti',\n",
       "    'Al',\n",
       "    'Mn',\n",
       "    'Ce',\n",
       "    'Y',\n",
       "    'V',\n",
       "    'Nb',\n",
       "    'Cr',\n",
       "    'Fe',\n",
       "    'Ca',\n",
       "    'La',\n",
       "    'Sn',\n",
       "    'Sr',\n",
       "    'O',\n",
       "    'U',\n",
       "    'Na'],\n",
       "   'ingest_date': '2017-07-11T15:29:25.630976Z',\n",
       "   'links': {'cif': {'http_host': 'http://rruff.geo.arizona.edu',\n",
       "     'path': '/AMS/xtal_data/CIFfiles/08493.cif'},\n",
       "    'dif': {'http_host': 'http://rruff.geo.arizona.edu',\n",
       "     'path': '/AMS/xtal_data/DIFfiles/08493.txt'},\n",
       "    'landing_page': 'http://rruff.geo.arizona.edu/AMS/minerals/Mapiquiroite',\n",
       "    'parent_id': '5964ec8bd0a0d30be1796bb1'},\n",
       "   'mdf-id': '5964eed5d0a0d30be1798a5d',\n",
       "   'metadata_version': '0.3.0',\n",
       "   'resource_type': 'record',\n",
       "   'scroll_id': 7852,\n",
       "   'source_name': 'amcs',\n",
       "   'tags': ['Mapiquiroite'],\n",
       "   'title': 'AMCS - Mapiquiroite'}}]"
      ]
     },
     "execution_count": 8,
     "metadata": {},
     "output_type": "execute_result"
    }
   ],
   "source": [
    "r"
   ]
  },
  {
   "cell_type": "code",
   "execution_count": null,
   "metadata": {
    "collapsed": true
   },
   "outputs": [],
   "source": []
  }
 ],
 "metadata": {
  "kernelspec": {
   "display_name": "Python 3",
   "language": "python",
   "name": "python3"
  },
  "language_info": {
   "codemirror_mode": {
    "name": "ipython",
    "version": 3
   },
   "file_extension": ".py",
   "mimetype": "text/x-python",
   "name": "python",
   "nbconvert_exporter": "python",
   "pygments_lexer": "ipython3",
   "version": "3.6.0"
  }
 },
 "nbformat": 4,
 "nbformat_minor": 2
}
