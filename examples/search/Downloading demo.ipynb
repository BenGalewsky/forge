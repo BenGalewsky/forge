{
 "cells": [
  {
   "cell_type": "markdown",
   "metadata": {
    "deletable": true,
    "editable": true
   },
   "source": [
    "# Downloading files from MDF"
   ]
  },
  {
   "cell_type": "markdown",
   "metadata": {
    "deletable": true,
    "editable": true
   },
   "source": [
    "Entries in MDF consist of metadata. In some cases, this metadata is enough information. However, if access to the raw data is required (and the data is hosted publically), the Forge methods `Forge.http_download()`, `Forge.globus_download()`, `Forge.http_stream()`, and `Forge.http_return()` provide easy access."
   ]
  },
  {
   "cell_type": "code",
   "execution_count": 1,
   "metadata": {
    "collapsed": true,
    "deletable": true,
    "editable": true
   },
   "outputs": [],
   "source": [
    "from mdf_forge.forge import Forge"
   ]
  },
  {
   "cell_type": "code",
   "execution_count": 2,
   "metadata": {
    "collapsed": true,
    "deletable": true,
    "editable": true
   },
   "outputs": [],
   "source": [
    "mdf = Forge()"
   ]
  },
  {
   "cell_type": "markdown",
   "metadata": {
    "deletable": true,
    "editable": true
   },
   "source": [
    "## Search for entries and save results"
   ]
  },
  {
   "cell_type": "code",
   "execution_count": 3,
   "metadata": {
    "collapsed": false,
    "deletable": true,
    "editable": true
   },
   "outputs": [
    {
     "name": "stdout",
     "output_type": "stream",
     "text": [
      "1401\n"
     ]
    }
   ],
   "source": [
    "results = mdf.match_sources(\"fe_cr_al_oxidation\").match_field(\"mdf.resource_type\", \"record\").search()\n",
    "print(len(results))"
   ]
  },
  {
   "cell_type": "markdown",
   "metadata": {
    "deletable": true,
    "editable": true
   },
   "source": [
    "## Download the raw data files"
   ]
  },
  {
   "cell_type": "markdown",
   "metadata": {
    "deletable": true,
    "editable": true
   },
   "source": [
    "`Forge.http_download` will download up to 10 files directly to disk. `Forge.globus_download()` will download unlimited files directly to disk.\n",
    "\n",
    "The `preserve_dir` flag will preserve the directory structure of the source. If `False` (which is the default), all of the files will be saved in the same `dest` directory."
   ]
  },
  {
   "cell_type": "code",
   "execution_count": 4,
   "metadata": {
    "collapsed": false,
    "deletable": true,
    "editable": true
   },
   "outputs": [
    {
     "name": "stderr",
     "output_type": "stream",
     "text": [
      "Fetching files: 100%|██████████| 5/5 [00:02<00:00,  1.99it/s]\n"
     ]
    }
   ],
   "source": [
    "# This line actually downloads the data to your hard drive. Uncomment only if you want the files.\n",
    "#mdf.http_download(results[:5], dest=\".\", preserve_dir=True)"
   ]
  },
  {
   "cell_type": "code",
   "execution_count": 5,
   "metadata": {
    "collapsed": false,
    "deletable": true,
    "editable": true
   },
   "outputs": [
    {
     "name": "stderr",
     "output_type": "stream",
     "text": [
      "Processing records: 100%|██████████| 1401/1401 [00:00<00:00, 5184.68it/s]\n",
      "Submitting transfers:   0%|          | 0/1 [00:00<?, ?it/s]"
     ]
    },
    {
     "name": "stdout",
     "output_type": "stream",
     "text": [
      "Transferring...\n",
      "Transferring...\n"
     ]
    },
    {
     "name": "stderr",
     "output_type": "stream",
     "text": [
      "\r",
      "Submitting transfers: 100%|██████████| 1/1 [02:25<00:00, 145.53s/it]"
     ]
    },
    {
     "name": "stdout",
     "output_type": "stream",
     "text": [
      "All transfers submitted\n",
      "Task IDs: 65c76acc-89ce-11e7-a97f-22000a92523b\n"
     ]
    },
    {
     "name": "stderr",
     "output_type": "stream",
     "text": [
      "\n"
     ]
    },
    {
     "data": {
      "text/plain": [
       "['65c76acc-89ce-11e7-a97f-22000a92523b']"
      ]
     },
     "execution_count": 5,
     "metadata": {},
     "output_type": "execute_result"
    }
   ],
   "source": [
    "# This line actually downloads the data to your hard drive. Uncomment only if you want the files.\n",
    "#mdf.globus_download(results, dest=\".\", preserve_dir=True)"
   ]
  },
  {
   "cell_type": "markdown",
   "metadata": {
    "deletable": true,
    "editable": true
   },
   "source": [
    "## Use the files in a script"
   ]
  },
  {
   "cell_type": "markdown",
   "metadata": {
    "deletable": true,
    "editable": true
   },
   "source": [
    "`Forge.http_stream()` will stream the files in a script. `Forge.http_return()` will return all of the files all at once. The streaming method uses a Python generator to `yield` the data."
   ]
  },
  {
   "cell_type": "code",
   "execution_count": 6,
   "metadata": {
    "collapsed": true,
    "deletable": true,
    "editable": true
   },
   "outputs": [],
   "source": [
    "files = mdf.http_stream(results[:5])\n",
    "# These methods are functionally identical for this example, but http_return is less memory-efficient\n",
    "#files = mdf.http_return(results[:5])"
   ]
  },
  {
   "cell_type": "code",
   "execution_count": 7,
   "metadata": {
    "collapsed": false,
    "deletable": true,
    "editable": true
   },
   "outputs": [
    {
     "name": "stdout",
     "output_type": "stream",
     "text": [
      "Average: 8722.67448471926\n",
      "Average: 8226.024164889837\n",
      "Average: 8606.878464818763\n",
      "Average: 9325.612651030562\n",
      "Average: 7456.077469793888\n"
     ]
    }
   ],
   "source": [
    "for f in files:\n",
    "    sum_vals = 0\n",
    "    tot_vals = 0\n",
    "    for line in f.split(\"\\n\"):\n",
    "        if line.strip():\n",
    "            sum_vals += float(line.split()[1])\n",
    "            tot_vals += 1\n",
    "    print(\"Average:\", sum_vals/tot_vals)"
   ]
  },
  {
   "cell_type": "code",
   "execution_count": null,
   "metadata": {
    "collapsed": false,
    "deletable": true,
    "editable": true
   },
   "outputs": [],
   "source": []
  },
  {
   "cell_type": "code",
   "execution_count": null,
   "metadata": {
    "collapsed": true,
    "deletable": true,
    "editable": true
   },
   "outputs": [],
   "source": []
  }
 ],
 "metadata": {
  "kernelspec": {
   "display_name": "Python 3",
   "language": "python",
   "name": "python3"
  },
  "language_info": {
   "codemirror_mode": {
    "name": "ipython",
    "version": 3
   },
   "file_extension": ".py",
   "mimetype": "text/x-python",
   "name": "python",
   "nbconvert_exporter": "python",
   "pygments_lexer": "ipython3",
   "version": "3.6.0"
  }
 },
 "nbformat": 4,
 "nbformat_minor": 2
}
