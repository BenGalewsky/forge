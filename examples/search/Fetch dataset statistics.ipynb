{
 "cells": [
  {
   "cell_type": "code",
   "execution_count": 1,
   "metadata": {
    "collapsed": true,
    "deletable": true,
    "editable": true
   },
   "outputs": [],
   "source": [
    "from tqdm import tqdm\n",
    "import pandas as pd\n",
    "from mdf_forge.forge import Forge"
   ]
  },
  {
   "cell_type": "code",
   "execution_count": 2,
   "metadata": {
    "collapsed": true,
    "deletable": true,
    "editable": true
   },
   "outputs": [],
   "source": [
    "mdf = Forge()"
   ]
  },
  {
   "cell_type": "code",
   "execution_count": 3,
   "metadata": {
    "collapsed": false,
    "deletable": true,
    "editable": true
   },
   "outputs": [
    {
     "name": "stderr",
     "output_type": "stream",
     "text": [
      "100%|██████████| 1276/1276 [05:00<00:00,  3.94it/s]\n"
     ]
    }
   ],
   "source": [
    "query = \"mdf.resource_type:dataset\"\n",
    "advanced = True\n",
    "\n",
    "res = mdf.search(query, advanced=advanced)\n",
    "mdf_resources = []\n",
    "for r in tqdm(res):\n",
    "    q = \"mdf.links.parent_id:\" + r[\"mdf\"][\"mdf_id\"]\n",
    "    x, info = mdf.search(q, advanced=True, info=True, limit=0)\n",
    "    mdf_resources.append((r['mdf']['source_name'], r['mdf']['title'], info[\"total_query_matches\"]))\n",
    "#mdf_resources = [(r['mdf']['source_name'],r['mdf']['title']) for r in res]\n",
    "df = pd.DataFrame(mdf_resources, columns=['source_name','title', 'num_records'])"
   ]
  },
  {
   "cell_type": "code",
   "execution_count": 4,
   "metadata": {
    "collapsed": false,
    "deletable": true,
    "editable": true
   },
   "outputs": [
    {
     "name": "stdout",
     "output_type": "stream",
     "text": [
      "Number of data resources: 1276\n"
     ]
    },
    {
     "data": {
      "text/html": [
       "<div>\n",
       "<table border=\"1\" class=\"dataframe\">\n",
       "  <thead>\n",
       "    <tr style=\"text-align: right;\">\n",
       "      <th></th>\n",
       "      <th>source_name</th>\n",
       "      <th>title</th>\n",
       "      <th>num_records</th>\n",
       "    </tr>\n",
       "  </thead>\n",
       "  <tbody>\n",
       "    <tr>\n",
       "      <th>3</th>\n",
       "      <td>chembl_db</td>\n",
       "      <td>ChEMBL Database</td>\n",
       "      <td>1727112</td>\n",
       "    </tr>\n",
       "    <tr>\n",
       "      <th>841</th>\n",
       "      <td>oqmd</td>\n",
       "      <td>The Open Quantum Materials Database</td>\n",
       "      <td>686999</td>\n",
       "    </tr>\n",
       "    <tr>\n",
       "      <th>691</th>\n",
       "      <td>cod</td>\n",
       "      <td>Crystallography Open Database</td>\n",
       "      <td>373631</td>\n",
       "    </tr>\n",
       "    <tr>\n",
       "      <th>1014</th>\n",
       "      <td>dss_tox</td>\n",
       "      <td>Distributed Structure-Searchable Toxicity (DSS...</td>\n",
       "      <td>162371</td>\n",
       "    </tr>\n",
       "    <tr>\n",
       "      <th>1011</th>\n",
       "      <td>gdb9_14</td>\n",
       "      <td>Quantum Chemistry Structures and Properties of...</td>\n",
       "      <td>139980</td>\n",
       "    </tr>\n",
       "    <tr>\n",
       "      <th>407</th>\n",
       "      <td>h2o_13</td>\n",
       "      <td>Machine-learning approach for one- and two-bod...</td>\n",
       "      <td>45482</td>\n",
       "    </tr>\n",
       "    <tr>\n",
       "      <th>695</th>\n",
       "      <td>nist_xps_db</td>\n",
       "      <td>NIST X-ray Photoelectron Spectroscopy Database</td>\n",
       "      <td>29189</td>\n",
       "    </tr>\n",
       "    <tr>\n",
       "      <th>409</th>\n",
       "      <td>gdb8_15</td>\n",
       "      <td>Electronic spectra from TDDFT and machine lear...</td>\n",
       "      <td>21786</td>\n",
       "    </tr>\n",
       "    <tr>\n",
       "      <th>1</th>\n",
       "      <td>amcs</td>\n",
       "      <td>The American Mineralogist Crystal Structure Da...</td>\n",
       "      <td>19540</td>\n",
       "    </tr>\n",
       "    <tr>\n",
       "      <th>837</th>\n",
       "      <td>ecp_sar_environments</td>\n",
       "      <td>Prediction of Compounds in Different Local SAR...</td>\n",
       "      <td>10914</td>\n",
       "    </tr>\n",
       "    <tr>\n",
       "      <th>410</th>\n",
       "      <td>ft_icr_ms</td>\n",
       "      <td>Assigned formula of complex mixture FT-ICR MS ...</td>\n",
       "      <td>10656</td>\n",
       "    </tr>\n",
       "    <tr>\n",
       "      <th>426</th>\n",
       "      <td>w_14</td>\n",
       "      <td>Accuracy and transferability of Gaussian appro...</td>\n",
       "      <td>9693</td>\n",
       "    </tr>\n",
       "    <tr>\n",
       "      <th>428</th>\n",
       "      <td>activity_cliffs</td>\n",
       "      <td>Knowledge base of two- and three-dimensional a...</td>\n",
       "      <td>7606</td>\n",
       "    </tr>\n",
       "    <tr>\n",
       "      <th>1010</th>\n",
       "      <td>gdb7_13</td>\n",
       "      <td>Machine learning of molecular electronic prope...</td>\n",
       "      <td>7210</td>\n",
       "    </tr>\n",
       "    <tr>\n",
       "      <th>839</th>\n",
       "      <td>gdb7_12</td>\n",
       "      <td>Fast and Accurate Modeling of Molecular Atomiz...</td>\n",
       "      <td>7163</td>\n",
       "    </tr>\n",
       "  </tbody>\n",
       "</table>\n",
       "</div>"
      ],
      "text/plain": [
       "               source_name                                              title  \\\n",
       "3                chembl_db                                    ChEMBL Database   \n",
       "841                   oqmd                The Open Quantum Materials Database   \n",
       "691                    cod                      Crystallography Open Database   \n",
       "1014               dss_tox  Distributed Structure-Searchable Toxicity (DSS...   \n",
       "1011               gdb9_14  Quantum Chemistry Structures and Properties of...   \n",
       "407                 h2o_13  Machine-learning approach for one- and two-bod...   \n",
       "695            nist_xps_db     NIST X-ray Photoelectron Spectroscopy Database   \n",
       "409                gdb8_15  Electronic spectra from TDDFT and machine lear...   \n",
       "1                     amcs  The American Mineralogist Crystal Structure Da...   \n",
       "837   ecp_sar_environments  Prediction of Compounds in Different Local SAR...   \n",
       "410              ft_icr_ms  Assigned formula of complex mixture FT-ICR MS ...   \n",
       "426                   w_14  Accuracy and transferability of Gaussian appro...   \n",
       "428        activity_cliffs  Knowledge base of two- and three-dimensional a...   \n",
       "1010               gdb7_13  Machine learning of molecular electronic prope...   \n",
       "839                gdb7_12  Fast and Accurate Modeling of Molecular Atomiz...   \n",
       "\n",
       "      num_records  \n",
       "3         1727112  \n",
       "841        686999  \n",
       "691        373631  \n",
       "1014       162371  \n",
       "1011       139980  \n",
       "407         45482  \n",
       "695         29189  \n",
       "409         21786  \n",
       "1           19540  \n",
       "837         10914  \n",
       "410         10656  \n",
       "426          9693  \n",
       "428          7606  \n",
       "1010         7210  \n",
       "839          7163  "
      ]
     },
     "execution_count": 4,
     "metadata": {},
     "output_type": "execute_result"
    }
   ],
   "source": [
    "print(\"Number of data resources: {n_datasets}\".format(n_datasets=len(df)))\n",
    "df.sort_values(by=\"num_records\", ascending=False).head(15)"
   ]
  },
  {
   "cell_type": "code",
   "execution_count": 5,
   "metadata": {
    "collapsed": false,
    "deletable": true,
    "editable": true
   },
   "outputs": [
    {
     "data": {
      "text/plain": [
       "3325449"
      ]
     },
     "execution_count": 5,
     "metadata": {},
     "output_type": "execute_result"
    }
   ],
   "source": [
    "df[\"num_records\"].sum()"
   ]
  },
  {
   "cell_type": "code",
   "execution_count": null,
   "metadata": {
    "collapsed": true,
    "deletable": true,
    "editable": true
   },
   "outputs": [],
   "source": []
  }
 ],
 "metadata": {
  "kernelspec": {
   "display_name": "Python 3",
   "language": "python",
   "name": "python3"
  },
  "language_info": {
   "codemirror_mode": {
    "name": "ipython",
    "version": 3
   },
   "file_extension": ".py",
   "mimetype": "text/x-python",
   "name": "python",
   "nbconvert_exporter": "python",
   "pygments_lexer": "ipython3",
   "version": "3.6.0"
  }
 },
 "nbformat": 4,
 "nbformat_minor": 2
}
