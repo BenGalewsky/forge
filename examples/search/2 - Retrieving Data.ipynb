{
 "cells": [
  {
   "cell_type": "code",
   "execution_count": 1,
   "metadata": {
    "collapsed": true,
    "deletable": true,
    "editable": true
   },
   "outputs": [],
   "source": [
    "import json\n",
    "import pandas as pd\n",
    "import requests\n",
    "import tqdm\n",
    "\n",
    "from io import StringIO, BytesIO\n",
    "from multiprocessing.pool import Pool\n",
    "\n",
    "# Materials specific packages\n",
    "from ase.io import read as ase_read\n",
    "from ase.visualize import view\n",
    "\n",
    "# MDF imports\n",
    "from mdf_dataworks.forge import Forge"
   ]
  },
  {
   "cell_type": "markdown",
   "metadata": {
    "deletable": true,
    "editable": true
   },
   "source": [
    "# Instantiate Base Class"
   ]
  },
  {
   "cell_type": "code",
   "execution_count": 2,
   "metadata": {
    "collapsed": true,
    "deletable": true,
    "editable": true
   },
   "outputs": [],
   "source": [
    "mdf = Forge()"
   ]
  },
  {
   "cell_type": "markdown",
   "metadata": {
    "deletable": true,
    "editable": true
   },
   "source": [
    "### Perform a raw search"
   ]
  },
  {
   "cell_type": "code",
   "execution_count": 3,
   "metadata": {
    "collapsed": true,
    "deletable": true,
    "editable": true
   },
   "outputs": [],
   "source": [
    "source_name = \"cytochrome_qsar\"\n",
    "element = \"Cl\"\n",
    "\n",
    "q = \"mdf.source_name:{source_name} AND \\\n",
    "          mdf.resource_type:record AND mdf.elements:{element}\".format(source_name = source_name, \n",
    "                                                                element=element)\n",
    "res = mdf.search(q, advanced=True)"
   ]
  },
  {
   "cell_type": "markdown",
   "metadata": {
    "deletable": true,
    "editable": true
   },
   "source": [
    "### Perform the same query with helper function"
   ]
  },
  {
   "cell_type": "code",
   "execution_count": 4,
   "metadata": {
    "collapsed": false,
    "deletable": true,
    "editable": true,
    "scrolled": false
   },
   "outputs": [
    {
     "name": "stdout",
     "output_type": "stream",
     "text": [
      "Total Matching Records: 26\n",
      "[\n",
      "    {\n",
      "        \"mdf\": {\n",
      "            \"collection\": \"Cytochrome QSAR\",\n",
      "            \"composition\": \"C18Cl3N2O\",\n",
      "            \"elements\": [\n",
      "                \"O\",\n",
      "                \"N\",\n",
      "                \"C\",\n",
      "                \"Cl\"\n",
      "            ],\n",
      "            \"ingest_date\": \"2017-07-12T17:50:18.726506Z\",\n",
      "            \"links\": {\n",
      "                \"landing_page\": \"ftp://ftp.ics.uci.edu/pub/baldig/learning/Cytochrome/#5\",\n",
      "                \"parent_id\": \"5966615a1d27540f4d501f76\",\n",
      "                \"sdf\": {\n",
      "                    \"globus_endpoint\": \"82f1b5c6-6e9b-11e5-ba47-22000b92c6ec\",\n",
      "                    \"http_host\": \"https://data.materialsdatafacility.org\",\n",
      "                    \"path\": \"/collections/cytochrome_qsar/talele/talele_record-13.sdf\"\n",
      "                }\n",
      "            },\n",
      "            \"mdf-id\": \"5966615a1d27540f4d501f7b\",\n",
      "            \"metadata_version\": \"0.3.0\",\n",
      "            \"resource_type\": \"record\",\n",
      "            \"scroll_id\": 5,\n",
      "            \"source_name\": \"cytochrome_qsar\",\n",
      "            \"title\": \"Cytochrome QSAR - C18Cl3N2O\"\n",
      "        }\n",
      "    },\n",
      "    {\n",
      "        \"mdf\": {\n",
      "            \"collection\": \"Cytochrome QSAR\",\n",
      "            \"composition\": \"C18Cl4N2O\",\n",
      "            \"elements\": [\n",
      "                \"O\",\n",
      "                \"N\",\n",
      "                \"C\",\n",
      "                \"Cl\"\n",
      "            ],\n",
      "            \"ingest_date\": \"2017-07-12T17:50:18.741121Z\",\n",
      "            \"links\": {\n",
      "                \"landing_page\": \"ftp://ftp.ics.uci.edu/pub/baldig/learning/Cytochrome/#7\",\n",
      "                \"parent_id\": \"5966615a1d27540f4d501f76\",\n",
      "                \"sdf\": {\n",
      "                    \"globus_endpoint\": \"82f1b5c6-6e9b-11e5-ba47-22000b92c6ec\",\n",
      "                    \"http_host\": \"https://data.materialsdatafacility.org\",\n",
      "                    \"path\": \"/collections/cytochrome_qsar/talele/talele_record-3.sdf\"\n",
      "                }\n",
      "            },\n",
      "            \"mdf-id\": \"5966615a1d27540f4d501f7d\",\n",
      "            \"metadata_version\": \"0.3.0\",\n",
      "            \"resource_type\": \"record\",\n",
      "            \"scroll_id\": 7,\n",
      "            \"source_name\": \"cytochrome_qsar\",\n",
      "            \"title\": \"Cytochrome QSAR - C18Cl4N2O\"\n",
      "        }\n",
      "    }\n",
      "]\n"
     ]
    }
   ],
   "source": [
    "sources = [\"cytochrome_qsar\"]\n",
    "elements = [\"Cl\"]\n",
    "\n",
    "res = mdf.search_by_elements(elements=elements, sources=sources)\n",
    "print(\"Total Matching Records: {n_records}\".format(n_records = len(res)))\n",
    "print(json.dumps(res[:2], sort_keys=True,indent=4, separators=(',', ': ')))"
   ]
  },
  {
   "cell_type": "markdown",
   "metadata": {
    "deletable": true,
    "editable": true
   },
   "source": [
    "## Retrieve SDF file contents and read into a pandas dataframe"
   ]
  },
  {
   "cell_type": "code",
   "execution_count": 5,
   "metadata": {
    "collapsed": true,
    "deletable": true,
    "editable": true,
    "scrolled": true
   },
   "outputs": [],
   "source": [
    "def get_sdf(r):\n",
    "    mdf_base = r['mdf']\n",
    "    URL = mdf_base['links']['sdf']['http_host']+mdf_base['links']['sdf']['path']\n",
    "    response = requests.get(URL)\n",
    "    r_data = ase_read(StringIO(response.text), format=\"sdf\")\n",
    "    return r_data\n",
    "\n",
    "tasks = res\n",
    "n_workers = 5\n",
    "\n",
    "mp = Pool(n_workers)\n",
    "mdf_data = mp.map(get_sdf, tasks)\n",
    "mp.close()\n",
    "mp.join()\n",
    "\n",
    "formulae = [d.get_chemical_formula() for d in mdf_data]\n",
    "df_cyto = pd.DataFrame({\"formula\":formulae, \"data\":mdf_data})\n"
   ]
  },
  {
   "cell_type": "markdown",
   "metadata": {
    "deletable": true,
    "editable": true
   },
   "source": [
    "## Visualize a retrieved molecule"
   ]
  },
  {
   "cell_type": "code",
   "execution_count": 6,
   "metadata": {
    "collapsed": false,
    "deletable": true,
    "editable": true
   },
   "outputs": [
    {
     "name": "stdout",
     "output_type": "stream",
     "text": [
      "C18Cl3N2O\n"
     ]
    },
    {
     "data": {
      "text/html": [
       "<html>\n",
       " <head>\n",
       "  <title>ASE atomic visualization</title>\n",
       "  <link rel=\"stylesheet\" type=\"text/css\"\n",
       "   href=\"https://www.x3dom.org/x3dom/release/x3dom.css\">\n",
       "  </link>\n",
       "  <script type=\"text/javascript\"\n",
       "   src=\"https://www.x3dom.org/x3dom/release/x3dom.js\">\n",
       "  </script>\n",
       " </head>\n",
       " <body>\n",
       "  <X3D style=\"margin:0; padding:0; width:100%; height:100%; border:none;\">\n",
       "   <Scene>\n",
       "    <Transform translation=\"-2.80 -2.92 0.00\">\n",
       "     <Shape>\n",
       "      <Appearance>\n",
       "       <Material diffuseColor=\"0.565 0.565 0.565\" specularColor=\"0.5 0.5 0.5\">\n",
       "       </Material>\n",
       "      </Appearance>\n",
       "      <Sphere radius=\"0.76\">\n",
       "      </Sphere>\n",
       "     </Shape>\n",
       "    </Transform>\n",
       "    <Transform translation=\"-3.63 -2.92 0.00\">\n",
       "     <Shape>\n",
       "      <Appearance>\n",
       "       <Material diffuseColor=\"0.565 0.565 0.565\" specularColor=\"0.5 0.5 0.5\">\n",
       "       </Material>\n",
       "      </Appearance>\n",
       "      <Sphere radius=\"0.76\">\n",
       "      </Sphere>\n",
       "     </Shape>\n",
       "    </Transform>\n",
       "    <Transform translation=\"-3.62 -4.34 0.00\">\n",
       "     <Shape>\n",
       "      <Appearance>\n",
       "       <Material diffuseColor=\"0.188 0.314 0.973\" specularColor=\"0.5 0.5 0.5\">\n",
       "       </Material>\n",
       "      </Appearance>\n",
       "      <Sphere radius=\"0.71\">\n",
       "      </Sphere>\n",
       "     </Shape>\n",
       "    </Transform>\n",
       "    <Transform translation=\"-2.80 -4.34 0.00\">\n",
       "     <Shape>\n",
       "      <Appearance>\n",
       "       <Material diffuseColor=\"0.565 0.565 0.565\" specularColor=\"0.5 0.5 0.5\">\n",
       "       </Material>\n",
       "      </Appearance>\n",
       "      <Sphere radius=\"0.76\">\n",
       "      </Sphere>\n",
       "     </Shape>\n",
       "    </Transform>\n",
       "    <Transform translation=\"-2.38 -3.62 0.00\">\n",
       "     <Shape>\n",
       "      <Appearance>\n",
       "       <Material diffuseColor=\"0.188 0.314 0.973\" specularColor=\"0.5 0.5 0.5\">\n",
       "       </Material>\n",
       "      </Appearance>\n",
       "      <Sphere radius=\"0.71\">\n",
       "      </Sphere>\n",
       "     </Shape>\n",
       "    </Transform>\n",
       "    <Transform translation=\"-1.56 -3.62 0.00\">\n",
       "     <Shape>\n",
       "      <Appearance>\n",
       "       <Material diffuseColor=\"0.565 0.565 0.565\" specularColor=\"0.5 0.5 0.5\">\n",
       "       </Material>\n",
       "      </Appearance>\n",
       "      <Sphere radius=\"0.76\">\n",
       "      </Sphere>\n",
       "     </Shape>\n",
       "    </Transform>\n",
       "    <Transform translation=\"-1.08 -2.95 0.00\">\n",
       "     <Shape>\n",
       "      <Appearance>\n",
       "       <Material diffuseColor=\"0.565 0.565 0.565\" specularColor=\"0.5 0.5 0.5\">\n",
       "       </Material>\n",
       "      </Appearance>\n",
       "      <Sphere radius=\"0.76\">\n",
       "      </Sphere>\n",
       "     </Shape>\n",
       "    </Transform>\n",
       "    <Transform translation=\"-1.09 -2.13 0.00\">\n",
       "     <Shape>\n",
       "      <Appearance>\n",
       "       <Material diffuseColor=\"0.565 0.565 0.565\" specularColor=\"0.5 0.5 0.5\">\n",
       "       </Material>\n",
       "      </Appearance>\n",
       "      <Sphere radius=\"0.76\">\n",
       "      </Sphere>\n",
       "     </Shape>\n",
       "    </Transform>\n",
       "    <Transform translation=\"-0.37 -1.71 0.00\">\n",
       "     <Shape>\n",
       "      <Appearance>\n",
       "       <Material diffuseColor=\"0.565 0.565 0.565\" specularColor=\"0.5 0.5 0.5\">\n",
       "       </Material>\n",
       "      </Appearance>\n",
       "      <Sphere radius=\"0.76\">\n",
       "      </Sphere>\n",
       "     </Shape>\n",
       "    </Transform>\n",
       "    <Transform translation=\"-0.38 -0.89 0.00\">\n",
       "     <Shape>\n",
       "      <Appearance>\n",
       "       <Material diffuseColor=\"0.565 0.565 0.565\" specularColor=\"0.5 0.5 0.5\">\n",
       "       </Material>\n",
       "      </Appearance>\n",
       "      <Sphere radius=\"0.76\">\n",
       "      </Sphere>\n",
       "     </Shape>\n",
       "    </Transform>\n",
       "    <Transform translation=\"-1.09 -0.48 0.00\">\n",
       "     <Shape>\n",
       "      <Appearance>\n",
       "       <Material diffuseColor=\"0.565 0.565 0.565\" specularColor=\"0.5 0.5 0.5\">\n",
       "       </Material>\n",
       "      </Appearance>\n",
       "      <Sphere radius=\"0.76\">\n",
       "      </Sphere>\n",
       "     </Shape>\n",
       "    </Transform>\n",
       "    <Transform translation=\"-1.81 -0.90 0.00\">\n",
       "     <Shape>\n",
       "      <Appearance>\n",
       "       <Material diffuseColor=\"0.565 0.565 0.565\" specularColor=\"0.5 0.5 0.5\">\n",
       "       </Material>\n",
       "      </Appearance>\n",
       "      <Sphere radius=\"0.76\">\n",
       "      </Sphere>\n",
       "     </Shape>\n",
       "    </Transform>\n",
       "    <Transform translation=\"-1.80 -1.72 0.00\">\n",
       "     <Shape>\n",
       "      <Appearance>\n",
       "       <Material diffuseColor=\"0.565 0.565 0.565\" specularColor=\"0.5 0.5 0.5\">\n",
       "       </Material>\n",
       "      </Appearance>\n",
       "      <Sphere radius=\"0.76\">\n",
       "      </Sphere>\n",
       "     </Shape>\n",
       "    </Transform>\n",
       "    <Transform translation=\"0.42 -1.93 0.00\">\n",
       "     <Shape>\n",
       "      <Appearance>\n",
       "       <Material diffuseColor=\"0.122 0.941 0.122\" specularColor=\"0.5 0.5 0.5\">\n",
       "       </Material>\n",
       "      </Appearance>\n",
       "      <Sphere radius=\"1.02\">\n",
       "      </Sphere>\n",
       "     </Shape>\n",
       "    </Transform>\n",
       "    <Transform translation=\"-0.50 -3.54 0.00\">\n",
       "     <Shape>\n",
       "      <Appearance>\n",
       "       <Material diffuseColor=\"1.000 0.051 0.051\" specularColor=\"0.5 0.5 0.5\">\n",
       "       </Material>\n",
       "      </Appearance>\n",
       "      <Sphere radius=\"0.66\">\n",
       "      </Sphere>\n",
       "     </Shape>\n",
       "    </Transform>\n",
       "    <Transform translation=\"-1.10 0.35 0.00\">\n",
       "     <Shape>\n",
       "      <Appearance>\n",
       "       <Material diffuseColor=\"0.122 0.941 0.122\" specularColor=\"0.5 0.5 0.5\">\n",
       "       </Material>\n",
       "      </Appearance>\n",
       "      <Sphere radius=\"1.02\">\n",
       "      </Sphere>\n",
       "     </Shape>\n",
       "    </Transform>\n",
       "    <Transform translation=\"0.33 -3.54 0.00\">\n",
       "     <Shape>\n",
       "      <Appearance>\n",
       "       <Material diffuseColor=\"0.565 0.565 0.565\" specularColor=\"0.5 0.5 0.5\">\n",
       "       </Material>\n",
       "      </Appearance>\n",
       "      <Sphere radius=\"0.76\">\n",
       "      </Sphere>\n",
       "     </Shape>\n",
       "    </Transform>\n",
       "    <Transform translation=\"0.91 -4.12 0.00\">\n",
       "     <Shape>\n",
       "      <Appearance>\n",
       "       <Material diffuseColor=\"0.565 0.565 0.565\" specularColor=\"0.5 0.5 0.5\">\n",
       "       </Material>\n",
       "      </Appearance>\n",
       "      <Sphere radius=\"0.76\">\n",
       "      </Sphere>\n",
       "     </Shape>\n",
       "    </Transform>\n",
       "    <Transform translation=\"0.69 -4.92 0.00\">\n",
       "     <Shape>\n",
       "      <Appearance>\n",
       "       <Material diffuseColor=\"0.565 0.565 0.565\" specularColor=\"0.5 0.5 0.5\">\n",
       "       </Material>\n",
       "      </Appearance>\n",
       "      <Sphere radius=\"0.76\">\n",
       "      </Sphere>\n",
       "     </Shape>\n",
       "    </Transform>\n",
       "    <Transform translation=\"1.27 -5.50 0.00\">\n",
       "     <Shape>\n",
       "      <Appearance>\n",
       "       <Material diffuseColor=\"0.565 0.565 0.565\" specularColor=\"0.5 0.5 0.5\">\n",
       "       </Material>\n",
       "      </Appearance>\n",
       "      <Sphere radius=\"0.76\">\n",
       "      </Sphere>\n",
       "     </Shape>\n",
       "    </Transform>\n",
       "    <Transform translation=\"2.07 -5.29 0.00\">\n",
       "     <Shape>\n",
       "      <Appearance>\n",
       "       <Material diffuseColor=\"0.565 0.565 0.565\" specularColor=\"0.5 0.5 0.5\">\n",
       "       </Material>\n",
       "      </Appearance>\n",
       "      <Sphere radius=\"0.76\">\n",
       "      </Sphere>\n",
       "     </Shape>\n",
       "    </Transform>\n",
       "    <Transform translation=\"2.28 -4.49 0.00\">\n",
       "     <Shape>\n",
       "      <Appearance>\n",
       "       <Material diffuseColor=\"0.565 0.565 0.565\" specularColor=\"0.5 0.5 0.5\">\n",
       "       </Material>\n",
       "      </Appearance>\n",
       "      <Sphere radius=\"0.76\">\n",
       "      </Sphere>\n",
       "     </Shape>\n",
       "    </Transform>\n",
       "    <Transform translation=\"1.70 -3.91 0.00\">\n",
       "     <Shape>\n",
       "      <Appearance>\n",
       "       <Material diffuseColor=\"0.565 0.565 0.565\" specularColor=\"0.5 0.5 0.5\">\n",
       "       </Material>\n",
       "      </Appearance>\n",
       "      <Sphere radius=\"0.76\">\n",
       "      </Sphere>\n",
       "     </Shape>\n",
       "    </Transform>\n",
       "    <Transform translation=\"2.65 -5.87 0.00\">\n",
       "     <Shape>\n",
       "      <Appearance>\n",
       "       <Material diffuseColor=\"0.122 0.941 0.122\" specularColor=\"0.5 0.5 0.5\">\n",
       "       </Material>\n",
       "      </Appearance>\n",
       "      <Sphere radius=\"1.02\">\n",
       "      </Sphere>\n",
       "     </Shape>\n",
       "    </Transform>\n",
       "   </Scene>\n",
       "  </X3D>\n",
       " </body>\n",
       "</html>\n"
      ],
      "text/plain": [
       "<IPython.core.display.HTML object>"
      ]
     },
     "execution_count": 6,
     "metadata": {},
     "output_type": "execute_result"
    }
   ],
   "source": [
    "print(mdf_data[0].get_chemical_formula())\n",
    "view(mdf_data[0], viewer='x3d')"
   ]
  },
  {
   "cell_type": "markdown",
   "metadata": {
    "deletable": true,
    "editable": true
   },
   "source": [
    "## Get records via Globus for a larger, mixed source, result set"
   ]
  },
  {
   "cell_type": "code",
   "execution_count": 9,
   "metadata": {
    "collapsed": false,
    "deletable": true,
    "editable": true
   },
   "outputs": [
    {
     "name": "stderr",
     "output_type": "stream",
     "text": [
      "Processing records: 100%|██████████| 20/20 [00:00<00:00, 327.47it/s]\n",
      "Submitting transfers: 100%|██████████| 1/1 [00:00<00:00,  3.04it/s]"
     ]
    },
    {
     "name": "stdout",
     "output_type": "stream",
     "text": [
      "All transfers submitted\n",
      "Submission IDs: f80bf525-75fb-11e7-8b5e-22000b9923ef\n"
     ]
    },
    {
     "name": "stderr",
     "output_type": "stream",
     "text": [
      "\n"
     ]
    }
   ],
   "source": [
    "elements = [\"Al\",\"Ti\"]\n",
    "sources = [\"trinkle_elastic_fe_bcc\", \"dilute_mg_alloys_dft\"]\n",
    "my_ep = \"c8ee7e5c-6d04-11e5-ba46-22000b92c6ec\"\n",
    "my_path = \"/Users/ben/Desktop/blaiszik-macbookpro/Ti\" # This path should be writeable by Globus\n",
    "\n",
    "mdf = Forge()\n",
    "res = mdf.search_by_elements(elements=elements, sources=sources, limit=10)\n",
    "mdf.globus_download(res, dest=my_path, \n",
    "               local_ep=my_ep, preserve_dir=True)"
   ]
  },
  {
   "cell_type": "code",
   "execution_count": null,
   "metadata": {
    "collapsed": true
   },
   "outputs": [],
   "source": []
  }
 ],
 "metadata": {
  "kernelspec": {
   "display_name": "Python 3",
   "language": "python",
   "name": "python3"
  },
  "language_info": {
   "codemirror_mode": {
    "name": "ipython",
    "version": 3
   },
   "file_extension": ".py",
   "mimetype": "text/x-python",
   "name": "python",
   "nbconvert_exporter": "python",
   "pygments_lexer": "ipython3",
   "version": "3.6.0"
  }
 },
 "nbformat": 4,
 "nbformat_minor": 2
}
