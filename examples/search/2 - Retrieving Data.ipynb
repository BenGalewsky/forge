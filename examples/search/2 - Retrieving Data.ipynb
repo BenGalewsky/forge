{
 "cells": [
  {
   "cell_type": "code",
   "execution_count": 1,
   "metadata": {
    "collapsed": true,
    "deletable": true,
    "editable": true
   },
   "outputs": [],
   "source": [
    "import json\n",
    "import pandas as pd\n",
    "import requests\n",
    "import tqdm\n",
    "\n",
    "from io import StringIO, BytesIO\n",
    "from multiprocessing.pool import Pool\n",
    "\n",
    "# Materials specific packages\n",
    "from ase.io import read as ase_read\n",
    "from ase.visualize import view\n",
    "\n",
    "# MDF imports\n",
    "from mdf_forge import forge"
   ]
  },
  {
   "cell_type": "markdown",
   "metadata": {
    "deletable": true,
    "editable": true
   },
   "source": [
    "# Instantiate Base Class"
   ]
  },
  {
   "cell_type": "code",
   "execution_count": 2,
   "metadata": {
    "collapsed": true,
    "deletable": true,
    "editable": true
   },
   "outputs": [],
   "source": [
    "mdf = forge.Forge()"
   ]
  },
  {
   "cell_type": "markdown",
   "metadata": {
    "deletable": true,
    "editable": true
   },
   "source": [
    "### Perform a raw search"
   ]
  },
  {
   "cell_type": "code",
   "execution_count": 3,
   "metadata": {
    "collapsed": true,
    "deletable": true,
    "editable": true
   },
   "outputs": [],
   "source": [
    "source_name = \"cytochrome_qsar\"\n",
    "element = \"Cl\"\n",
    "\n",
    "q = \"mdf.source_name:{source_name} AND \\\n",
    "          mdf.resource_type:record AND mdf.elements:{element}\".format(source_name = source_name, \n",
    "                                                                element=element)\n",
    "res = mdf.search(q, advanced=True)"
   ]
  },
  {
   "cell_type": "markdown",
   "metadata": {
    "deletable": true,
    "editable": true
   },
   "source": [
    "### Perform the same query with helper function"
   ]
  },
  {
   "cell_type": "code",
   "execution_count": 6,
   "metadata": {
    "collapsed": false,
    "deletable": true,
    "editable": true,
    "scrolled": false
   },
   "outputs": [
    {
     "name": "stdout",
     "output_type": "stream",
     "text": [
      "{'total_query_matches': 335303, 'query': {'q': '(mdf.elements:Cl OR mdf.source_name:cytochrome_qsar)', 'advanced': True, 'limit': 10000}}\n",
      "Total Matching Records: 10000\n",
      "[\n",
      "    {\n",
      "        \"mdf\": {\n",
      "            \"collection\": \"OQMD\",\n",
      "            \"composition\": \"Cl1\",\n",
      "            \"elements\": [\n",
      "                \"Cl\"\n",
      "            ],\n",
      "            \"ingest_date\": \"2017-08-04T16:28:51.675886Z\",\n",
      "            \"links\": {\n",
      "                \"landing_page\": \"http://oqmd.org/analysis/calculation/1289758\",\n",
      "                \"metadata\": {\n",
      "                    \"globus_endpoint\": \"82f1b5c6-6e9b-11e5-ba47-22000b92c6ec\",\n",
      "                    \"http_host\": \"https://data.materialsdatafacility.org\",\n",
      "                    \"path\": \"/collections/oqmd/data/home/oqmd/libraries/icsd/22406/relaxation/metadata.json\"\n",
      "                },\n",
      "                \"outcar\": {\n",
      "                    \"globus_endpoint\": \"82f1b5c6-6e9b-11e5-ba47-22000b92c6ec\",\n",
      "                    \"http_host\": \"https://data.materialsdatafacility.org\",\n",
      "                    \"path\": \"/collections/oqmd/data/home/oqmd/libraries/icsd/22406/relaxation/OUTCAR\"\n",
      "                },\n",
      "                \"parent_id\": \"5984824ba5ea60170af49754\"\n",
      "            },\n",
      "            \"mdf_id\": \"5984a0c3a5ea60172afc1ed1\",\n",
      "            \"metadata_version\": \"0.3.2\",\n",
      "            \"resource_type\": \"record\",\n",
      "            \"scroll_id\": 493437,\n",
      "            \"source_name\": \"oqmd\",\n",
      "            \"tags\": [\n",
      "                \"metadata\",\n",
      "                \"outcar\"\n",
      "            ],\n",
      "            \"title\": \"OQMD - Cl1\"\n",
      "        },\n",
      "        \"oqmd\": {\n",
      "            \"band_gap\": {\n",
      "                \"units\": \"eV\",\n",
      "                \"value\": 0.0\n",
      "            },\n",
      "            \"converged\": true,\n",
      "            \"crossreference\": {\n",
      "                \"icsd\": 22406\n",
      "            },\n",
      "            \"magnetic_moment\": {\n",
      "                \"units\": \"bohr/atom\"\n",
      "            },\n",
      "            \"spacegroup\": 138,\n",
      "            \"total_energy\": {\n",
      "                \"units\": \"eV/atom\",\n",
      "                \"value\": -1.7412367975\n",
      "            },\n",
      "            \"volume\": {\n",
      "                \"units\": \"angstrom^3/atom\",\n",
      "                \"value\": 41.4745\n",
      "            }\n",
      "        }\n",
      "    },\n",
      "    {\n",
      "        \"mdf\": {\n",
      "            \"collection\": \"OQMD\",\n",
      "            \"composition\": \"Cl1\",\n",
      "            \"elements\": [\n",
      "                \"Cl\"\n",
      "            ],\n",
      "            \"ingest_date\": \"2017-08-04T17:16:55.853828Z\",\n",
      "            \"links\": {\n",
      "                \"landing_page\": \"http://oqmd.org/analysis/calculation/1949426\",\n",
      "                \"metadata\": {\n",
      "                    \"globus_endpoint\": \"82f1b5c6-6e9b-11e5-ba47-22000b92c6ec\",\n",
      "                    \"http_host\": \"https://data.materialsdatafacility.org\",\n",
      "                    \"path\": \"/collections/oqmd/data/home/oqmd/libraries/icsd/201696/relaxation_lda/metadata.json\"\n",
      "                },\n",
      "                \"outcar\": {\n",
      "                    \"globus_endpoint\": \"82f1b5c6-6e9b-11e5-ba47-22000b92c6ec\",\n",
      "                    \"http_host\": \"https://data.materialsdatafacility.org\",\n",
      "                    \"path\": \"/collections/oqmd/data/home/oqmd/libraries/icsd/201696/relaxation_lda/OUTCAR\"\n",
      "                },\n",
      "                \"parent_id\": \"5984824ba5ea60170af49754\"\n",
      "            },\n",
      "            \"mdf_id\": \"5984ac07a5ea60172afdc634\",\n",
      "            \"metadata_version\": \"0.3.2\",\n",
      "            \"resource_type\": \"record\",\n",
      "            \"scroll_id\": 601824,\n",
      "            \"source_name\": \"oqmd\",\n",
      "            \"tags\": [\n",
      "                \"metadata\",\n",
      "                \"outcar\"\n",
      "            ],\n",
      "            \"title\": \"OQMD - Cl1\"\n",
      "        },\n",
      "        \"oqmd\": {\n",
      "            \"band_gap\": {\n",
      "                \"units\": \"eV\",\n",
      "                \"value\": 0.0\n",
      "            },\n",
      "            \"configuration\": \"relaxation_lda\",\n",
      "            \"converged\": true,\n",
      "            \"crossreference\": {\n",
      "                \"icsd\": 201696\n",
      "            },\n",
      "            \"magnetic_moment\": {\n",
      "                \"units\": \"bohr/atom\"\n",
      "            },\n",
      "            \"spacegroup\": 64,\n",
      "            \"total_energy\": {\n",
      "                \"units\": \"eV/atom\",\n",
      "                \"value\": -2.2832958425\n",
      "            },\n",
      "            \"volume\": {\n",
      "                \"units\": \"angstrom^3/atom\",\n",
      "                \"value\": 22.4107\n",
      "            }\n",
      "        }\n",
      "    }\n",
      "]\n"
     ]
    }
   ],
   "source": [
    "sources = [\"cytochrome_qsar\"]\n",
    "elements = [\"Cl\"]\n",
    "\n",
    "res, info = mdf.search_by_elements(elements=elements, sources=sources, info=True)\n",
    "print(info)\n",
    "print(\"Total Matching Records: {n_records}\".format(n_records = len(res)))\n",
    "print(json.dumps(res[:2], sort_keys=True,indent=4, separators=(',', ': ')))"
   ]
  },
  {
   "cell_type": "markdown",
   "metadata": {
    "deletable": true,
    "editable": true
   },
   "source": [
    "## Retrieve SDF file contents and read into a pandas dataframe"
   ]
  },
  {
   "cell_type": "code",
   "execution_count": 5,
   "metadata": {
    "collapsed": false,
    "deletable": true,
    "editable": true,
    "scrolled": true
   },
   "outputs": [
    {
     "ename": "KeyError",
     "evalue": "'sdf'",
     "output_type": "error",
     "traceback": [
      "\u001b[0;31m---------------------------------------------------------------------------\u001b[0m",
      "\u001b[0;31mRemoteTraceback\u001b[0m                           Traceback (most recent call last)",
      "\u001b[0;31mRemoteTraceback\u001b[0m: \n\"\"\"\nTraceback (most recent call last):\n  File \"/Library/Frameworks/Python.framework/Versions/3.6/lib/python3.6/multiprocessing/pool.py\", line 119, in worker\n    result = (True, func(*args, **kwds))\n  File \"/Library/Frameworks/Python.framework/Versions/3.6/lib/python3.6/multiprocessing/pool.py\", line 44, in mapstar\n    return list(map(*args))\n  File \"<ipython-input-5-8871298af8fe>\", line 3, in get_sdf\n    URL = mdf_base['links']['sdf']['http_host']+mdf_base['links']['sdf']['path']\nKeyError: 'sdf'\n\"\"\"",
      "\nThe above exception was the direct cause of the following exception:\n",
      "\u001b[0;31mKeyError\u001b[0m                                  Traceback (most recent call last)",
      "\u001b[0;32m<ipython-input-5-8871298af8fe>\u001b[0m in \u001b[0;36m<module>\u001b[0;34m()\u001b[0m\n\u001b[1;32m     10\u001b[0m \u001b[0;34m\u001b[0m\u001b[0m\n\u001b[1;32m     11\u001b[0m \u001b[0mmp\u001b[0m \u001b[0;34m=\u001b[0m \u001b[0mPool\u001b[0m\u001b[0;34m(\u001b[0m\u001b[0mn_workers\u001b[0m\u001b[0;34m)\u001b[0m\u001b[0;34m\u001b[0m\u001b[0m\n\u001b[0;32m---> 12\u001b[0;31m \u001b[0mmdf_data\u001b[0m \u001b[0;34m=\u001b[0m \u001b[0mmp\u001b[0m\u001b[0;34m.\u001b[0m\u001b[0mmap\u001b[0m\u001b[0;34m(\u001b[0m\u001b[0mget_sdf\u001b[0m\u001b[0;34m,\u001b[0m \u001b[0mtasks\u001b[0m\u001b[0;34m)\u001b[0m\u001b[0;34m\u001b[0m\u001b[0m\n\u001b[0m\u001b[1;32m     13\u001b[0m \u001b[0mmp\u001b[0m\u001b[0;34m.\u001b[0m\u001b[0mclose\u001b[0m\u001b[0;34m(\u001b[0m\u001b[0;34m)\u001b[0m\u001b[0;34m\u001b[0m\u001b[0m\n\u001b[1;32m     14\u001b[0m \u001b[0mmp\u001b[0m\u001b[0;34m.\u001b[0m\u001b[0mjoin\u001b[0m\u001b[0;34m(\u001b[0m\u001b[0;34m)\u001b[0m\u001b[0;34m\u001b[0m\u001b[0m\n",
      "\u001b[0;32m/Library/Frameworks/Python.framework/Versions/3.6/lib/python3.6/multiprocessing/pool.py\u001b[0m in \u001b[0;36mmap\u001b[0;34m(self, func, iterable, chunksize)\u001b[0m\n\u001b[1;32m    258\u001b[0m         \u001b[0;32min\u001b[0m \u001b[0ma\u001b[0m \u001b[0mlist\u001b[0m \u001b[0mthat\u001b[0m \u001b[0;32mis\u001b[0m \u001b[0mreturned\u001b[0m\u001b[0;34m.\u001b[0m\u001b[0;34m\u001b[0m\u001b[0m\n\u001b[1;32m    259\u001b[0m         '''\n\u001b[0;32m--> 260\u001b[0;31m         \u001b[0;32mreturn\u001b[0m \u001b[0mself\u001b[0m\u001b[0;34m.\u001b[0m\u001b[0m_map_async\u001b[0m\u001b[0;34m(\u001b[0m\u001b[0mfunc\u001b[0m\u001b[0;34m,\u001b[0m \u001b[0miterable\u001b[0m\u001b[0;34m,\u001b[0m \u001b[0mmapstar\u001b[0m\u001b[0;34m,\u001b[0m \u001b[0mchunksize\u001b[0m\u001b[0;34m)\u001b[0m\u001b[0;34m.\u001b[0m\u001b[0mget\u001b[0m\u001b[0;34m(\u001b[0m\u001b[0;34m)\u001b[0m\u001b[0;34m\u001b[0m\u001b[0m\n\u001b[0m\u001b[1;32m    261\u001b[0m \u001b[0;34m\u001b[0m\u001b[0m\n\u001b[1;32m    262\u001b[0m     \u001b[0;32mdef\u001b[0m \u001b[0mstarmap\u001b[0m\u001b[0;34m(\u001b[0m\u001b[0mself\u001b[0m\u001b[0;34m,\u001b[0m \u001b[0mfunc\u001b[0m\u001b[0;34m,\u001b[0m \u001b[0miterable\u001b[0m\u001b[0;34m,\u001b[0m \u001b[0mchunksize\u001b[0m\u001b[0;34m=\u001b[0m\u001b[0;32mNone\u001b[0m\u001b[0;34m)\u001b[0m\u001b[0;34m:\u001b[0m\u001b[0;34m\u001b[0m\u001b[0m\n",
      "\u001b[0;32m/Library/Frameworks/Python.framework/Versions/3.6/lib/python3.6/multiprocessing/pool.py\u001b[0m in \u001b[0;36mget\u001b[0;34m(self, timeout)\u001b[0m\n\u001b[1;32m    606\u001b[0m             \u001b[0;32mreturn\u001b[0m \u001b[0mself\u001b[0m\u001b[0;34m.\u001b[0m\u001b[0m_value\u001b[0m\u001b[0;34m\u001b[0m\u001b[0m\n\u001b[1;32m    607\u001b[0m         \u001b[0;32melse\u001b[0m\u001b[0;34m:\u001b[0m\u001b[0;34m\u001b[0m\u001b[0m\n\u001b[0;32m--> 608\u001b[0;31m             \u001b[0;32mraise\u001b[0m \u001b[0mself\u001b[0m\u001b[0;34m.\u001b[0m\u001b[0m_value\u001b[0m\u001b[0;34m\u001b[0m\u001b[0m\n\u001b[0m\u001b[1;32m    609\u001b[0m \u001b[0;34m\u001b[0m\u001b[0m\n\u001b[1;32m    610\u001b[0m     \u001b[0;32mdef\u001b[0m \u001b[0m_set\u001b[0m\u001b[0;34m(\u001b[0m\u001b[0mself\u001b[0m\u001b[0;34m,\u001b[0m \u001b[0mi\u001b[0m\u001b[0;34m,\u001b[0m \u001b[0mobj\u001b[0m\u001b[0;34m)\u001b[0m\u001b[0;34m:\u001b[0m\u001b[0;34m\u001b[0m\u001b[0m\n",
      "\u001b[0;31mKeyError\u001b[0m: 'sdf'"
     ]
    }
   ],
   "source": [
    "def get_sdf(r):\n",
    "    mdf_base = r['mdf']\n",
    "    URL = mdf_base['links']['sdf']['http_host']+mdf_base['links']['sdf']['path']\n",
    "    response = requests.get(URL)\n",
    "    r_data = ase_read(StringIO(response.text), format=\"sdf\")\n",
    "    return r_data\n",
    "\n",
    "tasks = res\n",
    "n_workers = 5\n",
    "\n",
    "mp = Pool(n_workers)\n",
    "mdf_data = mp.map(get_sdf, tasks)\n",
    "mp.close()\n",
    "mp.join()\n",
    "\n",
    "formulae = [d.get_chemical_formula() for d in mdf_data]\n",
    "df_cyto = pd.DataFrame({\"formula\":formulae, \"data\":mdf_data})\n"
   ]
  },
  {
   "cell_type": "markdown",
   "metadata": {
    "deletable": true,
    "editable": true
   },
   "source": [
    "## Visualize a retrieved molecule"
   ]
  },
  {
   "cell_type": "code",
   "execution_count": null,
   "metadata": {
    "collapsed": false,
    "deletable": true,
    "editable": true
   },
   "outputs": [],
   "source": [
    "print(mdf_data[0].get_chemical_formula())\n",
    "view(mdf_data[0], viewer='x3d')"
   ]
  },
  {
   "cell_type": "markdown",
   "metadata": {
    "deletable": true,
    "editable": true
   },
   "source": [
    "## Get records via Globus for a larger, mixed source, result set"
   ]
  },
  {
   "cell_type": "code",
   "execution_count": null,
   "metadata": {
    "collapsed": false,
    "deletable": true,
    "editable": true
   },
   "outputs": [],
   "source": [
    "elements = [\"Al\",\"Ti\"]\n",
    "sources = [\"trinkle_elastic_fe_bcc\", \"dilute_mg_alloys_dft\"]\n",
    "my_ep = \"c8ee7e5c-6d04-11e5-ba46-22000b92c6ec\"\n",
    "#my_path = \"/Users/ben/Desktop/blaiszik-macbookpro/Ti\" # This path should be writeable by Globus\n",
    "my_path = \"/Users/jonathongaff/Downloads/tmpstuff\"\n",
    "\n",
    "mdf = Forge()\n",
    "res = mdf.search_by_elements(elements=elements, sources=sources, limit=10)\n",
    "mdf.globus_download(res, dest=my_path, \n",
    "               local_ep=my_ep, preserve_dir=True)"
   ]
  },
  {
   "cell_type": "code",
   "execution_count": null,
   "metadata": {
    "collapsed": true,
    "deletable": true,
    "editable": true
   },
   "outputs": [],
   "source": []
  }
 ],
 "metadata": {
  "kernelspec": {
   "display_name": "Python 3",
   "language": "python",
   "name": "python3"
  },
  "language_info": {
   "codemirror_mode": {
    "name": "ipython",
    "version": 3
   },
   "file_extension": ".py",
   "mimetype": "text/x-python",
   "name": "python",
   "nbconvert_exporter": "python",
   "pygments_lexer": "ipython3",
   "version": "3.6.0"
  }
 },
 "nbformat": 4,
 "nbformat_minor": 2
}
