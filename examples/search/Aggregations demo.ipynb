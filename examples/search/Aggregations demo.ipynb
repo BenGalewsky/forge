{
 "cells": [
  {
   "cell_type": "markdown",
   "metadata": {
    "deletable": true,
    "editable": true
   },
   "source": [
    "# Aggregating data with MDF"
   ]
  },
  {
   "cell_type": "markdown",
   "metadata": {
    "deletable": true,
    "editable": true
   },
   "source": [
    "Searches using `Forge.search()` are limited to 10,000 results. However, there are two methods to circumvent this restriction: `Forge.aggregate_source()` and `Forge.aggregate()`."
   ]
  },
  {
   "cell_type": "code",
   "execution_count": 1,
   "metadata": {
    "collapsed": true,
    "deletable": true,
    "editable": true
   },
   "outputs": [],
   "source": [
    "import json\n",
    "from mdf_forge.forge import Forge"
   ]
  },
  {
   "cell_type": "code",
   "execution_count": 2,
   "metadata": {
    "collapsed": true,
    "deletable": true,
    "editable": true
   },
   "outputs": [],
   "source": [
    "mdf = Forge()"
   ]
  },
  {
   "cell_type": "markdown",
   "metadata": {
    "deletable": true,
    "editable": true
   },
   "source": [
    "## Aggregate Source NIST XPS DB"
   ]
  },
  {
   "cell_type": "code",
   "execution_count": 3,
   "metadata": {
    "collapsed": false,
    "deletable": true,
    "editable": true
   },
   "outputs": [
    {
     "name": "stdout",
     "output_type": "stream",
     "text": [
      "29189\n"
     ]
    }
   ],
   "source": [
    "all_entries = mdf.aggregate_source(\"nist_xps_db\")\n",
    "print(len(all_entries))"
   ]
  },
  {
   "cell_type": "code",
   "execution_count": 4,
   "metadata": {
    "collapsed": false,
    "deletable": true,
    "editable": true
   },
   "outputs": [
    {
     "name": "stdout",
     "output_type": "stream",
     "text": [
      "{'Adequate': 11630, '': 15940, 'Good': 1615, 'good': 4}\n"
     ]
    }
   ],
   "source": [
    "qualities = {}\n",
    "for record in all_entries:\n",
    "    if record[\"mdf\"][\"resource_type\"] == \"record\":\n",
    "        raw = json.loads(record[\"mdf\"][\"raw\"])\n",
    "        if raw[\"Quality of Data\"] in qualities.keys():\n",
    "            qualities[raw[\"Quality of Data\"]] += 1\n",
    "        else:\n",
    "            qualities[raw[\"Quality of Data\"]] = 1\n",
    "print(qualities)"
   ]
  },
  {
   "cell_type": "markdown",
   "metadata": {
    "deletable": true,
    "editable": true
   },
   "source": [
    "## Aggregate query across multiple datasets"
   ]
  },
  {
   "cell_type": "code",
   "execution_count": 5,
   "metadata": {
    "collapsed": false,
    "deletable": true,
    "editable": true
   },
   "outputs": [
    {
     "name": "stderr",
     "output_type": "stream",
     "text": [
      "100%|██████████| 25299/25299 [01:03<00:00, 342.95it/s]"
     ]
    },
    {
     "name": "stdout",
     "output_type": "stream",
     "text": [
      "25299\n"
     ]
    },
    {
     "name": "stderr",
     "output_type": "stream",
     "text": [
      "\n"
     ]
    }
   ],
   "source": [
    "all_results = mdf.aggregate(\"mdf.elements:Ga\")\n",
    "print(len(all_results))"
   ]
  },
  {
   "cell_type": "code",
   "execution_count": 6,
   "metadata": {
    "collapsed": false,
    "deletable": true,
    "editable": true
   },
   "outputs": [
    {
     "name": "stdout",
     "output_type": "stream",
     "text": [
      "{\n",
      "    \"Ac\": 625,\n",
      "    \"Ag\": 548,\n",
      "    \"Al\": 555,\n",
      "    \"Ar\": 2,\n",
      "    \"As\": 1252,\n",
      "    \"Au\": 588,\n",
      "    \"B\": 536,\n",
      "    \"Ba\": 671,\n",
      "    \"Be\": 496,\n",
      "    \"Bi\": 547,\n",
      "    \"Br\": 53,\n",
      "    \"C\": 122,\n",
      "    \"Ca\": 617,\n",
      "    \"Cd\": 563,\n",
      "    \"Ce\": 597,\n",
      "    \"Cl\": 89,\n",
      "    \"Co\": 874,\n",
      "    \"Cr\": 679,\n",
      "    \"Cs\": 501,\n",
      "    \"Cu\": 660,\n",
      "    \"Dy\": 576,\n",
      "    \"Er\": 637,\n",
      "    \"Eu\": 560,\n",
      "    \"F\": 113,\n",
      "    \"Fe\": 647,\n",
      "    \"Ga\": 25299,\n",
      "    \"Gd\": 575,\n",
      "    \"Ge\": 646,\n",
      "    \"H\": 205,\n",
      "    \"Hf\": 630,\n",
      "    \"Hg\": 524,\n",
      "    \"Ho\": 567,\n",
      "    \"I\": 56,\n",
      "    \"In\": 579,\n",
      "    \"Ir\": 541,\n",
      "    \"K\": 584,\n",
      "    \"La\": 803,\n",
      "    \"Li\": 854,\n",
      "    \"Lu\": 512,\n",
      "    \"Mg\": 932,\n",
      "    \"Mn\": 609,\n",
      "    \"Mo\": 569,\n",
      "    \"N\": 172,\n",
      "    \"Na\": 721,\n",
      "    \"Nb\": 536,\n",
      "    \"Nd\": 573,\n",
      "    \"Ni\": 722,\n",
      "    \"Np\": 501,\n",
      "    \"O\": 2634,\n",
      "    \"Os\": 663,\n",
      "    \"P\": 175,\n",
      "    \"Pa\": 565,\n",
      "    \"Pb\": 517,\n",
      "    \"Pd\": 601,\n",
      "    \"Pm\": 618,\n",
      "    \"Pr\": 691,\n",
      "    \"Pt\": 698,\n",
      "    \"Pu\": 526,\n",
      "    \"Rb\": 545,\n",
      "    \"Re\": 494,\n",
      "    \"Rh\": 551,\n",
      "    \"Ru\": 531,\n",
      "    \"S\": 191,\n",
      "    \"Sb\": 566,\n",
      "    \"Sc\": 680,\n",
      "    \"Se\": 174,\n",
      "    \"Si\": 778,\n",
      "    \"Sm\": 732,\n",
      "    \"Sn\": 538,\n",
      "    \"Sr\": 611,\n",
      "    \"Ta\": 542,\n",
      "    \"Tb\": 564,\n",
      "    \"Tc\": 505,\n",
      "    \"Te\": 677,\n",
      "    \"Th\": 509,\n",
      "    \"Ti\": 639,\n",
      "    \"Tl\": 678,\n",
      "    \"Tm\": 570,\n",
      "    \"U\": 478,\n",
      "    \"V\": 675,\n",
      "    \"W\": 551,\n",
      "    \"Xe\": 1,\n",
      "    \"Y\": 670,\n",
      "    \"Yb\": 701,\n",
      "    \"Zn\": 620,\n",
      "    \"Zr\": 618\n",
      "}\n"
     ]
    }
   ],
   "source": [
    "elements = {}\n",
    "for record in all_results:\n",
    "    if record[\"mdf\"][\"resource_type\"] == \"record\":\n",
    "        elems = record[\"mdf\"][\"elements\"]\n",
    "        for elem in elems:\n",
    "            if elem in elements.keys():\n",
    "                elements[elem] += 1\n",
    "            else:\n",
    "                elements[elem] = 1\n",
    "print(json.dumps(elements, sort_keys=True, indent=4, separators=(',', ': ')))"
   ]
  },
  {
   "cell_type": "code",
   "execution_count": null,
   "metadata": {
    "collapsed": true,
    "deletable": true,
    "editable": true
   },
   "outputs": [],
   "source": []
  }
 ],
 "metadata": {
  "kernelspec": {
   "display_name": "Python 3",
   "language": "python",
   "name": "python3"
  },
  "language_info": {
   "codemirror_mode": {
    "name": "ipython",
    "version": 3
   },
   "file_extension": ".py",
   "mimetype": "text/x-python",
   "name": "python",
   "nbconvert_exporter": "python",
   "pygments_lexer": "ipython3",
   "version": "3.6.0"
  }
 },
 "nbformat": 4,
 "nbformat_minor": 2
}
