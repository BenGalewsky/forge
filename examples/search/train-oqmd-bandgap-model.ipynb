{
 "cells": [
  {
   "cell_type": "markdown",
   "metadata": {
    "deletable": true,
    "editable": true
   },
   "source": [
    "# Train a Model to Predict Formation Energy using the MDF\n",
    "This notebook demonstrates how to create an model to predict the formation energy of crystalline materials using data from the MDF. Specifically, we will use data from the OQMD and train a model using the technique describe in a recent paper by [Ward *et al.*](https://www.nature.com/articles/npjcompumats201628)"
   ]
  },
  {
   "cell_type": "code",
   "execution_count": 1,
   "metadata": {
    "collapsed": false,
    "deletable": true,
    "editable": true
   },
   "outputs": [],
   "source": [
    "%matplotlib inline\n",
    "import globus_sdk\n",
    "from utils.globus_client import DataSearchClient\n",
    "from pymatgen import Composition\n",
    "from pymatgen.core.periodic_table import Element\n",
    "from matminer.featurizers import composition as cf\n",
    "from sklearn.ensemble import RandomForestRegressor\n",
    "from sklearn.model_selection import cross_val_score, cross_val_predict, GridSearchCV\n",
    "from sklearn import metrics\n",
    "from matplotlib import pyplot as plt\n",
    "from tqdm import tqdm_notebook as tqdm\n",
    "import numpy as np\n",
    "import itertools\n",
    "import json\n",
    "import os\n",
    "import pandas as pd\n",
    "import requests\n",
    "import os\n",
    "import shutil\n",
    "CLIENT_ID='0013a791-276e-4e31-8cbe-005a8cfe1ba2'"
   ]
  },
  {
   "cell_type": "markdown",
   "metadata": {},
   "source": [
    "Settings to change"
   ]
  },
  {
   "cell_type": "code",
   "execution_count": 2,
   "metadata": {
    "collapsed": true
   },
   "outputs": [],
   "source": [
    "quick_demo = True # Whether to run a full-sized calculation"
   ]
  },
  {
   "cell_type": "markdown",
   "metadata": {
    "deletable": true,
    "editable": true
   },
   "source": [
    "## Create GlobusAuth Client\n",
    "*Note*: On your first time running this, it will ask for you to log into Globus\n",
    "\n",
    "GlobusAuth is the tool the Materials Data Facility (and other Globus products) use for security. It allows you to us to use credentials from institutions (e.g., UIUC) to control access to data. \n",
    "\n",
    "This part of the notebook asks for your credentials and uses them to access restricted data. (The OQMD raw data is not yet fully open to the public.) It then creates clients that \"black box\" how Python is talking to Globus to get you access to the data. We're working to further simplify this process, so you can happily ignore this part if you'd prefer. I've explained what is going on if you are curious."
   ]
  },
  {
   "cell_type": "code",
   "execution_count": 3,
   "metadata": {
    "collapsed": true,
    "deletable": true,
    "editable": true
   },
   "outputs": [],
   "source": [
    "client = globus_sdk.NativeAppAuthClient(CLIENT_ID)"
   ]
  },
  {
   "cell_type": "markdown",
   "metadata": {
    "deletable": true,
    "editable": true
   },
   "source": [
    "This part will ask for you to log in to Globus and then will save some security tokens to your computer. You'll only have to do this once"
   ]
  },
  {
   "cell_type": "code",
   "execution_count": 4,
   "metadata": {
    "collapsed": false,
    "deletable": true,
    "editable": true
   },
   "outputs": [],
   "source": [
    "if not os.path.isfile('auth_data.json'):\n",
    "    # Get scopes for all things Globus\n",
    "    client.oauth2_start_flow(requested_scopes=' '.join([\n",
    "        'urn:globus:auth:scope:data.materialsdatafacility.org:all',\n",
    "        'urn:globus:auth:scope:transfer.api.globus.org:all',\n",
    "        'urn:globus:auth:scope:datasearch.api.globus.org:all'\n",
    "    ]),\n",
    "                            refresh_tokens=True)\n",
    "    authorize_url = client.oauth2_get_authorize_url()\n",
    "    print('Please go to this URL and login: {0}'.format(authorize_url))\n",
    "\n",
    "    # Get the tokens\n",
    "    get_input = getattr(__builtins__, 'raw_input', input)\n",
    "    auth_code = get_input(\n",
    "        'Please enter the code you get after login here: ').strip()\n",
    "    token_response = client.oauth2_exchange_code_for_tokens(auth_code)\n",
    "\n",
    "    # Save to disk\n",
    "    json.dump(token_response.by_resource_server, open('auth_data.json', 'w'))"
   ]
  },
  {
   "cell_type": "markdown",
   "metadata": {
    "deletable": true,
    "editable": true
   },
   "source": [
    "Load in the authorization data from file"
   ]
  },
  {
   "cell_type": "code",
   "execution_count": 5,
   "metadata": {
    "collapsed": true,
    "deletable": true,
    "editable": true
   },
   "outputs": [],
   "source": [
    "auth_data = json.load(open('auth_data.json'))"
   ]
  },
  {
   "cell_type": "code",
   "execution_count": 6,
   "metadata": {
    "collapsed": false,
    "deletable": true,
    "editable": true
   },
   "outputs": [],
   "source": [
    "def get_authorization(resource, auth_data=auth_data):\n",
    "    \"\"\"Get a refresh token authorizer for a certain resource:\n",
    "    :param resource: str, name of resource (ex: \"datasearch.api.globus.org\")\n",
    "    :param auth_data: dict, tokens by resource (from Globus)\"\"\"\n",
    "    return globus_sdk.RefreshTokenAuthorizer(\n",
    "        auth_data[resource]['refresh_token'],\n",
    "        client,\n",
    "        access_token=auth_data[resource]['access_token'],\n",
    "        expires_at=auth_data[resource]['expires_at_seconds'])\n",
    "search_authorizer=get_authorization(\"datasearch.api.globus.org\")\n",
    "http_authorizer=get_authorization(\"data.materialsdatafacility.org\")"
   ]
  },
  {
   "cell_type": "markdown",
   "metadata": {
    "deletable": true,
    "editable": true
   },
   "source": [
    "Create the search client. This tool is a Python wrapper that handles authenticating with a website running our search"
   ]
  },
  {
   "cell_type": "code",
   "execution_count": 7,
   "metadata": {
    "collapsed": false,
    "deletable": true,
    "editable": true
   },
   "outputs": [],
   "source": [
    "client = DataSearchClient(\"https://search.api.globus.org/\", \"mdf\", authorizer=search_authorizer)"
   ]
  },
  {
   "cell_type": "markdown",
   "metadata": {
    "deletable": true,
    "editable": true
   },
   "source": [
    "## Get All ICSD Calculations from the OQMD"
   ]
  },
  {
   "cell_type": "code",
   "execution_count": 8,
   "metadata": {
    "collapsed": false,
    "deletable": true,
    "editable": true
   },
   "outputs": [
    {
     "name": "stdout",
     "output_type": "stream",
     "text": [
      "Found 329533 compounds\n"
     ]
    }
   ],
   "source": [
    "query_string = 'mdf.source_name:oqmd AND (oqmd.configuration:static OR oqmd.configuration:standard) AND oqmd.converged:True'\n",
    "result_records = client.search(query_string, advanced=True)\n",
    "compound_count = result_records['total']\n",
    "print('Found %d compounds'%compound_count)"
   ]
  },
  {
   "cell_type": "markdown",
   "metadata": {},
   "source": [
    "Reduce count for short demos"
   ]
  },
  {
   "cell_type": "code",
   "execution_count": 9,
   "metadata": {
    "collapsed": false
   },
   "outputs": [],
   "source": [
    "if quick_demo:\n",
    "    compound_count = 2000"
   ]
  },
  {
   "cell_type": "markdown",
   "metadata": {
    "deletable": true,
    "editable": true
   },
   "source": [
    "Our web service currently limits only getting `10k` records at a time. This part of the code gets records in a series of chunk\n",
    "\n",
    "*Note*: We are also working to this limitation of our web service invisible to users. "
   ]
  },
  {
   "cell_type": "code",
   "execution_count": 10,
   "metadata": {
    "collapsed": false,
    "deletable": true,
    "editable": true
   },
   "outputs": [
    {
     "name": "stdout",
     "output_type": "stream",
     "text": [
      "Retrieved 6847/2000. Scroll position=0 - All done!\n",
      "Wall time: 12.8 s\n"
     ]
    }
   ],
   "source": [
    "%%time\n",
    "all_oqmd_compounds = []\n",
    "scroll_pos = 0\n",
    "scroll_width = 10000\n",
    "while len(all_oqmd_compounds) < compound_count:\n",
    "    result_records = client.search(query_string +\n",
    "                                   ' AND mdf.scroll_id:>=%d AND mdf.scroll_id:<%d'%(scroll_pos, scroll_pos+scroll_width),\n",
    "                                   advanced=True, limit=scroll_width)\n",
    "    all_oqmd_compounds.extend(result_records['gmeta'])\n",
    "    print('\\rRetrieved %d/%d. Scroll position=%d'%(len(all_oqmd_compounds), compound_count, scroll_pos), end=\"\")\n",
    "    scroll_pos += scroll_width\n",
    "print(' - All done!')"
   ]
  },
  {
   "cell_type": "code",
   "execution_count": 11,
   "metadata": {
    "collapsed": false,
    "deletable": true,
    "editable": true
   },
   "outputs": [
    {
     "data": {
      "text/plain": [
       "{'@datatype': 'GMetaResult',\n",
       " '@version': '2016-11-09',\n",
       " 'content': [{'mdf': {'collection': 'OQMD',\n",
       "    'composition': 'Si1Te1Zr1',\n",
       "    'elements': ['Zr', 'Si', 'Te'],\n",
       "    'ingest_date': '2017-08-04T14:19:15.465243Z',\n",
       "    'links': {'landing_page': 'http://oqmd.org/analysis/calculation/19606',\n",
       "     'metadata': {'globus_endpoint': '82f1b5c6-6e9b-11e5-ba47-22000b92c6ec',\n",
       "      'http_host': 'https://data.materialsdatafacility.org',\n",
       "      'path': '/collections/oqmd/data/home/oqmd/libraries/icsd/15572/static/metadata.json'},\n",
       "     'outcar': {'globus_endpoint': '82f1b5c6-6e9b-11e5-ba47-22000b92c6ec',\n",
       "      'http_host': 'https://data.materialsdatafacility.org',\n",
       "      'path': '/collections/oqmd/data/home/oqmd/libraries/icsd/15572/static/OUTCAR'},\n",
       "     'parent_id': '5984824ba5ea60170af49754'},\n",
       "    'mdf_id': '59848263a5ea60172af4aadc',\n",
       "    'metadata_version': '0.3.2',\n",
       "    'resource_type': 'record',\n",
       "    'scroll_id': 5000,\n",
       "    'source_name': 'oqmd',\n",
       "    'tags': ['metadata', 'outcar'],\n",
       "    'title': 'OQMD - Si1Te1Zr1'},\n",
       "   'oqmd': {'band_gap': {'units': 'eV', 'value': 0.0},\n",
       "    'configuration': 'static',\n",
       "    'converged': True,\n",
       "    'crossreference': {'icsd': 15572},\n",
       "    'delta_e': {'units': 'eV/atom', 'value': -0.80266447611111},\n",
       "    'magnetic_moment': {'units': 'bohr/atom', 'value': 9.85166666666667e-05},\n",
       "    'spacegroup': 129,\n",
       "    'stability': {'units': 'eV/atom', 'value': -0.035833284405952},\n",
       "    'total_energy': {'units': 'eV/atom', 'value': -6.50730023},\n",
       "    'volume': {'units': 'angstrom^3/atom', 'value': 22.4786}}}],\n",
       " 'subject': 'http://oqmd.org/analysis/calculation/19606'}"
      ]
     },
     "execution_count": 11,
     "metadata": {},
     "output_type": "execute_result"
    }
   ],
   "source": [
    "all_oqmd_compounds[0]"
   ]
  },
  {
   "cell_type": "markdown",
   "metadata": {
    "deletable": true,
    "editable": true
   },
   "source": [
    "## Compile the Training Set\n",
    "First transform the data into a Pandas DataFrame, "
   ]
  },
  {
   "cell_type": "code",
   "execution_count": 12,
   "metadata": {
    "collapsed": false,
    "deletable": true,
    "editable": true
   },
   "outputs": [],
   "source": [
    "data = pd.DataFrame([x['subject'] for x in all_oqmd_compounds], columns=['oqmd_url'])"
   ]
  },
  {
   "cell_type": "markdown",
   "metadata": {
    "deletable": true,
    "editable": true
   },
   "source": [
    "Get the composition and OQMD"
   ]
  },
  {
   "cell_type": "code",
   "execution_count": 13,
   "metadata": {
    "collapsed": false,
    "deletable": true,
    "editable": true
   },
   "outputs": [],
   "source": [
    "def get_data(entry):\n",
    "    \"\"\"Get the composition, structure, band gap, and stability of an entry given its search result\n",
    "    \n",
    "    :param entry: dict, metadata for an entry as returned by Globus search\n",
    "    :return: Several items\n",
    "        - str, composition of the material\n",
    "        - float, band-gap energy of material\n",
    "        - float, Energy per atom (eV/atom)\"\"\"\n",
    "    \n",
    "    \n",
    "    # Get the metadata as a dict\n",
    "    oqmd_data = entry['content'][0]['oqmd']\n",
    "    \n",
    "    # Return results\n",
    "    return entry['content'][0]['mdf']['composition'], \\\n",
    "        oqmd_data.get('delta_e', {}).get('value'), \\\n",
    "        oqmd_data['total_energy'].get('value', np.nan)"
   ]
  },
  {
   "cell_type": "code",
   "execution_count": 14,
   "metadata": {
    "collapsed": false,
    "deletable": true,
    "editable": true
   },
   "outputs": [],
   "source": [
    "data['composition'], data['delta_e'], data['energy'] = list(zip(*[get_data(x) for x in all_oqmd_compounds]))"
   ]
  },
  {
   "cell_type": "markdown",
   "metadata": {
    "deletable": true,
    "editable": true
   },
   "source": [
    "Convert compositions to `pymatgen` objects"
   ]
  },
  {
   "cell_type": "code",
   "execution_count": 15,
   "metadata": {
    "collapsed": true,
    "deletable": true,
    "editable": true
   },
   "outputs": [],
   "source": [
    "data['composition_pmg'] = data['composition'].apply(lambda x: Composition(x))"
   ]
  },
  {
   "cell_type": "markdown",
   "metadata": {
    "deletable": true,
    "editable": true
   },
   "source": [
    "Remove compounds w/o a `band_gap` or `energy` property"
   ]
  },
  {
   "cell_type": "code",
   "execution_count": 16,
   "metadata": {
    "collapsed": false,
    "deletable": true,
    "editable": true
   },
   "outputs": [
    {
     "name": "stdout",
     "output_type": "stream",
     "text": [
      "Removed 1/6847 entires\n"
     ]
    }
   ],
   "source": [
    "original_count = len(data)\n",
    "data = data[~ np.logical_or(data['delta_e'].isnull(), data['energy'].isnull())]\n",
    "print('Removed %d/%d entires'%(original_count - len(data), original_count))"
   ]
  },
  {
   "cell_type": "markdown",
   "metadata": {
    "deletable": true,
    "editable": true
   },
   "source": [
    "Get only the groundstate and each composition"
   ]
  },
  {
   "cell_type": "code",
   "execution_count": 17,
   "metadata": {
    "collapsed": false,
    "deletable": true,
    "editable": true
   },
   "outputs": [
    {
     "name": "stderr",
     "output_type": "stream",
     "text": [
      "c:\\users\\ward6\\documents\\code\\python\\pymatgen\\pymatgen\\core\\periodic_table.py:398: UserWarning: No electronegativity for Ne. Setting to infinity. This has no physical meaning, and is mainly done to avoid errors caused by the code expecting a float.\n",
      "  % self.symbol)\n",
      "c:\\users\\ward6\\documents\\code\\python\\pymatgen\\pymatgen\\core\\periodic_table.py:398: UserWarning: No electronegativity for He. Setting to infinity. This has no physical meaning, and is mainly done to avoid errors caused by the code expecting a float.\n",
      "  % self.symbol)\n"
     ]
    },
    {
     "name": "stdout",
     "output_type": "stream",
     "text": [
      "Removed 1014/6846 entires\n",
      "Wall time: 537 ms\n"
     ]
    }
   ],
   "source": [
    "%%time\n",
    "original_count = len(data)\n",
    "data['composition_str'] = data['composition_pmg'].apply(lambda x: x.reduced_formula)\n",
    "data.sort_values('energy', ascending=True, inplace=True)\n",
    "data.drop_duplicates('composition_str', keep='first', inplace=True)\n",
    "print('Removed %d/%d entires'%(original_count - len(data), original_count))"
   ]
  },
  {
   "cell_type": "markdown",
   "metadata": {
    "deletable": true,
    "editable": true
   },
   "source": [
    "## Build an ML model\n",
    "In this part of the notebook, we build a ML model using [scikit-learn](http://scikit-learn.org/stable/) and evaluate its performance using cross-validation."
   ]
  },
  {
   "cell_type": "markdown",
   "metadata": {
    "deletable": true,
    "editable": true
   },
   "source": [
    "### Part 1: Compute Representation\n",
    "The first step in building a ML model is to convert the raw materials data (here: the composition) into the required input for an ML model: a finite list of quantitative attributes. In this example, we use the \"general-purpose\" attributes of [Ward *et al* 2016](https://www.nature.com/articles/npjcompumats201628)."
   ]
  },
  {
   "cell_type": "code",
   "execution_count": 18,
   "metadata": {
    "collapsed": false,
    "deletable": true,
    "editable": true
   },
   "outputs": [],
   "source": [
    "feature_calculators = [cf.Stoichiometry(), cf.ElementProperty(method=\"magpie\"), \\\n",
    "                      cf.ValenceOrbital(props=['frac']), cf.IonProperty()]"
   ]
  },
  {
   "cell_type": "markdown",
   "metadata": {
    "deletable": true,
    "editable": true
   },
   "source": [
    "Get the feature names"
   ]
  },
  {
   "cell_type": "code",
   "execution_count": 19,
   "metadata": {
    "collapsed": true,
    "deletable": true,
    "editable": true
   },
   "outputs": [],
   "source": [
    "feature_labels = list(itertools.chain.from_iterable([x.feature_labels() for x in feature_calculators]))"
   ]
  },
  {
   "cell_type": "markdown",
   "metadata": {
    "deletable": true,
    "editable": true
   },
   "source": [
    "Compute the features"
   ]
  },
  {
   "cell_type": "code",
   "execution_count": 20,
   "metadata": {
    "collapsed": false,
    "deletable": true,
    "editable": true
   },
   "outputs": [
    {
     "name": "stderr",
     "output_type": "stream",
     "text": [
      "c:\\users\\ward6\\documents\\code\\python\\pymatgen\\pymatgen\\core\\periodic_table.py:398: UserWarning: No electronegativity for Ne. Setting to infinity. This has no physical meaning, and is mainly done to avoid errors caused by the code expecting a float.\n",
      "  % self.symbol)\n",
      "c:\\users\\ward6\\documents\\code\\python\\pymatgen\\pymatgen\\core\\periodic_table.py:398: UserWarning: No electronegativity for He. Setting to infinity. This has no physical meaning, and is mainly done to avoid errors caused by the code expecting a float.\n",
      "  % self.symbol)\n"
     ]
    },
    {
     "name": "stdout",
     "output_type": "stream",
     "text": [
      "Wall time: 26.7 s\n"
     ]
    }
   ],
   "source": [
    "%%time\n",
    "for fc in feature_calculators:\n",
    "    data = fc.featurize_dataframe(data, col_id='composition_pmg')"
   ]
  },
  {
   "cell_type": "code",
   "execution_count": 21,
   "metadata": {
    "collapsed": false,
    "deletable": true,
    "editable": true
   },
   "outputs": [
    {
     "name": "stdout",
     "output_type": "stream",
     "text": [
      "Generated 145 features\n",
      "Training set size: 5832x145\n"
     ]
    }
   ],
   "source": [
    "print('Generated %d features'%len(feature_labels))\n",
    "print('Training set size:', 'x'.join([str(x) for x in data[feature_labels].shape]))"
   ]
  },
  {
   "cell_type": "markdown",
   "metadata": {
    "deletable": true,
    "editable": true
   },
   "source": [
    "Remove entries with `NaN` or `infinite` features"
   ]
  },
  {
   "cell_type": "code",
   "execution_count": 22,
   "metadata": {
    "collapsed": false,
    "deletable": true,
    "editable": true
   },
   "outputs": [
    {
     "name": "stdout",
     "output_type": "stream",
     "text": [
      "Removed 2/5832 entires\n"
     ]
    }
   ],
   "source": [
    "original_count = len(data)\n",
    "data = data[~ data[feature_labels].isnull().any(axis=1)]\n",
    "print('Removed %d/%d entires'%(original_count - len(data), original_count))"
   ]
  },
  {
   "cell_type": "markdown",
   "metadata": {
    "deletable": true,
    "editable": true
   },
   "source": [
    "### Part 2: Tuning Model Hyper-parameters\n",
    "For brevity, we will only consider one ML algorithm in this example: [random forest](http://scikit-learn.org/stable/modules/generated/sklearn.ensemble.RandomForestRegressor.html#sklearn.ensemble.RandomForestRegressor). The \"random forest\" algorithm works by training many different decision tree models, where each is trained on a different subset of the dataset . Here, we tune one of the major parameters of the algoritm: the number features considered at each split in each decision tree"
   ]
  },
  {
   "cell_type": "code",
   "execution_count": 23,
   "metadata": {
    "collapsed": true,
    "deletable": true,
    "editable": true
   },
   "outputs": [],
   "source": [
    "model = GridSearchCV(RandomForestRegressor(n_estimators=20),\n",
    "                     param_grid=dict(max_features=range(8,15)),\n",
    "                     scoring='neg_mean_squared_error',\n",
    "                     n_jobs=-1,\n",
    "                    cv=10)"
   ]
  },
  {
   "cell_type": "code",
   "execution_count": 24,
   "metadata": {
    "collapsed": false,
    "deletable": true,
    "editable": true
   },
   "outputs": [
    {
     "data": {
      "text/plain": [
       "GridSearchCV(cv=10, error_score='raise',\n",
       "       estimator=RandomForestRegressor(bootstrap=True, criterion='mse', max_depth=None,\n",
       "           max_features='auto', max_leaf_nodes=None,\n",
       "           min_impurity_split=1e-07, min_samples_leaf=1,\n",
       "           min_samples_split=2, min_weight_fraction_leaf=0.0,\n",
       "           n_estimators=20, n_jobs=1, oob_score=False, random_state=None,\n",
       "           verbose=0, warm_start=False),\n",
       "       fit_params={}, iid=True, n_jobs=-1,\n",
       "       param_grid={'max_features': range(8, 15)}, pre_dispatch='2*n_jobs',\n",
       "       refit=True, return_train_score=True,\n",
       "       scoring='neg_mean_squared_error', verbose=0)"
      ]
     },
     "execution_count": 24,
     "metadata": {},
     "output_type": "execute_result"
    }
   ],
   "source": [
    "model.fit(data[feature_labels], data['delta_e'])"
   ]
  },
  {
   "cell_type": "markdown",
   "metadata": {
    "deletable": true,
    "editable": true
   },
   "source": [
    "Plot the tuning results. This shows the CV score as a function of the parameter we tuned \"max features\""
   ]
  },
  {
   "cell_type": "code",
   "execution_count": 25,
   "metadata": {
    "collapsed": false,
    "deletable": true,
    "editable": true
   },
   "outputs": [
    {
     "data": {
      "text/plain": [
       "-0.080894872877875348"
      ]
     },
     "execution_count": 25,
     "metadata": {},
     "output_type": "execute_result"
    }
   ],
   "source": [
    "model.best_score_"
   ]
  },
  {
   "cell_type": "code",
   "execution_count": 26,
   "metadata": {
    "collapsed": false,
    "deletable": true,
    "editable": true
   },
   "outputs": [
    {
     "data": {
      "text/plain": [
       "<matplotlib.text.Text at 0x2a2db272c50>"
      ]
     },
     "execution_count": 26,
     "metadata": {},
     "output_type": "execute_result"
    },
    {
     "data": {
      "image/png": "[encoded data removed]",
      "text/plain": [
       "<matplotlib.figure.Figure at 0x2a2dafa1b38>"
      ]
     },
     "metadata": {},
     "output_type": "display_data"
    }
   ],
   "source": [
    "fig, ax = plt.subplots()\n",
    "\n",
    "# Plot the score as a function of alpha\n",
    "ax.scatter(model.cv_results_['param_max_features'].data,\n",
    "          np.sqrt(-1 * model.cv_results_['mean_test_score']))\n",
    "ax.scatter([model.best_params_['max_features']], np.sqrt([-1*model.best_score_]), marker='o', color='r', s=40)\n",
    "ax.set_xlabel('Max. Features')\n",
    "ax.set_ylabel('RMSE (eV/atom)')"
   ]
  },
  {
   "cell_type": "markdown",
   "metadata": {
    "deletable": true,
    "editable": true
   },
   "source": [
    "Save our best model"
   ]
  },
  {
   "cell_type": "code",
   "execution_count": 27,
   "metadata": {
    "collapsed": false,
    "deletable": true,
    "editable": true
   },
   "outputs": [],
   "source": [
    "model = model.best_estimator_"
   ]
  },
  {
   "cell_type": "markdown",
   "metadata": {
    "deletable": true,
    "editable": true
   },
   "source": [
    "### Part 3: Cross-validation Test\n",
    "Quantify the performance of this model using 10-fold cross-validation"
   ]
  },
  {
   "cell_type": "code",
   "execution_count": 28,
   "metadata": {
    "collapsed": false,
    "deletable": true,
    "editable": true
   },
   "outputs": [],
   "source": [
    "cv_prediction = cross_val_predict(model, data[feature_labels], data['delta_e'], cv=10, n_jobs=-1)"
   ]
  },
  {
   "cell_type": "markdown",
   "metadata": {},
   "source": [
    "Compute aggregate statistics"
   ]
  },
  {
   "cell_type": "code",
   "execution_count": 29,
   "metadata": {
    "collapsed": false
   },
   "outputs": [
    {
     "name": "stdout",
     "output_type": "stream",
     "text": [
      "r2_score 0.874462053474\n",
      "mean_absolute_error 0.177062577527\n",
      "mean_squared_error 0.0838692144475\n"
     ]
    }
   ],
   "source": [
    "for scorer in ['r2_score', 'mean_absolute_error', 'mean_squared_error']:\n",
    "    score = getattr(metrics,scorer)(data['delta_e'], cv_prediction)\n",
    "    print(scorer, score)"
   ]
  },
  {
   "cell_type": "markdown",
   "metadata": {},
   "source": [
    "Plot the individual predictions"
   ]
  },
  {
   "cell_type": "code",
   "execution_count": 30,
   "metadata": {
    "collapsed": false,
    "deletable": true,
    "editable": true
   },
   "outputs": [
    {
     "data": {
      "image/png": "[encoded data removed]",
      "text/plain": [
       "<matplotlib.figure.Figure at 0x2a2dafa1898>"
      ]
     },
     "metadata": {},
     "output_type": "display_data"
    }
   ],
   "source": [
    "fig, ax = plt.subplots()\n",
    "\n",
    "ax.scatter(data['delta_e'], cv_prediction, color='crimson', alpha=0.5, edgecolor='none')\n",
    "\n",
    "ax.set_xlim(ax.get_ylim())\n",
    "ax.set_ylim(ax.get_xlim())\n",
    "\n",
    "ax.plot(ax.get_xlim(), ax.get_xlim(), 'k--')\n",
    "\n",
    "ax.set_xlabel('DFT $\\Delta H_f$ (eV)')\n",
    "ax.set_ylabel('ML $\\Delta H_f$ (eV)')\n",
    "\n",
    "fig.set_size_inches(4, 4)"
   ]
  },
  {
   "cell_type": "code",
   "execution_count": null,
   "metadata": {
    "collapsed": true,
    "deletable": true,
    "editable": true
   },
   "outputs": [],
   "source": []
  }
 ],
 "metadata": {
  "kernelspec": {
   "display_name": "Python 3",
   "language": "python",
   "name": "python3"
  },
  "language_info": {
   "codemirror_mode": {
    "name": "ipython",
    "version": 3
   },
   "file_extension": ".py",
   "mimetype": "text/x-python",
   "name": "python",
   "nbconvert_exporter": "python",
   "pygments_lexer": "ipython3",
   "version": "3.6.0"
  }
 },
 "nbformat": 4,
 "nbformat_minor": 2
}
