{
 "cells": [
  {
   "cell_type": "code",
   "execution_count": 1,
   "metadata": {
    "collapsed": true,
    "deletable": true,
    "editable": true
   },
   "outputs": [],
   "source": [
    "import pandas as pd\n",
    "\n",
    "import numpy as np\n",
    "import matplotlib.pyplot as plt\n",
    "import seaborn as sns\n",
    "%matplotlib inline\n",
    "\n",
    "import base_style\n",
    "sns.set_style(\"white\", base_style.base_style)\n",
    "sns.set_context(\"talk\", font_scale=1.5)\n",
    "\n",
    "# MDF imports\n",
    "#from mdf_dataworks.toolbox import login\n",
    "from mdf_forge import forge"
   ]
  },
  {
   "cell_type": "markdown",
   "metadata": {
    "deletable": true,
    "editable": true
   },
   "source": [
    "# Perform search by source"
   ]
  },
  {
   "cell_type": "code",
   "execution_count": 2,
   "metadata": {
    "collapsed": false,
    "deletable": true,
    "editable": true
   },
   "outputs": [],
   "source": [
    "source = \"oqmd\"\n",
    "\n",
    "mdf = forge.Forge()\n",
    "res = mdf.match_sources(source).search(limit=10000)"
   ]
  },
  {
   "cell_type": "markdown",
   "metadata": {
    "deletable": true,
    "editable": true
   },
   "source": [
    "# Combine results into a Dataframe"
   ]
  },
  {
   "cell_type": "code",
   "execution_count": 3,
   "metadata": {
    "collapsed": false,
    "deletable": true,
    "editable": true
   },
   "outputs": [
    {
     "data": {
      "text/html": [
       "<div>\n",
       "<table border=\"1\" class=\"dataframe\">\n",
       "  <thead>\n",
       "    <tr style=\"text-align: right;\">\n",
       "      <th></th>\n",
       "      <th>composition</th>\n",
       "      <th>stability</th>\n",
       "      <th>band_gap</th>\n",
       "    </tr>\n",
       "  </thead>\n",
       "  <tbody>\n",
       "    <tr>\n",
       "      <th>0</th>\n",
       "      <td>Te3U1</td>\n",
       "      <td>0.261648</td>\n",
       "      <td>0.000</td>\n",
       "    </tr>\n",
       "    <tr>\n",
       "      <th>1</th>\n",
       "      <td>Cs3Pd1</td>\n",
       "      <td>0.241725</td>\n",
       "      <td>0.000</td>\n",
       "    </tr>\n",
       "    <tr>\n",
       "      <th>6</th>\n",
       "      <td>Br3Np1</td>\n",
       "      <td>0.422719</td>\n",
       "      <td>0.369</td>\n",
       "    </tr>\n",
       "    <tr>\n",
       "      <th>7</th>\n",
       "      <td>Ag3As1</td>\n",
       "      <td>0.124531</td>\n",
       "      <td>0.000</td>\n",
       "    </tr>\n",
       "    <tr>\n",
       "      <th>9</th>\n",
       "      <td>Ag1P3</td>\n",
       "      <td>0.748293</td>\n",
       "      <td>0.000</td>\n",
       "    </tr>\n",
       "    <tr>\n",
       "      <th>11</th>\n",
       "      <td>Os3V1</td>\n",
       "      <td>0.080220</td>\n",
       "      <td>0.000</td>\n",
       "    </tr>\n",
       "    <tr>\n",
       "      <th>12</th>\n",
       "      <td>Br3Hf1</td>\n",
       "      <td>0.855093</td>\n",
       "      <td>0.000</td>\n",
       "    </tr>\n",
       "    <tr>\n",
       "      <th>13</th>\n",
       "      <td>Ce1In3</td>\n",
       "      <td>0.124162</td>\n",
       "      <td>0.000</td>\n",
       "    </tr>\n",
       "    <tr>\n",
       "      <th>14</th>\n",
       "      <td>Cs3Ge1</td>\n",
       "      <td>0.305651</td>\n",
       "      <td>0.000</td>\n",
       "    </tr>\n",
       "    <tr>\n",
       "      <th>18</th>\n",
       "      <td>Pb3Rb1</td>\n",
       "      <td>0.142274</td>\n",
       "      <td>0.000</td>\n",
       "    </tr>\n",
       "    <tr>\n",
       "      <th>20</th>\n",
       "      <td>F1Se3</td>\n",
       "      <td>0.558496</td>\n",
       "      <td>0.000</td>\n",
       "    </tr>\n",
       "    <tr>\n",
       "      <th>22</th>\n",
       "      <td>H1Pm3</td>\n",
       "      <td>0.378132</td>\n",
       "      <td>0.000</td>\n",
       "    </tr>\n",
       "    <tr>\n",
       "      <th>23</th>\n",
       "      <td>Au3Tc1</td>\n",
       "      <td>0.466075</td>\n",
       "      <td>0.000</td>\n",
       "    </tr>\n",
       "    <tr>\n",
       "      <th>27</th>\n",
       "      <td>Cu1Pb3</td>\n",
       "      <td>0.260282</td>\n",
       "      <td>0.000</td>\n",
       "    </tr>\n",
       "    <tr>\n",
       "      <th>28</th>\n",
       "      <td>Cd1Cr3</td>\n",
       "      <td>0.710466</td>\n",
       "      <td>0.000</td>\n",
       "    </tr>\n",
       "    <tr>\n",
       "      <th>29</th>\n",
       "      <td>Ba3N1</td>\n",
       "      <td>1.099230</td>\n",
       "      <td>0.000</td>\n",
       "    </tr>\n",
       "    <tr>\n",
       "      <th>33</th>\n",
       "      <td>Br1O3</td>\n",
       "      <td>1.258233</td>\n",
       "      <td>0.000</td>\n",
       "    </tr>\n",
       "    <tr>\n",
       "      <th>34</th>\n",
       "      <td>Ba1Be3</td>\n",
       "      <td>0.991683</td>\n",
       "      <td>0.000</td>\n",
       "    </tr>\n",
       "    <tr>\n",
       "      <th>35</th>\n",
       "      <td>Eu1Zr3</td>\n",
       "      <td>0.276657</td>\n",
       "      <td>0.000</td>\n",
       "    </tr>\n",
       "    <tr>\n",
       "      <th>36</th>\n",
       "      <td>Ba1Mo3</td>\n",
       "      <td>1.582449</td>\n",
       "      <td>0.000</td>\n",
       "    </tr>\n",
       "  </tbody>\n",
       "</table>\n",
       "</div>"
      ],
      "text/plain": [
       "   composition  stability  band_gap\n",
       "0        Te3U1   0.261648     0.000\n",
       "1       Cs3Pd1   0.241725     0.000\n",
       "6       Br3Np1   0.422719     0.369\n",
       "7       Ag3As1   0.124531     0.000\n",
       "9        Ag1P3   0.748293     0.000\n",
       "11       Os3V1   0.080220     0.000\n",
       "12      Br3Hf1   0.855093     0.000\n",
       "13      Ce1In3   0.124162     0.000\n",
       "14      Cs3Ge1   0.305651     0.000\n",
       "18      Pb3Rb1   0.142274     0.000\n",
       "20       F1Se3   0.558496     0.000\n",
       "22       H1Pm3   0.378132     0.000\n",
       "23      Au3Tc1   0.466075     0.000\n",
       "27      Cu1Pb3   0.260282     0.000\n",
       "28      Cd1Cr3   0.710466     0.000\n",
       "29       Ba3N1   1.099230     0.000\n",
       "33       Br1O3   1.258233     0.000\n",
       "34      Ba1Be3   0.991683     0.000\n",
       "35      Eu1Zr3   0.276657     0.000\n",
       "36      Ba1Mo3   1.582449     0.000"
      ]
     },
     "execution_count": 3,
     "metadata": {},
     "output_type": "execute_result"
    }
   ],
   "source": [
    "stability_gap = [(r.get(\"mdf\").get(\"composition\"), \n",
    "                  r.get(\"oqmd\",{}).get(\"stability\", {}).get(\"value\"),\n",
    "                  r.get(\"oqmd\",{}).get(\"band_gap\", {}).get(\"value\")) for r in res]\n",
    "df = pd.DataFrame(stability_gap, columns=[\"composition\",\"stability\",\"band_gap\"]).dropna()\n",
    "df = df.dropna()\n",
    "df.head(20)"
   ]
  },
  {
   "cell_type": "markdown",
   "metadata": {
    "deletable": true,
    "editable": true
   },
   "source": [
    "# Plot results"
   ]
  },
  {
   "cell_type": "code",
   "execution_count": 4,
   "metadata": {
    "collapsed": false,
    "deletable": true,
    "editable": true
   },
   "outputs": [
    {
     "name": "stderr",
     "output_type": "stream",
     "text": [
      "/Library/Frameworks/Python.framework/Versions/3.6/lib/python3.6/site-packages/matplotlib/font_manager.py:1297: UserWarning: findfont: Font family ['sans-serif'] not found. Falling back to DejaVu Sans\n",
      "  (prop.get_family(), self.defaultFamily[fontext]))\n"
     ]
    },
    {
     "data": {
      "text/plain": [
       "<seaborn.axisgrid.FacetGrid at 0x113cb3358>"
      ]
     },
     "execution_count": 4,
     "metadata": {},
     "output_type": "execute_result"
    },
    {
     "data": {
      "image/png": "[encoded data removed]",
      "text/plain": [
       "<matplotlib.figure.Figure at 0x113cb3208>"
      ]
     },
     "metadata": {},
     "output_type": "display_data"
    }
   ],
   "source": [
    "pal = sns.color_palette(\"muted\")\n",
    "\n",
    "x_col = \"band_gap\"\n",
    "y_col = \"stability\"\n",
    "\n",
    "# Make plot\n",
    "g = sns.lmplot(x=x_col, y=y_col, data=df, fit_reg=False, size=8, \n",
    "                               scatter_kws={\"s\": 75, \"alpha\": 0.5})\n",
    "# Set axis labels\n",
    "g.set_axis_labels(x_col + \" (eV)\", y_col)"
   ]
  },
  {
   "cell_type": "code",
   "execution_count": null,
   "metadata": {
    "collapsed": true,
    "deletable": true,
    "editable": true
   },
   "outputs": [],
   "source": []
  }
 ],
 "metadata": {
  "kernelspec": {
   "display_name": "Python 3",
   "language": "python",
   "name": "python3"
  },
  "language_info": {
   "codemirror_mode": {
    "name": "ipython",
    "version": 3
   },
   "file_extension": ".py",
   "mimetype": "text/x-python",
   "name": "python",
   "nbconvert_exporter": "python",
   "pygments_lexer": "ipython3",
   "version": "3.6.0"
  }
 },
 "nbformat": 4,
 "nbformat_minor": 2
}
