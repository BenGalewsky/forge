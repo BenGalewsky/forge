{
 "cells": [
  {
   "cell_type": "code",
   "execution_count": 1,
   "metadata": {
    "collapsed": true,
    "deletable": true,
    "editable": true
   },
   "outputs": [],
   "source": [
    "import pandas as pd\n",
    "\n",
    "import numpy as np\n",
    "import matplotlib.pyplot as plt\n",
    "import seaborn as sns\n",
    "%matplotlib inline\n",
    "\n",
    "import base_style\n",
    "sns.set_style(\"white\", base_style.base_style)\n",
    "sns.set_context(\"talk\", font_scale=1.5)\n",
    "\n",
    "# MDF imports\n",
    "#from mdf_dataworks.toolbox import login\n",
    "from mdf_forge import forge"
   ]
  },
  {
   "cell_type": "markdown",
   "metadata": {
    "deletable": true,
    "editable": true
   },
   "source": [
    "# Perform search by elements"
   ]
  },
  {
   "cell_type": "code",
   "execution_count": 2,
   "metadata": {
    "collapsed": false,
    "deletable": true,
    "editable": true
   },
   "outputs": [],
   "source": [
    "elements = [\"*\"]\n",
    "sources = [\"oqmd\"]\n",
    "\n",
    "mdf = forge.Forge()\n",
    "res = mdf.search_by_elements(elements=elements, sources=sources, limit=10000)"
   ]
  },
  {
   "cell_type": "markdown",
   "metadata": {
    "deletable": true,
    "editable": true
   },
   "source": [
    "# Combine results into a Dataframe"
   ]
  },
  {
   "cell_type": "code",
   "execution_count": 3,
   "metadata": {
    "collapsed": false,
    "deletable": true,
    "editable": true
   },
   "outputs": [
    {
     "data": {
      "text/html": [
       "<div>\n",
       "<table border=\"1\" class=\"dataframe\">\n",
       "  <thead>\n",
       "    <tr style=\"text-align: right;\">\n",
       "      <th></th>\n",
       "      <th>composition</th>\n",
       "      <th>stability</th>\n",
       "      <th>band_gap</th>\n",
       "    </tr>\n",
       "  </thead>\n",
       "  <tbody>\n",
       "    <tr>\n",
       "      <th>0</th>\n",
       "      <td>Lu1</td>\n",
       "      <td>0.012590</td>\n",
       "      <td>0.000</td>\n",
       "    </tr>\n",
       "    <tr>\n",
       "      <th>2</th>\n",
       "      <td>As1Y1</td>\n",
       "      <td>0.000044</td>\n",
       "      <td>0.000</td>\n",
       "    </tr>\n",
       "    <tr>\n",
       "      <th>4</th>\n",
       "      <td>Ge4O11</td>\n",
       "      <td>0.282271</td>\n",
       "      <td>2.613</td>\n",
       "    </tr>\n",
       "    <tr>\n",
       "      <th>5</th>\n",
       "      <td>Ge2Li3O6</td>\n",
       "      <td>0.191445</td>\n",
       "      <td>0.000</td>\n",
       "    </tr>\n",
       "    <tr>\n",
       "      <th>7</th>\n",
       "      <td>Mg1Y2</td>\n",
       "      <td>0.028971</td>\n",
       "      <td>0.000</td>\n",
       "    </tr>\n",
       "    <tr>\n",
       "      <th>8</th>\n",
       "      <td>O3Sn1</td>\n",
       "      <td>0.479129</td>\n",
       "      <td>1.261</td>\n",
       "    </tr>\n",
       "    <tr>\n",
       "      <th>12</th>\n",
       "      <td>O11Pd4</td>\n",
       "      <td>0.053285</td>\n",
       "      <td>0.000</td>\n",
       "    </tr>\n",
       "    <tr>\n",
       "      <th>15</th>\n",
       "      <td>Li3O6Pt2</td>\n",
       "      <td>0.128904</td>\n",
       "      <td>0.000</td>\n",
       "    </tr>\n",
       "    <tr>\n",
       "      <th>16</th>\n",
       "      <td>O11Rh4</td>\n",
       "      <td>0.260767</td>\n",
       "      <td>0.000</td>\n",
       "    </tr>\n",
       "    <tr>\n",
       "      <th>18</th>\n",
       "      <td>O3Rh1</td>\n",
       "      <td>0.344011</td>\n",
       "      <td>0.000</td>\n",
       "    </tr>\n",
       "    <tr>\n",
       "      <th>19</th>\n",
       "      <td>Co1O3</td>\n",
       "      <td>0.432072</td>\n",
       "      <td>0.000</td>\n",
       "    </tr>\n",
       "    <tr>\n",
       "      <th>20</th>\n",
       "      <td>Ge4O11</td>\n",
       "      <td>0.274196</td>\n",
       "      <td>2.105</td>\n",
       "    </tr>\n",
       "    <tr>\n",
       "      <th>21</th>\n",
       "      <td>Ir1O3</td>\n",
       "      <td>0.138901</td>\n",
       "      <td>0.000</td>\n",
       "    </tr>\n",
       "    <tr>\n",
       "      <th>26</th>\n",
       "      <td>Fe1O3</td>\n",
       "      <td>0.207100</td>\n",
       "      <td>0.000</td>\n",
       "    </tr>\n",
       "    <tr>\n",
       "      <th>27</th>\n",
       "      <td>Co4O11</td>\n",
       "      <td>0.507556</td>\n",
       "      <td>0.000</td>\n",
       "    </tr>\n",
       "    <tr>\n",
       "      <th>28</th>\n",
       "      <td>Co4O11</td>\n",
       "      <td>0.479435</td>\n",
       "      <td>0.000</td>\n",
       "    </tr>\n",
       "    <tr>\n",
       "      <th>29</th>\n",
       "      <td>Cr4O11</td>\n",
       "      <td>0.273585</td>\n",
       "      <td>1.297</td>\n",
       "    </tr>\n",
       "    <tr>\n",
       "      <th>30</th>\n",
       "      <td>Hf4O11</td>\n",
       "      <td>0.279186</td>\n",
       "      <td>2.937</td>\n",
       "    </tr>\n",
       "    <tr>\n",
       "      <th>31</th>\n",
       "      <td>O3Os1</td>\n",
       "      <td>0.154809</td>\n",
       "      <td>0.000</td>\n",
       "    </tr>\n",
       "    <tr>\n",
       "      <th>33</th>\n",
       "      <td>O11Ti4</td>\n",
       "      <td>0.179604</td>\n",
       "      <td>1.189</td>\n",
       "    </tr>\n",
       "  </tbody>\n",
       "</table>\n",
       "</div>"
      ],
      "text/plain": [
       "   composition  stability  band_gap\n",
       "0          Lu1   0.012590     0.000\n",
       "2        As1Y1   0.000044     0.000\n",
       "4       Ge4O11   0.282271     2.613\n",
       "5     Ge2Li3O6   0.191445     0.000\n",
       "7        Mg1Y2   0.028971     0.000\n",
       "8        O3Sn1   0.479129     1.261\n",
       "12      O11Pd4   0.053285     0.000\n",
       "15    Li3O6Pt2   0.128904     0.000\n",
       "16      O11Rh4   0.260767     0.000\n",
       "18       O3Rh1   0.344011     0.000\n",
       "19       Co1O3   0.432072     0.000\n",
       "20      Ge4O11   0.274196     2.105\n",
       "21       Ir1O3   0.138901     0.000\n",
       "26       Fe1O3   0.207100     0.000\n",
       "27      Co4O11   0.507556     0.000\n",
       "28      Co4O11   0.479435     0.000\n",
       "29      Cr4O11   0.273585     1.297\n",
       "30      Hf4O11   0.279186     2.937\n",
       "31       O3Os1   0.154809     0.000\n",
       "33      O11Ti4   0.179604     1.189"
      ]
     },
     "execution_count": 3,
     "metadata": {},
     "output_type": "execute_result"
    }
   ],
   "source": [
    "stability_gap = [(r.get(\"mdf\").get(\"composition\"), \n",
    "                  r.get(\"oqmd\",{}).get(\"stability\"),\n",
    "                  r.get(\"oqmd\",{}).get(\"band_gap\")) for r in res]\n",
    "df = pd.DataFrame(stability_gap, columns=[\"composition\",\"stability\",\"band_gap\"]).dropna()\n",
    "df = df.dropna()\n",
    "df.head(20)"
   ]
  },
  {
   "cell_type": "markdown",
   "metadata": {
    "deletable": true,
    "editable": true
   },
   "source": [
    "# Plot results"
   ]
  },
  {
   "cell_type": "code",
   "execution_count": 4,
   "metadata": {
    "collapsed": false,
    "deletable": true,
    "editable": true
   },
   "outputs": [
    {
     "name": "stderr",
     "output_type": "stream",
     "text": [
      "/Library/Frameworks/Python.framework/Versions/3.6/lib/python3.6/site-packages/matplotlib/font_manager.py:1297: UserWarning: findfont: Font family ['sans-serif'] not found. Falling back to DejaVu Sans\n",
      "  (prop.get_family(), self.defaultFamily[fontext]))\n"
     ]
    },
    {
     "data": {
      "text/plain": [
       "<seaborn.axisgrid.FacetGrid at 0x1060cc588>"
      ]
     },
     "execution_count": 4,
     "metadata": {},
     "output_type": "execute_result"
    },
    {
     "data": {
      "image/png": "[encoded data removed]",
      "text/plain": [
       "<matplotlib.figure.Figure at 0x11441e240>"
      ]
     },
     "metadata": {},
     "output_type": "display_data"
    }
   ],
   "source": [
    "pal = sns.color_palette(\"muted\")\n",
    "\n",
    "x_col = \"band_gap\"\n",
    "y_col = \"stability\"\n",
    "\n",
    "# Make plot\n",
    "g = sns.lmplot(x=x_col, y=y_col, data=df, fit_reg=False, size=8, \n",
    "                               scatter_kws={\"s\": 75, \"alpha\": 0.5})\n",
    "# Set axis labels\n",
    "g.set_axis_labels(x_col + \" (eV)\", y_col)"
   ]
  },
  {
   "cell_type": "code",
   "execution_count": null,
   "metadata": {
    "collapsed": true,
    "deletable": true,
    "editable": true
   },
   "outputs": [],
   "source": []
  }
 ],
 "metadata": {
  "kernelspec": {
   "display_name": "Python 3",
   "language": "python",
   "name": "python3"
  },
  "language_info": {
   "codemirror_mode": {
    "name": "ipython",
    "version": 3
   },
   "file_extension": ".py",
   "mimetype": "text/x-python",
   "name": "python",
   "nbconvert_exporter": "python",
   "pygments_lexer": "ipython3",
   "version": "3.6.0"
  }
 },
 "nbformat": 4,
 "nbformat_minor": 2
}
