{
 "cells": [
  {
   "cell_type": "code",
   "execution_count": 1,
   "metadata": {},
   "outputs": [],
   "source": [
    "from mdf_forge.forge import Forge"
   ]
  },
  {
   "cell_type": "code",
   "execution_count": 2,
   "metadata": {},
   "outputs": [],
   "source": [
    "mdf = Forge()"
   ]
  },
  {
   "cell_type": "markdown",
   "metadata": {},
   "source": [
    "# Field-Specific Query Builders"
   ]
  },
  {
   "cell_type": "markdown",
   "metadata": {},
   "source": [
    "### match_sources\n",
    "`match_sources()` matches values against the `\"mdf.source_name\"` field. It is equivalent to chaining `match_field(\"mdf.source_name\", value)` for each value."
   ]
  },
  {
   "cell_type": "code",
   "execution_count": 3,
   "metadata": {},
   "outputs": [
    {
     "data": {
      "text/plain": [
       "<mdf_forge.forge.Forge at 0x7efd13b39080>"
      ]
     },
     "execution_count": 3,
     "metadata": {},
     "output_type": "execute_result"
    }
   ],
   "source": [
    "mdf.match_sources(\"oqmd\")"
   ]
  },
  {
   "cell_type": "markdown",
   "metadata": {},
   "source": [
    "### match_elements\n",
    "`match_elements()` matches values against the `\"mdf.elements\"` field. It is equivalent to chaining `match_field(\"mdf.elements\", value)` for each value."
   ]
  },
  {
   "cell_type": "code",
   "execution_count": 4,
   "metadata": {},
   "outputs": [
    {
     "data": {
      "text/plain": [
       "<mdf_forge.forge.Forge at 0x7efd13b39080>"
      ]
     },
     "execution_count": 4,
     "metadata": {},
     "output_type": "execute_result"
    }
   ],
   "source": [
    "mdf.match_elements([\"Al\", \"Cu\"])"
   ]
  },
  {
   "cell_type": "markdown",
   "metadata": {},
   "source": [
    "### match_resource_types\n",
    "`match_resource_types()` matches values against the `\"mdf.resource_types\"` field. It is equivalent to chaining `match_field(\"mdf.resource_types\", value)` for each value."
   ]
  },
  {
   "cell_type": "code",
   "execution_count": 5,
   "metadata": {},
   "outputs": [
    {
     "data": {
      "text/plain": [
       "<mdf_forge.forge.Forge at 0x7efd13b39080>"
      ]
     },
     "execution_count": 5,
     "metadata": {},
     "output_type": "execute_result"
    }
   ],
   "source": [
    "mdf.match_resource_types(\"record\")"
   ]
  },
  {
   "cell_type": "code",
   "execution_count": 6,
   "metadata": {},
   "outputs": [
    {
     "data": {
      "text/plain": [
       "{'mdf': {'collection': 'OQMD',\n",
       "  'composition': 'Al2Cu1',\n",
       "  'elements': ['Al', 'Cu'],\n",
       "  'ingest_date': '2017-08-04T14:18:58.371868Z',\n",
       "  'links': {'landing_page': 'http://oqmd.org/analysis/calculation/7561',\n",
       "   'metadata': {'globus_endpoint': '82f1b5c6-6e9b-11e5-ba47-22000b92c6ec',\n",
       "    'http_host': 'https://data.materialsdatafacility.org',\n",
       "    'path': '/collections/oqmd/data/home/oqmd/libraries/icsd/151384/relaxation/metadata.json'},\n",
       "   'outcar': {'globus_endpoint': '82f1b5c6-6e9b-11e5-ba47-22000b92c6ec',\n",
       "    'http_host': 'https://data.materialsdatafacility.org',\n",
       "    'path': '/collections/oqmd/data/home/oqmd/libraries/icsd/151384/relaxation/OUTCAR'},\n",
       "   'parent_id': '5984824ba5ea60170af49754'},\n",
       "  'mdf_id': '59848252a5ea60172af49bb7',\n",
       "  'metadata_version': '0.3.2',\n",
       "  'resource_type': 'record',\n",
       "  'scroll_id': 1123,\n",
       "  'source_name': 'oqmd',\n",
       "  'tags': ['metadata', 'outcar'],\n",
       "  'title': 'OQMD - Al2Cu1'},\n",
       " 'oqmd': {'band_gap': {'units': 'eV', 'value': 0.0},\n",
       "  'configuration': 'relaxation',\n",
       "  'converged': True,\n",
       "  'crossreference': {'icsd': 151384},\n",
       "  'magnetic_moment': {'units': 'bohr/atom'},\n",
       "  'spacegroup': 123,\n",
       "  'total_energy': {'units': 'eV/atom', 'value': -3.74948821333333},\n",
       "  'volume': {'units': 'angstrom^3/atom', 'value': 16.0979}}}"
      ]
     },
     "execution_count": 6,
     "metadata": {},
     "output_type": "execute_result"
    }
   ],
   "source": [
    "res = mdf.search(limit=10)\n",
    "res[0]"
   ]
  },
  {
   "cell_type": "markdown",
   "metadata": {},
   "source": [
    "### match_ids\n",
    "`match_ids()` matches values against the `\"mdf.mdf_id\"` field. It is equivalent to chaining `match_field(\"mdf.mdf_id\", value)` for each value."
   ]
  },
  {
   "cell_type": "code",
   "execution_count": 7,
   "metadata": {},
   "outputs": [
    {
     "data": {
      "text/plain": [
       "<mdf_forge.forge.Forge at 0x7efd13b39080>"
      ]
     },
     "execution_count": 7,
     "metadata": {},
     "output_type": "execute_result"
    }
   ],
   "source": [
    "an_id = res[1][\"mdf\"][\"mdf_id\"]\n",
    "mdf.match_ids(an_id)"
   ]
  },
  {
   "cell_type": "code",
   "execution_count": 8,
   "metadata": {},
   "outputs": [
    {
     "data": {
      "text/plain": [
       "[{'mdf': {'collection': 'OQMD',\n",
       "   'composition': 'Al3Cu2',\n",
       "   'elements': ['Al', 'Cu'],\n",
       "   'ingest_date': '2017-08-04T14:19:06.930619Z',\n",
       "   'links': {'landing_page': 'http://oqmd.org/analysis/calculation/12788',\n",
       "    'metadata': {'globus_endpoint': '82f1b5c6-6e9b-11e5-ba47-22000b92c6ec',\n",
       "     'http_host': 'https://data.materialsdatafacility.org',\n",
       "     'path': '/collections/oqmd/data/home/oqmd/libraries/icsd/57668/static/metadata.json'},\n",
       "    'outcar': {'globus_endpoint': '82f1b5c6-6e9b-11e5-ba47-22000b92c6ec',\n",
       "     'http_host': 'https://data.materialsdatafacility.org',\n",
       "     'path': '/collections/oqmd/data/home/oqmd/libraries/icsd/57668/static/OUTCAR'},\n",
       "    'parent_id': '5984824ba5ea60170af49754'},\n",
       "   'mdf_id': '5984825aa5ea60172af4a36c',\n",
       "   'metadata_version': '0.3.2',\n",
       "   'resource_type': 'record',\n",
       "   'scroll_id': 3096,\n",
       "   'source_name': 'oqmd',\n",
       "   'tags': ['metadata', 'outcar'],\n",
       "   'title': 'OQMD - Al3Cu2'},\n",
       "  'oqmd': {'band_gap': {'units': 'eV', 'value': 0.0},\n",
       "   'configuration': 'static',\n",
       "   'converged': True,\n",
       "   'crossreference': {'icsd': 57668},\n",
       "   'delta_e': {'units': 'eV/atom', 'value': -0.155983358},\n",
       "   'magnetic_moment': {'units': 'bohr/atom'},\n",
       "   'spacegroup': 164,\n",
       "   'stability': {'units': 'eV/atom', 'value': 0.0342212876283998},\n",
       "   'total_energy': {'units': 'eV/atom', 'value': -3.889810794},\n",
       "   'volume': {'units': 'angstrom^3/atom', 'value': 14.7951}}}]"
      ]
     },
     "execution_count": 8,
     "metadata": {},
     "output_type": "execute_result"
    }
   ],
   "source": [
    "mdf.search()"
   ]
  },
  {
   "cell_type": "markdown",
   "metadata": {},
   "source": [
    "# Premade Searches"
   ]
  },
  {
   "cell_type": "markdown",
   "metadata": {},
   "source": [
    "### search_by_elements\n",
    "`search_by_elements()` executes a search for the provided elements in the provided sources and returns the results. Note that calling `search()` is not required, as this helper function already performs the search."
   ]
  },
  {
   "cell_type": "code",
   "execution_count": 9,
   "metadata": {},
   "outputs": [
    {
     "data": {
      "text/plain": [
       "{'mdf': {'collection': 'OQMD',\n",
       "  'composition': 'Al2Cu1',\n",
       "  'elements': ['Al', 'Cu'],\n",
       "  'ingest_date': '2017-08-04T14:20:14.773902Z',\n",
       "  'links': {'landing_page': 'http://oqmd.org/analysis/calculation/59393',\n",
       "   'metadata': {'globus_endpoint': '82f1b5c6-6e9b-11e5-ba47-22000b92c6ec',\n",
       "    'http_host': 'https://data.materialsdatafacility.org',\n",
       "    'path': '/collections/oqmd/data/home/oqmd/libraries/icsd/42517/standard/metadata.json'},\n",
       "   'outcar': {'globus_endpoint': '82f1b5c6-6e9b-11e5-ba47-22000b92c6ec',\n",
       "    'http_host': 'https://data.materialsdatafacility.org',\n",
       "    'path': '/collections/oqmd/data/home/oqmd/libraries/icsd/42517/standard/OUTCAR'},\n",
       "   'parent_id': '5984824ba5ea60170af49754'},\n",
       "  'mdf_id': '5984829ea5ea60172af4da9b',\n",
       "  'metadata_version': '0.3.2',\n",
       "  'resource_type': 'record',\n",
       "  'scroll_id': 17223,\n",
       "  'source_name': 'oqmd',\n",
       "  'tags': ['metadata', 'outcar'],\n",
       "  'title': 'OQMD - Al2Cu1'},\n",
       " 'oqmd': {'band_gap': {'units': 'eV', 'value': 0.0},\n",
       "  'converged': True,\n",
       "  'crossreference': {'icsd': 42517},\n",
       "  'magnetic_moment': {'units': 'bohr/atom'},\n",
       "  'spacegroup': 140,\n",
       "  'total_energy': {'units': 'eV/atom', 'value': -3.88954765666667},\n",
       "  'volume': {'units': 'angstrom^3/atom', 'value': 14.5666}}}"
      ]
     },
     "execution_count": 9,
     "metadata": {},
     "output_type": "execute_result"
    }
   ],
   "source": [
    "res = mdf.search_by_elements([\"Al\", \"Cu\"], sources=[\"oqmd\"])\n",
    "res[0]"
   ]
  },
  {
   "cell_type": "markdown",
   "metadata": {},
   "source": [
    "### aggregate_source\n",
    "`aggregate_source()` fetches and returns all the records for a provided `\"mdf.source_name\"` value. Calling `search()` or `aggregate()` is not required, as this helper function does that for you. Please note that it is not possible to use the `limit` argument with this helper function, so you may get back a large number of results."
   ]
  },
  {
   "cell_type": "code",
   "execution_count": 10,
   "metadata": {},
   "outputs": [
    {
     "name": "stderr",
     "output_type": "stream",
     "text": [
      "100%|██████████| 1246/1246 [00:01<00:00, 696.93it/s]\n"
     ]
    },
    {
     "data": {
      "text/plain": [
       "{'fe_cr_al_oxidation': {'atomic_composition_percent': {'Al': 2.6,\n",
       "   'Cr': 10.8,\n",
       "   'Fe': 86.6},\n",
       "  'temperature_k': 690.0},\n",
       " 'mdf': {'collection': 'Fe-Cr-Al Oxidation Studies',\n",
       "  'composition': 'FeCrAl',\n",
       "  'elements': ['Cr', 'Fe', 'Al'],\n",
       "  'ingest_date': '2017-08-04T21:26:58.032319Z',\n",
       "  'links': {'csv': {'globus_endpoint': '82f1b5c6-6e9b-11e5-ba47-22000b92c6ec',\n",
       "    'http_host': 'https://data.materialsdatafacility.org',\n",
       "    'path': '/collections/Fe_Cr_Al_data/690 K Hour 1/690 K Hour 1 Point 1_007.txt'},\n",
       "   'landing_page': 'https://materialsdata.nist.gov/dspace/xmlui/handle/11256/836#719',\n",
       "   'parent_id': '5984e69cf2c00439c790bf54'},\n",
       "  'mdf_id': '5984e6a2f2c00439c790c223',\n",
       "  'metadata_version': '0.3.2',\n",
       "  'resource_type': 'record',\n",
       "  'scroll_id': 719,\n",
       "  'source_name': 'fe_cr_al_oxidation',\n",
       "  'tags': ['csv'],\n",
       "  'title': 'Fe-Cr-Al Oxidation - 690 K Hour 1 Point 1_007'}}"
      ]
     },
     "execution_count": 10,
     "metadata": {},
     "output_type": "execute_result"
    }
   ],
   "source": [
    "res = mdf.aggregate_source(\"fe_cr_al_oxidation\")\n",
    "res[0]"
   ]
  },
  {
   "cell_type": "code",
   "execution_count": null,
   "metadata": {},
   "outputs": [],
   "source": []
  }
 ],
 "metadata": {
  "kernelspec": {
   "display_name": "Python 3",
   "language": "python",
   "name": "python3"
  },
  "language_info": {
   "codemirror_mode": {
    "name": "ipython",
    "version": 3
   },
   "file_extension": ".py",
   "mimetype": "text/x-python",
   "name": "python",
   "nbconvert_exporter": "python",
   "pygments_lexer": "ipython3",
   "version": "3.5.2"
  }
 },
 "nbformat": 4,
 "nbformat_minor": 2
}
