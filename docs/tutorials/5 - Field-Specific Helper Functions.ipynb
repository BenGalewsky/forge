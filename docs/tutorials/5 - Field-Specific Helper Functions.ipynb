{
 "cells": [
  {
   "cell_type": "code",
   "execution_count": 1,
   "metadata": {},
   "outputs": [],
   "source": [
    "from mdf_forge.forge import Forge"
   ]
  },
  {
   "cell_type": "code",
   "execution_count": 2,
   "metadata": {},
   "outputs": [],
   "source": [
    "mdf = Forge()"
   ]
  },
  {
   "cell_type": "markdown",
   "metadata": {},
   "source": [
    "# Field-Specific Query Builders"
   ]
  },
  {
   "cell_type": "markdown",
   "metadata": {},
   "source": [
    "### match_sources\n",
    "`match_sources()` matches values against the `\"mdf.source_name\"` field. It is equivalent to chaining `match_field(\"mdf.source_name\", value)` for each value."
   ]
  },
  {
   "cell_type": "code",
   "execution_count": 3,
   "metadata": {},
   "outputs": [
    {
     "data": {
      "text/plain": [
       "<mdf_forge.forge.Forge at 0x7fde8a90beb8>"
      ]
     },
     "execution_count": 3,
     "metadata": {},
     "output_type": "execute_result"
    }
   ],
   "source": [
    "mdf.match_sources(\"oqmd\")"
   ]
  },
  {
   "cell_type": "markdown",
   "metadata": {},
   "source": [
    "### match_elements\n",
    "`match_elements()` matches values against the `\"mdf.elements\"` field. It is equivalent to chaining `match_field(\"mdf.elements\", value)` for each value."
   ]
  },
  {
   "cell_type": "code",
   "execution_count": 4,
   "metadata": {},
   "outputs": [
    {
     "data": {
      "text/plain": [
       "<mdf_forge.forge.Forge at 0x7fde8a90beb8>"
      ]
     },
     "execution_count": 4,
     "metadata": {},
     "output_type": "execute_result"
    }
   ],
   "source": [
    "mdf.match_elements([\"Al\", \"Cu\"])"
   ]
  },
  {
   "cell_type": "code",
   "execution_count": 5,
   "metadata": {},
   "outputs": [
    {
     "data": {
      "text/plain": [
       "{'mdf': {'collection': 'OQMD',\n",
       "  'composition': 'Al2Cu1',\n",
       "  'elements': ['Al', 'Cu'],\n",
       "  'ingest_date': '2017-08-04T14:20:45.070829Z',\n",
       "  'links': {'landing_page': 'http://oqmd.org/analysis/calculation/104972',\n",
       "   'metadata': {'globus_endpoint': '82f1b5c6-6e9b-11e5-ba47-22000b92c6ec',\n",
       "    'http_host': 'https://data.materialsdatafacility.org',\n",
       "    'path': '/collections/oqmd/data/home/oqmd/libraries/icsd/107544/standard/metadata.json'},\n",
       "   'outcar': {'globus_endpoint': '82f1b5c6-6e9b-11e5-ba47-22000b92c6ec',\n",
       "    'http_host': 'https://data.materialsdatafacility.org',\n",
       "    'path': '/collections/oqmd/data/home/oqmd/libraries/icsd/107544/standard/OUTCAR'},\n",
       "   'parent_id': '5984824ba5ea60170af49754'},\n",
       "  'mdf_id': '598482bda5ea60172af4f11b',\n",
       "  'metadata_version': '0.3.2',\n",
       "  'resource_type': 'record',\n",
       "  'scroll_id': 22983,\n",
       "  'source_name': 'oqmd',\n",
       "  'tags': ['metadata', 'outcar'],\n",
       "  'title': 'OQMD - Al2Cu1'},\n",
       " 'oqmd': {'band_gap': {'units': 'eV', 'value': 0.0},\n",
       "  'converged': True,\n",
       "  'crossreference': {'icsd': 107544},\n",
       "  'magnetic_moment': {'units': 'bohr/atom'},\n",
       "  'spacegroup': 140,\n",
       "  'total_energy': {'units': 'eV/atom', 'value': -3.88764166666667},\n",
       "  'volume': {'units': 'angstrom^3/atom', 'value': 14.519}}}"
      ]
     },
     "execution_count": 5,
     "metadata": {},
     "output_type": "execute_result"
    }
   ],
   "source": [
    "res = mdf.search(limit=10)\n",
    "res[0]"
   ]
  },
  {
   "cell_type": "markdown",
   "metadata": {},
   "source": [
    "# Premade Searches"
   ]
  },
  {
   "cell_type": "markdown",
   "metadata": {},
   "source": [
    "### search_by_elements\n",
    "`search_by_elements()` executes a search for the provided elements in the provided sources and returns the results. Note that calling `search()` is not required, as this helper function already performs the search."
   ]
  },
  {
   "cell_type": "code",
   "execution_count": 6,
   "metadata": {},
   "outputs": [
    {
     "data": {
      "text/plain": [
       "{'mdf': {'collection': 'OQMD',\n",
       "  'composition': 'Al2Cu1',\n",
       "  'elements': ['Al', 'Cu'],\n",
       "  'ingest_date': '2017-08-04T14:20:14.773902Z',\n",
       "  'links': {'landing_page': 'http://oqmd.org/analysis/calculation/59393',\n",
       "   'metadata': {'globus_endpoint': '82f1b5c6-6e9b-11e5-ba47-22000b92c6ec',\n",
       "    'http_host': 'https://data.materialsdatafacility.org',\n",
       "    'path': '/collections/oqmd/data/home/oqmd/libraries/icsd/42517/standard/metadata.json'},\n",
       "   'outcar': {'globus_endpoint': '82f1b5c6-6e9b-11e5-ba47-22000b92c6ec',\n",
       "    'http_host': 'https://data.materialsdatafacility.org',\n",
       "    'path': '/collections/oqmd/data/home/oqmd/libraries/icsd/42517/standard/OUTCAR'},\n",
       "   'parent_id': '5984824ba5ea60170af49754'},\n",
       "  'mdf_id': '5984829ea5ea60172af4da9b',\n",
       "  'metadata_version': '0.3.2',\n",
       "  'resource_type': 'record',\n",
       "  'scroll_id': 17223,\n",
       "  'source_name': 'oqmd',\n",
       "  'tags': ['metadata', 'outcar'],\n",
       "  'title': 'OQMD - Al2Cu1'},\n",
       " 'oqmd': {'band_gap': {'units': 'eV', 'value': 0.0},\n",
       "  'converged': True,\n",
       "  'crossreference': {'icsd': 42517},\n",
       "  'magnetic_moment': {'units': 'bohr/atom'},\n",
       "  'spacegroup': 140,\n",
       "  'total_energy': {'units': 'eV/atom', 'value': -3.88954765666667},\n",
       "  'volume': {'units': 'angstrom^3/atom', 'value': 14.5666}}}"
      ]
     },
     "execution_count": 6,
     "metadata": {},
     "output_type": "execute_result"
    }
   ],
   "source": [
    "res = mdf.search_by_elements([\"Al\", \"Cu\"], sources=[\"oqmd\"])\n",
    "res[0]"
   ]
  },
  {
   "cell_type": "markdown",
   "metadata": {},
   "source": [
    "### aggregate_source\n",
    "`aggregate_source()` fetches and returns all the records for a provided `\"mdf.source_name\"` value. Calling `search()` or `aggregate()` is not required, as this helper function does that for you. Please note that it is not possible to use the `limit` argument with this helper function, so you may get back a large number of results."
   ]
  },
  {
   "cell_type": "code",
   "execution_count": 7,
   "metadata": {},
   "outputs": [
    {
     "name": "stderr",
     "output_type": "stream",
     "text": [
      "100%|██████████| 1246/1246 [00:01<00:00, 644.69it/s]\n"
     ]
    },
    {
     "data": {
      "text/plain": [
       "{'fe_cr_al_oxidation': {'atomic_composition_percent': {'Al': 3.1,\n",
       "   'Cr': 26.5,\n",
       "   'Fe': 70.5},\n",
       "  'temperature_k': 420.0},\n",
       " 'mdf': {'collection': 'Fe-Cr-Al Oxidation Studies',\n",
       "  'composition': 'FeCrAl',\n",
       "  'elements': ['Cr', 'Fe', 'Al'],\n",
       "  'ingest_date': '2017-08-04T21:26:53.296946Z',\n",
       "  'links': {'csv': {'globus_endpoint': '82f1b5c6-6e9b-11e5-ba47-22000b92c6ec',\n",
       "    'http_host': 'https://data.materialsdatafacility.org',\n",
       "    'path': '/collections/Fe_Cr_Al_data/420 K/420 K Point 104.txt'},\n",
       "   'landing_page': 'https://materialsdata.nist.gov/dspace/xmlui/handle/11256/836#104',\n",
       "   'parent_id': '5984e69cf2c00439c790bf54'},\n",
       "  'mdf_id': '5984e69df2c00439c790bfbc',\n",
       "  'metadata_version': '0.3.2',\n",
       "  'resource_type': 'record',\n",
       "  'scroll_id': 104,\n",
       "  'source_name': 'fe_cr_al_oxidation',\n",
       "  'tags': ['csv'],\n",
       "  'title': 'Fe-Cr-Al Oxidation - 420 K Point 104'}}"
      ]
     },
     "execution_count": 7,
     "metadata": {},
     "output_type": "execute_result"
    }
   ],
   "source": [
    "res = mdf.aggregate_source(\"fe_cr_al_oxidation\")\n",
    "res[0]"
   ]
  },
  {
   "cell_type": "code",
   "execution_count": null,
   "metadata": {},
   "outputs": [],
   "source": []
  }
 ],
 "metadata": {
  "kernelspec": {
   "display_name": "Python 3",
   "language": "python",
   "name": "python3"
  },
  "language_info": {
   "codemirror_mode": {
    "name": "ipython",
    "version": 3
   },
   "file_extension": ".py",
   "mimetype": "text/x-python",
   "name": "python",
   "nbconvert_exporter": "python",
   "pygments_lexer": "ipython3",
   "version": "3.5.2"
  }
 },
 "nbformat": 4,
 "nbformat_minor": 2
}
