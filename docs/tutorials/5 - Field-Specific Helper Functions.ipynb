{
 "cells": [
  {
   "cell_type": "code",
   "execution_count": 1,
   "metadata": {},
   "outputs": [],
   "source": [
    "from mdf_forge.forge import Forge"
   ]
  },
  {
   "cell_type": "code",
   "execution_count": 2,
   "metadata": {},
   "outputs": [],
   "source": [
    "mdf = Forge()"
   ]
  },
  {
   "cell_type": "markdown",
   "metadata": {},
   "source": [
    "# Field-Specific Query Builders"
   ]
  },
  {
   "cell_type": "markdown",
   "metadata": {},
   "source": [
    "### match_sources\n",
    "`match_sources()` matches values against the `\"mdf.source_name\"` field. It is equivalent to chaining `match_field(\"mdf.source_name\", value)` for each value."
   ]
  },
  {
   "cell_type": "code",
   "execution_count": 3,
   "metadata": {},
   "outputs": [
    {
     "data": {
      "text/plain": [
       "<mdf_forge.forge.Forge at 0x7f867a59d2b0>"
      ]
     },
     "execution_count": 3,
     "metadata": {},
     "output_type": "execute_result"
    }
   ],
   "source": [
    "mdf.match_sources(\"oqmd\")"
   ]
  },
  {
   "cell_type": "markdown",
   "metadata": {},
   "source": [
    "### match_elements\n",
    "`match_elements()` matches values against the `\"mdf.elements\"` field. It is equivalent to chaining `match_field(\"mdf.elements\", value)` for each value."
   ]
  },
  {
   "cell_type": "code",
   "execution_count": 4,
   "metadata": {},
   "outputs": [
    {
     "data": {
      "text/plain": [
       "<mdf_forge.forge.Forge at 0x7f867a59d2b0>"
      ]
     },
     "execution_count": 4,
     "metadata": {},
     "output_type": "execute_result"
    }
   ],
   "source": [
    "mdf.match_elements([\"Al\", \"Cu\"])"
   ]
  },
  {
   "cell_type": "markdown",
   "metadata": {},
   "source": [
    "### match_resource_types\n",
    "`match_resource_types()` matches values against the `\"mdf.resource_types\"` field. It is equivalent to chaining `match_field(\"mdf.resource_types\", value)` for each value."
   ]
  },
  {
   "cell_type": "code",
   "execution_count": 5,
   "metadata": {},
   "outputs": [
    {
     "data": {
      "text/plain": [
       "<mdf_forge.forge.Forge at 0x7f867a59d2b0>"
      ]
     },
     "execution_count": 5,
     "metadata": {},
     "output_type": "execute_result"
    }
   ],
   "source": [
    "mdf.match_resource_types(\"record\")"
   ]
  },
  {
   "cell_type": "code",
   "execution_count": 6,
   "metadata": {},
   "outputs": [
    {
     "data": {
      "text/plain": [
       "{'mdf': {'collection': 'OQMD',\n",
       "  'composition': 'Al2Cu1',\n",
       "  'elements': ['Al', 'Cu'],\n",
       "  'ingest_date': '2017-08-04T14:20:14.773902Z',\n",
       "  'links': {'landing_page': 'http://oqmd.org/analysis/calculation/59393',\n",
       "   'metadata': {'globus_endpoint': '82f1b5c6-6e9b-11e5-ba47-22000b92c6ec',\n",
       "    'http_host': 'https://data.materialsdatafacility.org',\n",
       "    'path': '/collections/oqmd/data/home/oqmd/libraries/icsd/42517/standard/metadata.json'},\n",
       "   'outcar': {'globus_endpoint': '82f1b5c6-6e9b-11e5-ba47-22000b92c6ec',\n",
       "    'http_host': 'https://data.materialsdatafacility.org',\n",
       "    'path': '/collections/oqmd/data/home/oqmd/libraries/icsd/42517/standard/OUTCAR'},\n",
       "   'parent_id': '5984824ba5ea60170af49754'},\n",
       "  'mdf_id': '5984829ea5ea60172af4da9b',\n",
       "  'metadata_version': '0.3.2',\n",
       "  'resource_type': 'record',\n",
       "  'scroll_id': 17223,\n",
       "  'source_name': 'oqmd',\n",
       "  'tags': ['metadata', 'outcar'],\n",
       "  'title': 'OQMD - Al2Cu1'},\n",
       " 'oqmd': {'band_gap': {'units': 'eV', 'value': 0.0},\n",
       "  'converged': True,\n",
       "  'crossreference': {'icsd': 42517},\n",
       "  'magnetic_moment': {'units': 'bohr/atom'},\n",
       "  'spacegroup': 140,\n",
       "  'total_energy': {'units': 'eV/atom', 'value': -3.88954765666667},\n",
       "  'volume': {'units': 'angstrom^3/atom', 'value': 14.5666}}}"
      ]
     },
     "execution_count": 6,
     "metadata": {},
     "output_type": "execute_result"
    }
   ],
   "source": [
    "res = mdf.search(limit=10)\n",
    "res[0]"
   ]
  },
  {
   "cell_type": "markdown",
   "metadata": {},
   "source": [
    "### match_ids\n",
    "`match_ids()` matches values against the `\"mdf.mdf_id\"` field. It is equivalent to chaining `match_field(\"mdf.mdf_id\", value)` for each value."
   ]
  },
  {
   "cell_type": "code",
   "execution_count": 7,
   "metadata": {},
   "outputs": [
    {
     "data": {
      "text/plain": [
       "<mdf_forge.forge.Forge at 0x7f867a59d2b0>"
      ]
     },
     "execution_count": 7,
     "metadata": {},
     "output_type": "execute_result"
    }
   ],
   "source": [
    "an_id = res[1][\"mdf\"][\"mdf_id\"]\n",
    "mdf.match_ids(an_id)"
   ]
  },
  {
   "cell_type": "code",
   "execution_count": 8,
   "metadata": {},
   "outputs": [
    {
     "data": {
      "text/plain": [
       "[{'mdf': {'collection': 'OQMD',\n",
       "   'composition': 'Al3Cu1',\n",
       "   'elements': ['Al', 'Cu'],\n",
       "   'ingest_date': '2017-08-04T14:24:39.255975Z',\n",
       "   'links': {'landing_page': 'http://oqmd.org/analysis/calculation/214708',\n",
       "    'metadata': {'globus_endpoint': '82f1b5c6-6e9b-11e5-ba47-22000b92c6ec',\n",
       "     'http_host': 'https://data.materialsdatafacility.org',\n",
       "     'path': '/collections/oqmd/data/home/oqmd/libraries/prototypes/binaries/D0_3/Al_Cu/standard/metadata.json'},\n",
       "    'outcar': {'globus_endpoint': '82f1b5c6-6e9b-11e5-ba47-22000b92c6ec',\n",
       "     'http_host': 'https://data.materialsdatafacility.org',\n",
       "     'path': '/collections/oqmd/data/home/oqmd/libraries/prototypes/binaries/D0_3/Al_Cu/standard/OUTCAR'},\n",
       "    'parent_id': '5984824ba5ea60170af49754'},\n",
       "   'mdf_id': '598483a7a5ea60172af58f7f',\n",
       "   'metadata_version': '0.3.2',\n",
       "   'resource_type': 'record',\n",
       "   'scroll_id': 63531,\n",
       "   'source_name': 'oqmd',\n",
       "   'tags': ['metadata', 'outcar'],\n",
       "   'title': 'OQMD - Al3Cu1'},\n",
       "  'oqmd': {'band_gap': {'units': 'eV', 'value': 0.0},\n",
       "   'configuration': 'standard',\n",
       "   'converged': True,\n",
       "   'magnetic_moment': {'units': 'bohr/atom'},\n",
       "   'spacegroup': 225,\n",
       "   'total_energy': {'units': 'eV/atom', 'value': -3.6518156475},\n",
       "   'volume': {'units': 'angstrom^3/atom', 'value': 15.3631}}}]"
      ]
     },
     "execution_count": 8,
     "metadata": {},
     "output_type": "execute_result"
    }
   ],
   "source": [
    "mdf.search()"
   ]
  },
  {
   "cell_type": "markdown",
   "metadata": {},
   "source": [
    "### match_titles\n",
    "`match_titles()` matches values against the `\"mdf.title\"` field. It is equivalent to chaining `match_field(\"mdf.title\", value)` for each value.\n",
    "\n",
    "Remember, values with special characters (like spaces) need to be wrapped in double quotes."
   ]
  },
  {
   "cell_type": "code",
   "execution_count": 9,
   "metadata": {
    "scrolled": true
   },
   "outputs": [
    {
     "data": {
      "text/plain": [
       "<mdf_forge.forge.Forge at 0x7f867a59d2b0>"
      ]
     },
     "execution_count": 9,
     "metadata": {},
     "output_type": "execute_result"
    }
   ],
   "source": [
    "mdf.match_titles('\"The Open Quantum Materials Database\"')"
   ]
  },
  {
   "cell_type": "code",
   "execution_count": 10,
   "metadata": {},
   "outputs": [
    {
     "data": {
      "text/plain": [
       "[{'mdf': {'author': [{'family_name': 'Wolverton',\n",
       "     'full_name': 'Chris Wolverton',\n",
       "     'given_name': 'Chris',\n",
       "     'institution': 'Northwestern University'},\n",
       "    {'family_name': 'Kirklin',\n",
       "     'full_name': 'Scott Kirklin',\n",
       "     'given_name': 'Scott',\n",
       "     'institution': 'Northwestern University'},\n",
       "    {'family_name': 'Hegde',\n",
       "     'full_name': 'Vinay Hegde',\n",
       "     'given_name': 'Vinay',\n",
       "     'institution': 'Northwestern University'},\n",
       "    {'family_name': 'Ward',\n",
       "     'full_name': 'Logan Ward',\n",
       "     'given_name': 'Logan',\n",
       "     'institution': 'Northwestern University',\n",
       "     'orcid': 'https://orcid.org/0000-0002-1323-5939'}],\n",
       "   'citation': ['Saal, J. E., Kirklin, S., Aykol, M., Meredig, B., and Wolverton, C. \"Materials Design and Discovery with High-Throughput Density Functional Theory: The Open Quantum Materials Database (OQMD)\", JOM 65, 1501-1509 (2013). doi:10.1007/s11837-013-0755-4',\n",
       "    'Kirklin, S., Saal, J.E., Meredig, B., Thompson, A., Doak, J.W., Aykol, M., Rühl, S. and Wolverton, C. \"The Open Quantum Materials Database (OQMD): assessing the accuracy of DFT formation energies\", npj Computational Materials 1, 15010 (2015). doi:10.1038/npjcompumats.2015.10'],\n",
       "   'collection': 'OQMD',\n",
       "   'data_contact': {'email': 'oqmd.questions@gmail.com',\n",
       "    'family_name': 'Wolverton',\n",
       "    'full_name': 'Chris Wolverton',\n",
       "    'given_name': 'Chris',\n",
       "    'institution': 'Northwestern University'},\n",
       "   'data_contributor': [{'email': 'jgaff@uchicago.edu',\n",
       "     'family_name': 'Gaff',\n",
       "     'full_name': 'Jonathon Gaff',\n",
       "     'github': 'jgaff',\n",
       "     'given_name': 'Jonathon',\n",
       "     'institution': 'The University of Chicago'}],\n",
       "   'description': 'The OQMD is a database of DFT-calculated thermodynamic and structural properties.',\n",
       "   'ingest_date': '2017-08-04T14:18:51.560728Z',\n",
       "   'links': {'landing_page': 'http://oqmd.org/',\n",
       "    'publication': ['http://dx.doi.org/10.1007/s11837-013-0755-4',\n",
       "     'http://dx.doi.org/10.1038/npjcompumats.2015.10']},\n",
       "   'mdf_id': '5984824ba5ea60170af49754',\n",
       "   'metadata_version': '0.3.2',\n",
       "   'resource_type': 'dataset',\n",
       "   'source_name': 'oqmd',\n",
       "   'tags': ['dft'],\n",
       "   'title': 'The Open Quantum Materials Database',\n",
       "   'year': 2013}}]"
      ]
     },
     "execution_count": 10,
     "metadata": {},
     "output_type": "execute_result"
    }
   ],
   "source": [
    "mdf.search()"
   ]
  },
  {
   "cell_type": "markdown",
   "metadata": {},
   "source": [
    "### match_tags\n",
    "`match_tags()` matches values against the `\"mdf.tags\"` field. It is equivalent to chaining `match_field(\"mdf.tags\", value)` for each value."
   ]
  },
  {
   "cell_type": "code",
   "execution_count": 11,
   "metadata": {},
   "outputs": [
    {
     "data": {
      "text/plain": [
       "<mdf_forge.forge.Forge at 0x7f867a59d2b0>"
      ]
     },
     "execution_count": 11,
     "metadata": {},
     "output_type": "execute_result"
    }
   ],
   "source": [
    "mdf.match_tags(\"DFT\")"
   ]
  },
  {
   "cell_type": "code",
   "execution_count": 12,
   "metadata": {},
   "outputs": [
    {
     "data": {
      "text/plain": [
       "{'mdf': {'author': [{'email': 'c-wolverton@northwestern.edu',\n",
       "    'family_name': 'Wolverton',\n",
       "    'full_name': 'Chris Wolverton',\n",
       "    'given_name': 'Chris',\n",
       "    'institution': 'Northwestern University'},\n",
       "   {'family_name': 'Doak',\n",
       "    'full_name': 'Jeff Doak',\n",
       "    'given_name': 'Jeff',\n",
       "    'institution': 'Northwestern University'}],\n",
       "  'citation': ['Doak JW, Wolverton C (2012) Coherent and incoherent phase stabilities of thermoelectric rocksalt IV-VI semiconductor alloys. Phys. Rev. B 86: 144202 http://dx.doi.org/10.1103/PhysRevB.86.144202'],\n",
       "  'collection': 'Doak Strain Energies',\n",
       "  'data_contact': {'email': 'c-wolverton@northwestern.edu',\n",
       "   'family_name': 'Wolverton',\n",
       "   'full_name': 'Chris Wolverton',\n",
       "   'given_name': 'Chris',\n",
       "   'institution': 'Northwestern University'},\n",
       "  'data_contributor': [{'email': 'jgaff@uchicago.edu',\n",
       "    'family_name': 'Gaff',\n",
       "    'full_name': 'Jonathon Gaff',\n",
       "    'github': 'jgaff',\n",
       "    'given_name': 'Jonathon',\n",
       "    'institution': 'The University of Chicago'}],\n",
       "  'description': 'We use density functional theory calculations to investigate the coherent and incoherent phase stability of the IV–VI rocksalt semiconductor alloy systems Pb(S,Te), Pb(Te,Se), Pb(Se,S), (Pb,Sn)Te, (Sn,Ge)Te, and (Ge,Pb)Te.',\n",
       "  'ingest_date': '2017-08-04T19:21:29.013385Z',\n",
       "  'links': {'data_doi': 'http://hdl.handle.net/11256/85',\n",
       "   'landing_page': 'https://materialsdata.nist.gov/dspace/xmlui/handle/11256/85',\n",
       "   'publication': ['http://dx.doi.org/10.1103/PhysRevB.86.144202']},\n",
       "  'mdf_id': '5984c939f2c00437dc2502a5',\n",
       "  'metadata_version': '0.3.2',\n",
       "  'resource_type': 'dataset',\n",
       "  'source_name': 'doak_strain_energies',\n",
       "  'tags': ['dft'],\n",
       "  'title': 'GeTe-PbTe PbS-PbTe PbSe-PbS PbTe-PbSe PbTe-SnTe SnTe-GeTe mixing and coherency strain energies',\n",
       "  'year': 2012}}"
      ]
     },
     "execution_count": 12,
     "metadata": {},
     "output_type": "execute_result"
    }
   ],
   "source": [
    "res = mdf.search(limit=10)\n",
    "res[0]"
   ]
  },
  {
   "cell_type": "markdown",
   "metadata": {},
   "source": [
    "# Premade Searches"
   ]
  },
  {
   "cell_type": "markdown",
   "metadata": {},
   "source": [
    "### search_by_elements\n",
    "`search_by_elements()` executes a search for the provided elements in the provided sources and returns the results. Note that calling `search()` is not required, as this helper function already performs the search."
   ]
  },
  {
   "cell_type": "code",
   "execution_count": 13,
   "metadata": {
    "scrolled": true
   },
   "outputs": [
    {
     "data": {
      "text/plain": [
       "{'mdf': {'collection': 'OQMD',\n",
       "  'composition': 'Al3Cu1',\n",
       "  'elements': ['Al', 'Cu'],\n",
       "  'ingest_date': '2017-08-04T14:24:39.255975Z',\n",
       "  'links': {'landing_page': 'http://oqmd.org/analysis/calculation/214708',\n",
       "   'metadata': {'globus_endpoint': '82f1b5c6-6e9b-11e5-ba47-22000b92c6ec',\n",
       "    'http_host': 'https://data.materialsdatafacility.org',\n",
       "    'path': '/collections/oqmd/data/home/oqmd/libraries/prototypes/binaries/D0_3/Al_Cu/standard/metadata.json'},\n",
       "   'outcar': {'globus_endpoint': '82f1b5c6-6e9b-11e5-ba47-22000b92c6ec',\n",
       "    'http_host': 'https://data.materialsdatafacility.org',\n",
       "    'path': '/collections/oqmd/data/home/oqmd/libraries/prototypes/binaries/D0_3/Al_Cu/standard/OUTCAR'},\n",
       "   'parent_id': '5984824ba5ea60170af49754'},\n",
       "  'mdf_id': '598483a7a5ea60172af58f7f',\n",
       "  'metadata_version': '0.3.2',\n",
       "  'resource_type': 'record',\n",
       "  'scroll_id': 63531,\n",
       "  'source_name': 'oqmd',\n",
       "  'tags': ['metadata', 'outcar'],\n",
       "  'title': 'OQMD - Al3Cu1'},\n",
       " 'oqmd': {'band_gap': {'units': 'eV', 'value': 0.0},\n",
       "  'configuration': 'standard',\n",
       "  'converged': True,\n",
       "  'magnetic_moment': {'units': 'bohr/atom'},\n",
       "  'spacegroup': 225,\n",
       "  'total_energy': {'units': 'eV/atom', 'value': -3.6518156475},\n",
       "  'volume': {'units': 'angstrom^3/atom', 'value': 15.3631}}}"
      ]
     },
     "execution_count": 13,
     "metadata": {},
     "output_type": "execute_result"
    }
   ],
   "source": [
    "res = mdf.search_by_elements([\"Al\", \"Cu\"], sources=[\"oqmd\"])\n",
    "res[0]"
   ]
  },
  {
   "cell_type": "markdown",
   "metadata": {},
   "source": [
    "### search_by_titles\n",
    "`search_by_titles()` executes a search for the provided elements in the provided sources and returns the results."
   ]
  },
  {
   "cell_type": "code",
   "execution_count": 14,
   "metadata": {},
   "outputs": [
    {
     "data": {
      "text/plain": [
       "{'mdf': {'author': [{'family_name': 'Chase, Jr.',\n",
       "    'full_name': 'Malcolm Chase, Jr.',\n",
       "    'given_name': 'Malcolm',\n",
       "    'institution': 'National Institute of Standards and Technology'}],\n",
       "  'citation': ['M. W. Chase, Jr., JANAF Thermochemical Tables Third Edition, J. Phys. Chem. Ref. Data, Vol. 14, Suppl. 1, 1985.'],\n",
       "  'collection': 'NIST-JANAF',\n",
       "  'data_contact': {'email': 'evelyn.brown@nist.gov',\n",
       "   'family_name': 'Brown',\n",
       "   'full_name': 'Evelyn Brown',\n",
       "   'given_name': 'Evelyn',\n",
       "   'institution': 'National Institute of Standards and Technology'},\n",
       "  'data_contributor': [{'email': 'jgaff@uchicago.edu',\n",
       "    'family_name': 'Gaff',\n",
       "    'full_name': 'Jonathon Gaff',\n",
       "    'github': 'jgaff',\n",
       "    'given_name': 'Jonathon',\n",
       "    'institution': 'The University of Chicago'}],\n",
       "  'description': 'DISCLAIMER: NIST uses its best efforts to deliver a high quality copy of the Database and to verify that the data contained therein have been selected on the basis of sound scientific judgement. However, NIST makes no warranties to that effect, and NIST shall not be liable for any damage that may result from errors or omissions in the Database.',\n",
       "  'ingest_date': '2017-08-04T19:34:26.282241Z',\n",
       "  'license': 'Copyright 1986 by the U.S. Department of Commerce on behalf of the United States. All rights reserved.',\n",
       "  'links': {'landing_page': 'http://kinetics.nist.gov/janaf/'},\n",
       "  'mdf_id': '5984cc42f2c00438337919d7',\n",
       "  'metadata_version': '0.3.2',\n",
       "  'resource_type': 'dataset',\n",
       "  'source_name': 'nist_janaf',\n",
       "  'tags': ['Thermochemical'],\n",
       "  'title': 'NIST-JANAF Thermochemical Tables',\n",
       "  'year': 1985}}"
      ]
     },
     "execution_count": 14,
     "metadata": {},
     "output_type": "execute_result"
    }
   ],
   "source": [
    "res = mdf.search_by_titles(['\"JANAF Thermochemical Tables\"'])\n",
    "res[0]"
   ]
  },
  {
   "cell_type": "markdown",
   "metadata": {},
   "source": [
    "### search_by_tags\n",
    "`search_by_tags()` executes a search for the provided tags in the provided sources and returns the results."
   ]
  },
  {
   "cell_type": "code",
   "execution_count": 15,
   "metadata": {},
   "outputs": [
    {
     "data": {
      "text/plain": [
       "{'mdf': {'author': [{'email': 'wjoost@umd.edu',\n",
       "    'family_name': 'Joost',\n",
       "    'full_name': 'William Joost',\n",
       "    'given_name': 'William',\n",
       "    'institution': 'University of Maryland'},\n",
       "   {'family_name': 'Ankem',\n",
       "    'full_name': 'Sreeramamurthy Ankem',\n",
       "    'given_name': 'Sreeramamurthy',\n",
       "    'institution': 'University of Maryland'},\n",
       "   {'family_name': 'Kuklja',\n",
       "    'full_name': 'Maija Kuklja',\n",
       "    'given_name': 'Maija',\n",
       "    'institution': 'University of Maryland'}],\n",
       "  'citation': ['W.J. Joost, S. Ankem, M.M. Kuklja \"A modified embedded atom method potential for the titanium-oxygen system\" Modelling and Simulation in Materials Science and Engineering Vol. 23, pp. 015006 (2015) doi:10.1088/0965-0393/23/1/015006'],\n",
       "  'collection': 'Ti-O MEAM Model',\n",
       "  'data_contact': {'email': 'wjoost@umd.edu',\n",
       "   'family_name': 'Joost',\n",
       "   'full_name': 'William Joost',\n",
       "   'given_name': 'William',\n",
       "   'institution': 'University of Maryland'},\n",
       "  'data_contributor': [{'email': 'jgaff@uchicago.edu',\n",
       "    'family_name': 'Gaff',\n",
       "    'full_name': 'Jonathon Gaff',\n",
       "    'github': 'jgaff',\n",
       "    'given_name': 'Jonathon',\n",
       "    'institution': 'The University of Chicago'}],\n",
       "  'description': 'The files included here are:\\n             1) LAMMPS and VASP input files describing the structures specified in the article.\\n              2) LAMMPS and VASP output files describing the calculation results and the output structures.\\n               3) A Python script used in this study to perform a brute force search of the parameter space for the Ti-O MEAM potential. Further details are provided in the article, and in the script.\\n                4) The Ti, O and Ti-O potential files in LAMMPS MEAM format',\n",
       "  'ingest_date': '2017-08-04T19:50:45.686503Z',\n",
       "  'links': {'data_doi': 'http://hdl.handle.net/11115/244',\n",
       "   'landing_page': 'https://materialsdata.nist.gov/dspace/xmlui/handle/11115/244',\n",
       "   'publication': ['https:/dx.doi.org/10.1088/0965-0393/23/1/015006']},\n",
       "  'mdf_id': '5984d015f2c004388b77e807',\n",
       "  'metadata_version': '0.3.2',\n",
       "  'resource_type': 'dataset',\n",
       "  'source_name': 'ti_o_meam_model',\n",
       "  'tags': ['dft', 'atom-scale simulation'],\n",
       "  'title': 'A Modified Embedded Atom Method Potential for the Titanium-Oxygen System',\n",
       "  'year': 2014}}"
      ]
     },
     "execution_count": 15,
     "metadata": {},
     "output_type": "execute_result"
    }
   ],
   "source": [
    "res = mdf.search_by_tags([\"dft\", \"simulation\"])\n",
    "res[0]"
   ]
  },
  {
   "cell_type": "markdown",
   "metadata": {},
   "source": [
    "### aggregate_source\n",
    "`aggregate_source()` fetches and returns all the records for a provided `\"mdf.source_name\"` value. Calling `search()` or `aggregate()` is not required, as this helper function does that for you. Please note that it is not possible to use the `limit` argument with this helper function, so you may get back a large number of results."
   ]
  },
  {
   "cell_type": "code",
   "execution_count": 16,
   "metadata": {},
   "outputs": [
    {
     "name": "stderr",
     "output_type": "stream",
     "text": [
      "100%|██████████| 1246/1246 [00:01<00:00, 669.40it/s]\n"
     ]
    },
    {
     "data": {
      "text/plain": [
       "{'fe_cr_al_oxidation': {'atomic_composition_percent': {'Al': 4.5,\n",
       "   'Cr': 25.7,\n",
       "   'Fe': 69.8},\n",
       "  'temperature_k': 420.0},\n",
       " 'mdf': {'collection': 'Fe-Cr-Al Oxidation Studies',\n",
       "  'composition': 'FeCrAl',\n",
       "  'elements': ['Cr', 'Fe', 'Al'],\n",
       "  'ingest_date': '2017-08-04T21:26:53.266642Z',\n",
       "  'links': {'csv': {'globus_endpoint': '82f1b5c6-6e9b-11e5-ba47-22000b92c6ec',\n",
       "    'http_host': 'https://data.materialsdatafacility.org',\n",
       "    'path': '/collections/Fe_Cr_Al_data/420 K/420 K Point 100.txt'},\n",
       "   'landing_page': 'https://materialsdata.nist.gov/dspace/xmlui/handle/11256/836#100',\n",
       "   'parent_id': '5984e69cf2c00439c790bf54'},\n",
       "  'mdf_id': '5984e69df2c00439c790bfb8',\n",
       "  'metadata_version': '0.3.2',\n",
       "  'resource_type': 'record',\n",
       "  'scroll_id': 100,\n",
       "  'source_name': 'fe_cr_al_oxidation',\n",
       "  'tags': ['csv'],\n",
       "  'title': 'Fe-Cr-Al Oxidation - 420 K Point 100'}}"
      ]
     },
     "execution_count": 16,
     "metadata": {},
     "output_type": "execute_result"
    }
   ],
   "source": [
    "res = mdf.aggregate_source(\"fe_cr_al_oxidation\")\n",
    "res[0]"
   ]
  },
  {
   "cell_type": "code",
   "execution_count": null,
   "metadata": {},
   "outputs": [],
   "source": []
  }
 ],
 "metadata": {
  "kernelspec": {
   "display_name": "Python 3",
   "language": "python",
   "name": "python3"
  },
  "language_info": {
   "codemirror_mode": {
    "name": "ipython",
    "version": 3
   },
   "file_extension": ".py",
   "mimetype": "text/x-python",
   "name": "python",
   "nbconvert_exporter": "python",
   "pygments_lexer": "ipython3",
   "version": "3.5.2"
  }
 },
 "nbformat": 4,
 "nbformat_minor": 2
}
