{
 "cells": [
  {
   "cell_type": "code",
   "execution_count": 4,
   "metadata": {
    "collapsed": true
   },
   "outputs": [],
   "source": [
    "ds_md_start = \"# BEGIN DATASET METADATA\"\n",
    "ds_md_end = \"# END DATASET METADATA\"\n",
    "rc_md_start = \"# BEGIN RECORD METADATA\"\n",
    "rc_md_end = \"# END RECORD METADATA\""
   ]
  },
  {
   "cell_type": "code",
   "execution_count": 13,
   "metadata": {
    "collapsed": false
   },
   "outputs": [],
   "source": [
    "with open(\"test_script.py\") as test_in:\n",
    "    doc = \"\"\n",
    "    ds_indent = \"\"\n",
    "    rc_indent = \"\"\n",
    "    pause = False\n",
    "    for line in test_in:\n",
    "        if pause:\n",
    "            if ds_md_end in line or rc_md_end in line:\n",
    "                doc += line\n",
    "                pause = False\n",
    "        elif ds_md_start in line:\n",
    "            doc += line\n",
    "            ds_indent = line.replace(ds_md_start, \"\").strip(\"\\n\")\n",
    "            doc += ds_indent+\"dataset_metadata = {\\n\"+ds_indent+\"    'thing': , # COMMENT\\n\" + ds_indent + \"    }\\n\"\n",
    "            pause = True\n",
    "        elif rc_md_start in line:\n",
    "            rc_indent = line.replace(rc_md_start, \"\").strip(\"\\n\")\n",
    "            pause = True\n",
    "        else:\n",
    "            doc += line\n",
    "#print(doc)\n",
    "with open(\"test_output.py\", 'w') as test_out:\n",
    "    test_out.write(doc)"
   ]
  },
  {
   "cell_type": "code",
   "execution_count": null,
   "metadata": {
    "collapsed": true
   },
   "outputs": [],
   "source": []
  }
 ],
 "metadata": {
  "kernelspec": {
   "display_name": "Python 3",
   "language": "python",
   "name": "python3"
  },
  "language_info": {
   "codemirror_mode": {
    "name": "ipython",
    "version": 3
   },
   "file_extension": ".py",
   "mimetype": "text/x-python",
   "name": "python",
   "nbconvert_exporter": "python",
   "pygments_lexer": "ipython3",
   "version": "3.6.0"
  }
 },
 "nbformat": 4,
 "nbformat_minor": 2
}
