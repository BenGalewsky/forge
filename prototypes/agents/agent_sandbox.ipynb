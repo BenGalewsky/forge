{
 "cells": [
  {
   "cell_type": "code",
   "execution_count": 25,
   "metadata": {
    "collapsed": true,
    "deletable": true,
    "editable": true
   },
   "outputs": [],
   "source": [
    "import json\n",
    "import search_client\n",
    "from gmeta_utils import gmeta_pop, format_gmeta"
   ]
  },
  {
   "cell_type": "code",
   "execution_count": 17,
   "metadata": {
    "collapsed": false,
    "deletable": true,
    "editable": true
   },
   "outputs": [],
   "source": [
    "client = search_client.SearchClient(\"https://search.api.globus.org/\", \"mdf\")"
   ]
  },
  {
   "cell_type": "code",
   "execution_count": 18,
   "metadata": {
    "collapsed": true,
    "deletable": true,
    "editable": true
   },
   "outputs": [],
   "source": [
    "query = {\n",
    "    \"q\": \"mdf-source_name:xafs_sl\",\n",
    "    \"advanced\": True,\n",
    "    \"limit\": 9999\n",
    "}"
   ]
  },
  {
   "cell_type": "code",
   "execution_count": 19,
   "metadata": {
    "collapsed": false,
    "deletable": true,
    "editable": true
   },
   "outputs": [],
   "source": [
    "search_res = gmeta_pop(client.structured_search(query))"
   ]
  },
  {
   "cell_type": "code",
   "execution_count": 20,
   "metadata": {
    "collapsed": false,
    "deletable": true,
    "editable": true
   },
   "outputs": [
    {
     "data": {
      "text/plain": [
       "32"
      ]
     },
     "execution_count": 20,
     "metadata": {},
     "output_type": "execute_result"
    }
   ],
   "source": [
    "len(search_res)"
   ]
  },
  {
   "cell_type": "code",
   "execution_count": 21,
   "metadata": {
    "collapsed": false,
    "deletable": true,
    "editable": true
   },
   "outputs": [
    {
     "data": {
      "text/plain": [
       "{'http://datacite.org/schema/kernel-3#contributor/author': ['Matthew Newville'],\n",
       " 'http://datacite.org/schema/kernel-3#creator': 'Advanced Photon Source - 13ID',\n",
       " 'http://datacite.org/schema/kernel-3#description': 'data from cu_foil.002\\r\\n     418 E XMU I0',\n",
       " 'http://datacite.org/schema/kernel-3#identifier': 'http://cars.uchicago.edu/xaslib/spectrum/726',\n",
       " 'http://datacite.org/schema/kernel-3#relatedidentifier': ['http://cars.uchicago.edu/xaslib/rawfile/726/Cu%20foil%20%28RT%29.xdi'],\n",
       " 'http://datacite.org/schema/kernel-3#title': 'Cu foil (RT)',\n",
       " 'http://datacite.org/schema/kernel-3#year': 2016,\n",
       " 'http://globus.org/publication-schemas/mdf-base/0.1#elements': ['Cu'],\n",
       " 'http://globus.org/publication-schemas/mdf-base/0.1#material_composition': 'Cu',\n",
       " 'http://globus.org/publish-terms/#publication/collection': 'XAFS Spectra Library',\n",
       " 'http://globus.org/publish-terms/#publication/community': 'Materials Data Facility',\n",
       " 'http://materialsdatafacility.org/#data': {'http://materialsdatafacility.org/#files': {'http://materialsdatafacility.org/#xdi': 'http://cars.uchicago.edu/xaslib/rawfile/726/Cu%20foil%20%28RT%29.xdi'},\n",
       "  'http://materialsdatafacility.org/#xafs_sl:absorption_edge': 'K',\n",
       "  'http://materialsdatafacility.org/#xafs_sl:beamline': 'Advanced Photon Source - 13ID',\n",
       "  'http://materialsdatafacility.org/#xafs_sl:d_spacing': 3.1355,\n",
       "  'http://materialsdatafacility.org/#xafs_sl:date_measured': '2001-06-26 22:27:37-05:00',\n",
       "  'http://materialsdatafacility.org/#xafs_sl:date_uploaded': '2016-03-18 14:25:51.242799-05:00',\n",
       "  'http://materialsdatafacility.org/#xafs_sl:energy_units': 'eV',\n",
       "  'http://materialsdatafacility.org/#xafs_sl:ratings': '',\n",
       "  'http://materialsdatafacility.org/#xafs_sl:reference_sample': 'none',\n",
       "  'http://materialsdatafacility.org/#xafs_sl:sample_name': 'Cu foil  Room Temperature',\n",
       "  'http://materialsdatafacility.org/#xafs_sl:sample_prep': 'metal foil',\n",
       "  'http://materialsdatafacility.org/#xafs_sl:user_comments': 'data from cu_foil.002\\r\\n     418 E XMU I0'},\n",
       " 'http://materialsdatafacility.org/#mdf_data_class': 'xafs',\n",
       " 'http://materialsdatafacility.org/#mdf_id': '58f8f471d0a0d30b81ab7ad7',\n",
       " 'http://materialsdatafacility.org/#mdf_node_type': 'record',\n",
       " 'http://materialsdatafacility.org/#mdf_source_name': 'xafs_sl',\n",
       " 'http://materialsdatafacility.org/#parent_id': '58f8f471d0a0d30b81ab7ad3'}"
      ]
     },
     "execution_count": 21,
     "metadata": {},
     "output_type": "execute_result"
    }
   ],
   "source": [
    "search_res[0]"
   ]
  },
  {
   "cell_type": "code",
   "execution_count": 26,
   "metadata": {
    "collapsed": false,
    "deletable": true,
    "editable": true
   },
   "outputs": [],
   "source": [
    "glist = []\n",
    "for res in search_res:\n",
    "    res[\"data_acquisition_method\"] = \"XAFS\"\n",
    "    res[\"globus_subject\"] = res[\"http://datacite.org/schema/kernel-3#identifier\"]\n",
    "    res[\"acl\"] = [\"public\"]\n",
    "    glist.append(format_gmeta(res))\n",
    "gmeta = format_gmeta(glist)\n",
    "gmeta = json.loads(json.dumps(gmeta).replace(\"mdf-publish.publication.community\", \"https://materialsdatafacility.org/#mdf-publish.publication.community\"))"
   ]
  },
  {
   "cell_type": "code",
   "execution_count": 27,
   "metadata": {
    "collapsed": false,
    "deletable": true,
    "editable": true
   },
   "outputs": [
    {
     "data": {
      "text/plain": [
       "GlobusHTTPResponse({'success': True})"
      ]
     },
     "execution_count": 27,
     "metadata": {},
     "output_type": "execute_result"
    }
   ],
   "source": [
    "client.ingest(gmeta)"
   ]
  },
  {
   "cell_type": "code",
   "execution_count": null,
   "metadata": {
    "collapsed": false,
    "deletable": true,
    "editable": true
   },
   "outputs": [],
   "source": []
  },
  {
   "cell_type": "code",
   "execution_count": null,
   "metadata": {
    "collapsed": true,
    "deletable": true,
    "editable": true
   },
   "outputs": [],
   "source": []
  }
 ],
 "metadata": {
  "kernelspec": {
   "display_name": "Python 3",
   "language": "python",
   "name": "python3"
  },
  "language_info": {
   "codemirror_mode": {
    "name": "ipython",
    "version": 3
   },
   "file_extension": ".py",
   "mimetype": "text/x-python",
   "name": "python",
   "nbconvert_exporter": "python",
   "pygments_lexer": "ipython3",
   "version": "3.6.0"
  }
 },
 "nbformat": 4,
 "nbformat_minor": 2
}
