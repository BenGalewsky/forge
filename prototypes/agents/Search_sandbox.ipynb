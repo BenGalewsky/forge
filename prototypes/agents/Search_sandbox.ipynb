{
 "cells": [
  {
   "cell_type": "code",
   "execution_count": 1,
   "metadata": {
    "collapsed": true,
    "deletable": true,
    "editable": true
   },
   "outputs": [],
   "source": [
    "import json\n",
    "import globus_auth\n",
    "from gmeta_utils import gmeta_pop, format_gmeta"
   ]
  },
  {
   "cell_type": "code",
   "execution_count": 2,
   "metadata": {
    "collapsed": false,
    "deletable": true,
    "editable": true
   },
   "outputs": [],
   "source": [
    "client = globus_auth.login(\"https://search.api.globus.org/\", \"globus_search\")"
   ]
  },
  {
   "cell_type": "markdown",
   "metadata": {
    "deletable": true,
    "editable": true
   },
   "source": [
    "# Search for specific elements"
   ]
  },
  {
   "cell_type": "code",
   "execution_count": 3,
   "metadata": {
    "collapsed": true,
    "deletable": true,
    "editable": true
   },
   "outputs": [],
   "source": [
    "all_elements = {\"Actinium\": \"Ac\", \"Silver\": \"Ag\", \"Aluminum\": \"Al\", \"Americium\": \"Am\", \"Argon\": \"Ar\", \"Arsenic\": \"As\", \"Astatine\": \"At\", \"Gold\": \"Au\", \"Boron\": \"B\", \"Barium\": \"Ba\", \"Beryllium\": \"Be\", \"Bohrium\": \"Bh\", \"Bismuth\": \"Bi\", \"Berkelium\": \"Bk\", \"Brom    ine\": \"Br\", \"Carbon\": \"C\", \"Calcium\": \"Ca\", \"Cadmium\": \"Cd\", \"Cerium\": \"Ce\", \"Californium\": \"Cf\", \"Chlorine\": \"Cl\", \"Curium\": \"Cm\", \"Copernicium\": \"Cn\", \"Cobalt\": \"Co\", \"Chromium\": \"Cr\", \"Cesium\": \"Cs\", \"Copper\": \"Cu\", \"Dubnium\": \"Db\", \"Darmstadtium\": \"Ds\", \"Dyspros    ium\": \"Dy\", \"Erbium\": \"Er\", \"Einsteinium\": \"Es\", \"Europium\": \"Eu\", \"Fluorine\": \"F\", \"Iron\": \"Fe\", \"Flerovium\": \"Fl\", \"Fermium\": \"Fm\", \"Francium\": \"Fr\", \"Gallium\": \"Ga\", \"Gadolinium\": \"Gd\", \"Germanium\": \"Ge\", \"Hydrogen\": \"H\", \"Helium\": \"He\", \"Hafnium\": \"Hf\", \"Mercury\": \"Hg\", \"Holmium\": \"Ho\", \"Hassium\": \"Hs\", \"Iodine\": \"I\", \"Indium\": \"In\", \"Iridium\": \"Ir\", \"Potassium\": \"K\", \"Krypton\": \"Kr\", \"Lanthanum\": \"La\", \"Lithium\": \"Li\", \"Lawrencium\": \"Lr\", \"Lutetium\": \"Lu\", \"Livermorium\": \"Lv\", \"Mendelevium\": \"Md\", \"Magnesium\": \"Mg\", \"Mang    anese\": \"Mn\", \"Molybdenum\": \"Mo\", \"Meitnerium\": \"Mt\", \"Nitrogen\": \"N\", \"Sodium\": \"Na\", \"Niobium\": \"Nb\", \"Neodymium\": \"Nd\", \"Neon\": \"Ne\", \"Nickel\": \"Ni\", \"Nobelium\": \"No\", \"Neptunium\": \"Np\", \"Oxygen\": \"O\", \"Osmium\": \"Os\", \"Phosphorus\": \"P\", \"Protactinium\": \"Pa\", \"Lea    d\": \"Pb\", \"Palladium\": \"Pd\", \"Promethium\": \"Pm\", \"Polonium\": \"Po\", \"Praseodymium\": \"Pr\", \"Platinum\": \"Pt\", \"Plutonium\": \"Pu\", \"Radium\": \"Ra\", \"Rubidium\": \"Rb\", \"Rhenium\": \"Re\", \"Rutherfordium\": \"Rf\", \"Roentgenium\": \"Rg\", \"Rhodium\": \"Rh\", \"Radon\": \"Rn\", \"Ruthenium\":     \"Ru\", \"Sulfur\": \"S\", \"Antimony\": \"Sb\", \"Scandium\": \"Sc\", \"Selenium\": \"Se\", \"Seaborgium\": \"Sg\", \"Silicon\": \"Si\", \"Samarium\": \"Sm\", \"Tin\": \"Sn\", \"Strontium\": \"Sr\", \"Tantalum\": \"Ta\", \"Terbium\": \"Tb\", \"Technetium\": \"Tc\", \"Tellurium\": \"Te\", \"Thorium\": \"Th\", \"Titanium\": \"Ti\", \"Thallium\": \"Tl\", \"Thulium\": \"Tm\", \"Uranium\": \"U\", \"Ununoctium\": \"Uuo\", \"Ununpentium\": \"Uup\", \"Ununseptium\": \"Uus\", \"Ununtrium\": \"Uut\", \"Vanadium\": \"V\", \"Tungsten\": \"W\", \"Xenon\": \"Xe\", \"Yttrium\": \"Y\", \"Ytterbium\": \"Yb\", \"Zinc\": \"Zn\", \"Zirconium\": \"Zr\"}"
   ]
  },
  {
   "cell_type": "code",
   "execution_count": 4,
   "metadata": {
    "collapsed": false,
    "deletable": true,
    "editable": true
   },
   "outputs": [],
   "source": [
    "elems = all_elements.values()"
   ]
  },
  {
   "cell_type": "code",
   "execution_count": 18,
   "metadata": {
    "collapsed": false,
    "deletable": true,
    "editable": true
   },
   "outputs": [],
   "source": [
    "query = {\n",
    "    \"q\": \"mdf_source_name:hopv AND mdf_node_type:record\",\n",
    "    \"advanced\": True,\n",
    "    \"limit\": 2\n",
    "}\n",
    "must = [\"Al\", \"Ni\", \"O\"]\n",
    "query2 = {\n",
    "    \"q\": \"\",\n",
    "    \"advanced\": True,\n",
    "    \"limit\": 9999\n",
    "}\n",
    "for elem in elems:\n",
    "    if elem in must:\n",
    "        query2[\"q\"] += \" AND elements:\" + elem\n",
    "    else:\n",
    "        query2[\"q\"] += \" AND NOT elements:\" + elem\n",
    "if query2[\"q\"].startswith(\" AND \"):\n",
    "    query2[\"q\"] = query2[\"q\"].replace(\" AND \", \"\", 1)\n",
    "else:\n",
    "    print(\"No replace\")"
   ]
  },
  {
   "cell_type": "code",
   "execution_count": 19,
   "metadata": {
    "collapsed": false,
    "deletable": true,
    "editable": true
   },
   "outputs": [],
   "source": [
    "#search_res = gmeta_pop(client.structured_search(query))\n",
    "raw_res = client.structured_search(query)\n",
    "#raw_res2 = client.structured_search(query2)\n",
    "search_res = gmeta_pop(raw_res)\n",
    "#search_res2 = gmeta_pop(raw_res2)"
   ]
  },
  {
   "cell_type": "code",
   "execution_count": 21,
   "metadata": {
    "collapsed": false,
    "deletable": true,
    "editable": true
   },
   "outputs": [
    {
     "name": "stdout",
     "output_type": "stream",
     "text": [
      "350\n",
      "2\n"
     ]
    },
    {
     "data": {
      "text/plain": [
       "{'http://datacite.org/schema/kernel-3#identifier': 'https://data.materialsdatafacility.org/collections/hopv/hopv_2.txt',\n",
       " 'http://datacite.org/schema/kernel-3#title': 'HOPV - CN1c2ccccc2C(=C2c3ccc(-c4cccs4)cc3N(C)C2=O)C1=O',\n",
       " 'http://globus.org/publication-schemas/mdf-base/0.1#material_composition': 'CN1c2ccccc2C(=C2c3ccc(-c4cccs4)cc3N(C)C2=O)C1=O',\n",
       " 'http://globus.org/publish-terms/#publication/collection': 'Harvard Organic Photovoltaic Dataset',\n",
       " 'http://globus.org/publish-terms/#publication/community': 'Materials Data Facility',\n",
       " 'http://materialsdatafacility.org/#cite_as': ['Aspuru-Guzik, Alan (2016): The Harvard Organic Photovoltaics 2015 (HOPV) dataset: An experiment-theory calibration resource.. Figshare. https://doi.org/10.6084/m9.figshare.1610063.v4'],\n",
       " 'http://materialsdatafacility.org/#data': {'http://materialsdatafacility.org/#files': {'http://materialsdatafacility.org/#molecule': 'https://data.materialsdatafacility.org/collections/hopv/hopv_2.txt',\n",
       "   'http://materialsdatafacility.org/#original': 'https://data.materialsdatafacility.org/collections/hopv/HOPV_15_revised_2.data'},\n",
       "  'http://materialsdatafacility.org/#hopv-experimental_data': '{\"doi\": \"10.1039/C3PY01598J\", \"inchikey\": \"PAPOKCOIPOLVSC-BNEIJSFPSA-N\", \"construction\": \"polymer\", \"architecture\": \"bulk\", \"complement\": \"PC71BM\", \"homo\": NaN, \"lumo\": NaN, \"electrochemical_gap\": NaN, \"optical_gap\": NaN, \"pce\": 3.0, \"voc\": 0.89, \"jsc\": 5.4, \"fill_factor\": 63.0}'},\n",
       " 'http://materialsdatafacility.org/#globus_scroll_id': 1,\n",
       " 'http://materialsdatafacility.org/#mdf_id': '59303bba225bc10e77223be6',\n",
       " 'http://materialsdatafacility.org/#mdf_node_type': 'record',\n",
       " 'http://materialsdatafacility.org/#mdf_source_name': 'hopv',\n",
       " 'http://materialsdatafacility.org/#parent_id': '59303bba225bc10e77223be4'}"
      ]
     },
     "execution_count": 21,
     "metadata": {},
     "output_type": "execute_result"
    }
   ],
   "source": [
    "print(raw_res[\"total\"])\n",
    "#print(raw_res2[\"total\"])\n",
    "print(len(search_res))\n",
    "#print(raw_res)\n",
    "search_res[0]"
   ]
  },
  {
   "cell_type": "code",
   "execution_count": 99,
   "metadata": {
    "collapsed": false,
    "deletable": true,
    "editable": true
   },
   "outputs": [],
   "source": [
    "#elements = set()\n",
    "#for res in search_res:\n",
    "#    for elem in res.get(\"http://globus.org/publication-schemas/mdf-base/0.1#elements\", []):\n",
    "#        elements.add(elem)\n",
    "elements2 = set()\n",
    "for res2 in search_res2:\n",
    "    for elem2 in res2.get(\"http://globus.org/publication-schemas/mdf-base/0.1#elements\", []):\n",
    "        elements2.add(elem2)"
   ]
  },
  {
   "cell_type": "code",
   "execution_count": 100,
   "metadata": {
    "collapsed": false,
    "deletable": true,
    "editable": true
   },
   "outputs": [
    {
     "name": "stdout",
     "output_type": "stream",
     "text": [
      "True\n",
      "True\n",
      "True\n",
      "{'Ni', 'O', 'Al'}\n"
     ]
    }
   ],
   "source": [
    "print((\"Al\" not in elements))\n",
    "print((\"Al\" in elements2))\n",
    "print((\"Cu\" not in elements2))\n",
    "#print(str(elements))\n",
    "print(str(elements2))"
   ]
  },
  {
   "cell_type": "code",
   "execution_count": 68,
   "metadata": {
    "collapsed": false,
    "deletable": true,
    "editable": true
   },
   "outputs": [
    {
     "data": {
      "text/plain": [
       "{'http://datacite.org/schema/kernel-3#identifier': 'Calc-1524',\n",
       " 'http://datacite.org/schema/kernel-3#title': 'NIST Classical Interatomic Potential - Farkas_Nb-Ti-Al_1996.eam.alloy, Al32',\n",
       " 'http://globus.org/publication-schemas/mdf-base/0.1#elements': ['Al'],\n",
       " 'http://globus.org/publication-schemas/mdf-base/0.1#material_composition': 'Al32',\n",
       " 'http://globus.org/publish-terms/#publication/collection': 'Classical Interatomic Potentials',\n",
       " 'http://globus.org/publish-terms/#publication/community': 'Materials Data Facility',\n",
       " 'http://materialsdatafacility.org/#data': {'http://materialsdatafacility.org/#raw': '{\"Gv\": \"42.0\", \"search\": \"Al\", \"mpid\": \"mp-134\", \"totenergy\": \"-102.60314\", \"energy\": \"-3.21\", \"case-number\": \"Calc-1524\", \"ehull\": \"0\", \"elastic_matrix\": {\"c3\": [123.6, 123.6, 181.0, -0.0, 0.0, 0.0], \"c2\": [123.6, 181.0, 123.6, -0.0, 0.0, 0.0], \"c1\": [181.0, 123.6, 123.6, -0.0, -0.0, 0.0], \"c6\": [0.0, 0.0, 0.0, 0.0, 0.0, 50.8], \"c5\": [-0.0, 0.0, 0.0, 0.0, 50.8, 0.0], \"c4\": [-0.0, -0.0, -0.0, 50.8, 0.0, 0.0]}, \"Bv\": \"142.7\", \"forcefield\": \"Farkas_Nb-Ti-Al_1996.eam.alloy\", \"composition\": \"Al32\", \"structure\": \"Al1\"}'},\n",
       " 'http://materialsdatafacility.org/#mdf_id': '58f7c146d0a0d3063061990d',\n",
       " 'http://materialsdatafacility.org/#mdf_node_type': 'record',\n",
       " 'http://materialsdatafacility.org/#mdf_source_name': 'cip',\n",
       " 'http://materialsdatafacility.org/#parent_id': '58f7c146d0a0d30630619335'}"
      ]
     },
     "execution_count": 68,
     "metadata": {},
     "output_type": "execute_result"
    }
   ],
   "source": [
    "search_res2[0]"
   ]
  },
  {
   "cell_type": "markdown",
   "metadata": {
    "collapsed": false,
    "deletable": true,
    "editable": true
   },
   "source": [
    "# Search for >10k records"
   ]
  },
  {
   "cell_type": "code",
   "execution_count": 117,
   "metadata": {
    "collapsed": false,
    "deletable": true,
    "editable": true
   },
   "outputs": [],
   "source": [
    "count = 0\n",
    "saved = 0\n",
    "while True:\n",
    "    query = {\n",
    "        \"q\": (\"mdf_source_name:nist_xps_db AND mdf_node_type:record AND \"\n",
    "        \"globus_scroll_id:(>=\" + str(count) + \" AND <\" + str(count + 10000) + \")\"),\n",
    "        \"advanced\": True,\n",
    "        \"limit\": 10000\n",
    "    }\n",
    "    raw_res = client.structured_search(query)\n",
    "    num_ret = len(gmeta_pop(raw_res))\n",
    "    if num_ret:\n",
    "        saved += num_ret\n",
    "        count += 10000\n",
    "    else:\n",
    "        break"
   ]
  },
  {
   "cell_type": "code",
   "execution_count": 118,
   "metadata": {
    "collapsed": false,
    "deletable": true,
    "editable": true
   },
   "outputs": [
    {
     "name": "stdout",
     "output_type": "stream",
     "text": [
      "29189\n"
     ]
    }
   ],
   "source": [
    "print(saved)"
   ]
  },
  {
   "cell_type": "code",
   "execution_count": null,
   "metadata": {
    "collapsed": true,
    "deletable": true,
    "editable": true
   },
   "outputs": [],
   "source": []
  }
 ],
 "metadata": {
  "kernelspec": {
   "display_name": "Python 3",
   "language": "python",
   "name": "python3"
  },
  "language_info": {
   "codemirror_mode": {
    "name": "ipython",
    "version": 3
   },
   "file_extension": ".py",
   "mimetype": "text/x-python",
   "name": "python",
   "nbconvert_exporter": "python",
   "pygments_lexer": "ipython3",
   "version": "3.6.0"
  }
 },
 "nbformat": 4,
 "nbformat_minor": 2
}
