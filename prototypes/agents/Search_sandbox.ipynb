{
 "cells": [
  {
   "cell_type": "code",
   "execution_count": 1,
   "metadata": {
    "collapsed": false,
    "deletable": true,
    "editable": true
   },
   "outputs": [],
   "source": [
    "import json\n",
    "import search_client\n",
    "from gmeta_utils import gmeta_pop, format_gmeta"
   ]
  },
  {
   "cell_type": "code",
   "execution_count": 2,
   "metadata": {
    "collapsed": false,
    "deletable": true,
    "editable": true
   },
   "outputs": [],
   "source": [
    "client = search_client.SearchClient(\"https://search.api.globus.org/\", \"mdf\")"
   ]
  },
  {
   "cell_type": "markdown",
   "metadata": {
    "deletable": true,
    "editable": true
   },
   "source": [
    "# Get GMeta"
   ]
  },
  {
   "cell_type": "code",
   "execution_count": 5,
   "metadata": {
    "collapsed": false,
    "deletable": true,
    "editable": true
   },
   "outputs": [],
   "source": [
    "feed_path = \"/Volumes/Seagate Backup Plus Drive/mdf_data/feedstock/amcs_all.json\"\n",
    "out_path = \"/Users/jonathongaff/Downloads/records.gmeta\"\n",
    "with open(feed_path) as feedstock:\n",
    "    glist = []\n",
    "    for line in feedstock:\n",
    "        glist.append(format_gmeta(json.loads(line)))\n",
    "gmeta = format_gmeta(glist)\n",
    "#print(gmeta)\n",
    "with open(out_path, \"w\") as outfile:\n",
    "    json.dump(gmeta, outfile)"
   ]
  },
  {
   "cell_type": "markdown",
   "metadata": {
    "deletable": true,
    "editable": true
   },
   "source": [
    "# General Search"
   ]
  },
  {
   "cell_type": "code",
   "execution_count": 3,
   "metadata": {
    "collapsed": false,
    "deletable": true,
    "editable": true
   },
   "outputs": [
    {
     "name": "stdout",
     "output_type": "stream",
     "text": [
      "[{'mdf-author': [{'email': 'kamal.choudhary@nist.gov', 'family_name': 'Choudhary', 'given_name': 'Kamal', 'institution': 'National Institute of Standards and Technology'}, {'family_name': 'Congo', 'given_name': 'Faical', 'institution': 'National Institute of Standards and Technology'}, {'family_name': 'Liang', 'given_name': 'Tao', 'institution': 'The Pennsylvania State University'}, {'family_name': 'Becker', 'given_name': 'Chandler', 'institution': 'National Institute of Standards and Technology'}, {'family_name': 'Hennig', 'given_name': 'Richard', 'institution': 'University of Florida'}, {'family_name': 'Tavazza', 'given_name': 'Francesca', 'institution': 'National Institute of Standards and Technology'}], 'mdf-citation': ['Choudhary K, Congo FYP, Liang T, Becker C, Hennig RG, Tavazza F (2017) Evaluation and comparison of classical interatomic potentials through a user-friendly interactive web-interface. Scientific Data 4: 160125. http://dx.doi.org/10.1038/sdata.2016.125', 'Choudhary K, Congo FYP, Liang T, Becker C, Hennig RG, Tavazza F (2017) Data from: Evaluation and comparison of classical interatomic potentials through a user-friendly interactive web-interface. Dryad Digital Repository. http://dx.doi.org/10.5061/dryad.dd56c'], 'mdf-collection': 'NIST Classical Interatomic Potentials', 'mdf-data_contact': {'email': 'kamal.choudhary@nist.gov', 'family_name': 'Choudhary', 'given_name': 'Kamal', 'institution': 'National Institute of Standards and Technology'}, 'mdf-data_contributor': [{'email': 'jgaff@uchicago.edu', 'family_name': 'Gaff', 'github': 'jgaff', 'given_name': 'Jonathon', 'institution': 'The University of Chicago'}], 'mdf-data_format': ['json'], 'mdf-data_type': ['Simulation'], 'mdf-description': 'We computed energetics and elastic properties of variety of materials such as metals and ceramics using a wide range of empirical potentials and compared them to density functional theory (DFT) as well as to experimental data, where available.', 'mdf-id': '595d0057d0a0d30d3f066ddf', 'mdf-ingest_date': '2017-07-05T15:05:59.268389Z', 'mdf-license': 'https://creativecommons.org/publicdomain/zero/1.0/', 'mdf-links': {'mdf-dataset_doi': 'http://dx.doi.org/10.5061/dryad.dd56c', 'mdf-landing_page': 'https://www.ctcms.nist.gov/~knc6/periodic.html', 'mdf-publication': ['http://dx.doi.org/10.1038/sdata.2016.125']}, 'mdf-metadata_version': '0.2.1', 'mdf-node_type': 'dataset', 'mdf-publish.publication.community': 'Materials Data Facility', 'mdf-source_name': 'cip', 'mdf-tags': ['interatomic potentials', 'force-fields', 'total energy', 'energy', 'elastic matrix', 'structure', 'elastic modulus', 'JARVIS'], 'mdf-title': 'Evaluation and comparison of classical interatomic potentials through a user-friendly interactive web-interface', 'mdf-year': 2017}, {'mdf-author': [{'email': 'kamal.choudhary@nist.gov', 'family_name': 'Choudhary', 'given_name': 'Kamal', 'institution': 'National Institute of Standards and Technology'}, {'family_name': 'Congo', 'given_name': 'Faical', 'institution': 'National Institute of Standards and Technology'}, {'family_name': 'Liang', 'given_name': 'Tao', 'institution': 'The Pennsylvania State University'}, {'family_name': 'Becker', 'given_name': 'Chandler', 'institution': 'National Institute of Standards and Technology'}, {'family_name': 'Hennig', 'given_name': 'Richard', 'institution': 'University of Florida'}, {'family_name': 'Tavazza', 'given_name': 'Francesca', 'institution': 'National Institute of Standards and Technology'}], 'mdf-citation': ['Choudhary K, Congo FYP, Liang T, Becker C, Hennig RG, Tavazza F (2017) Evaluation and comparison of classical interatomic potentials through a user-friendly interactive web-interface. Scientific Data 4: 160125. http://dx.doi.org/10.1038/sdata.2016.125', 'Choudhary K, Congo FYP, Liang T, Becker C, Hennig RG, Tavazza F (2017) Data from: Evaluation and comparison of classical interatomic potentials through a user-friendly interactive web-interface. Dryad Digital Repository. http://dx.doi.org/10.5061/dryad.dd56c'], 'mdf-collection': 'NIST Classical Interatomic Potentials', 'mdf-composition': 'Al32', 'mdf-data_contact': {'email': 'kamal.choudhary@nist.gov', 'family_name': 'Choudhary', 'given_name': 'Kamal', 'institution': 'National Institute of Standards and Technology'}, 'mdf-data_contributor': [{'email': 'jgaff@uchicago.edu', 'family_name': 'Gaff', 'github': 'jgaff', 'given_name': 'Jonathon', 'institution': 'The University of Chicago'}], 'mdf-data_format': ['json'], 'mdf-data_type': ['Simulation'], 'mdf-elements': ['Al'], 'mdf-id': '595d0057d0a0d30d3f066de0', 'mdf-ingest_date': '2017-07-05T15:05:59.451290Z', 'mdf-license': 'https://creativecommons.org/publicdomain/zero/1.0/', 'mdf-links': {'mdf-dataset_doi': 'http://dx.doi.org/10.5061/dryad.dd56c', 'mdf-landing_page': 'https://www.ctcms.nist.gov/~knc6/periodic.html#1', 'mdf-parent_id': '595d0057d0a0d30d3f066ddf', 'mdf-publication': ['http://dx.doi.org/10.1038/sdata.2016.125']}, 'mdf-metadata_version': '0.2.1', 'mdf-node_type': 'record', 'mdf-publish.publication.community': 'Materials Data Facility', 'mdf-raw': '{\"Gv\": \"30.4\", \"search\": \"Al\", \"mpid\": \"mp-134\", \"totenergy\": \"-107.52\", \"energy\": \"-3.36\", \"case-number\": \"Calc-1\", \"ehull\": \"0\", \"elastic_matrix\": {\"c3\": [60.1, 60.1, 116.8, -0.0, -0.0, -0.0], \"c2\": [60.1, 116.8, 60.1, -0.0, 0.0, 0.0], \"c1\": [116.8, 60.1, 60.1, -0.0, 0.0, 0.0], \"c6\": [0.0, 0.0, -0.0, 0.0, -0.0, 31.7], \"c5\": [0.0, 0.0, -0.0, 0.0, 31.7, -0.0], \"c4\": [-0.0, -0.0, -0.0, 31.7, 0.0, 0.0]}, \"Bv\": \"79.0\", \"forcefield\": \"Al03.eam.alloy\", \"composition\": \"Al32\", \"structure\": \"Al1\"}', 'mdf-scroll_id': 1, 'mdf-source_name': 'cip', 'mdf-tags': ['interatomic potentials', 'force-fields', 'total energy', 'elastic matrix', 'structure', 'elastic modulus', 'energy', 'JARVIS'], 'mdf-title': 'NIST Classical Interatomic Potential - Al03.eam.alloy, Al32', 'mdf-year': 2017}, {'mdf-author': [{'email': 'kamal.choudhary@nist.gov', 'family_name': 'Choudhary', 'given_name': 'Kamal', 'institution': 'National Institute of Standards and Technology'}, {'family_name': 'Congo', 'given_name': 'Faical', 'institution': 'National Institute of Standards and Technology'}, {'family_name': 'Liang', 'given_name': 'Tao', 'institution': 'The Pennsylvania State University'}, {'family_name': 'Becker', 'given_name': 'Chandler', 'institution': 'National Institute of Standards and Technology'}, {'family_name': 'Hennig', 'given_name': 'Richard', 'institution': 'University of Florida'}, {'family_name': 'Tavazza', 'given_name': 'Francesca', 'institution': 'National Institute of Standards and Technology'}], 'mdf-citation': ['Choudhary K, Congo FYP, Liang T, Becker C, Hennig RG, Tavazza F (2017) Evaluation and comparison of classical interatomic potentials through a user-friendly interactive web-interface. Scientific Data 4: 160125. http://dx.doi.org/10.1038/sdata.2016.125', 'Choudhary K, Congo FYP, Liang T, Becker C, Hennig RG, Tavazza F (2017) Data from: Evaluation and comparison of classical interatomic potentials through a user-friendly interactive web-interface. Dryad Digital Repository. http://dx.doi.org/10.5061/dryad.dd56c'], 'mdf-collection': 'NIST Classical Interatomic Potentials', 'mdf-composition': 'Cu16', 'mdf-data_contact': {'email': 'kamal.choudhary@nist.gov', 'family_name': 'Choudhary', 'given_name': 'Kamal', 'institution': 'National Institute of Standards and Technology'}, 'mdf-data_contributor': [{'email': 'jgaff@uchicago.edu', 'family_name': 'Gaff', 'github': 'jgaff', 'given_name': 'Jonathon', 'institution': 'The University of Chicago'}], 'mdf-data_format': ['json'], 'mdf-data_type': ['Simulation'], 'mdf-elements': ['Cu'], 'mdf-id': '595d0057d0a0d30d3f066de1', 'mdf-ingest_date': '2017-07-05T15:05:59.469729Z', 'mdf-license': 'https://creativecommons.org/publicdomain/zero/1.0/', 'mdf-links': {'mdf-dataset_doi': 'http://dx.doi.org/10.5061/dryad.dd56c', 'mdf-landing_page': 'https://www.ctcms.nist.gov/~knc6/periodic.html#2', 'mdf-parent_id': '595d0057d0a0d30d3f066ddf', 'mdf-publication': ['http://dx.doi.org/10.1038/sdata.2016.125']}, 'mdf-metadata_version': '0.2.1', 'mdf-node_type': 'record', 'mdf-publish.publication.community': 'Materials Data Facility', 'mdf-raw': '{\"Gv\": \"46.1\", \"search\": \"Cu\", \"mpid\": \"mp-989782\", \"totenergy\": \"-56.514851\", \"energy\": \"-3.53\", \"case-number\": \"Calc-2\", \"ehull\": \"0.00533297\", \"elastic_matrix\": {\"c3\": [84.0, 84.0, 215.7, 0.0, 0.0, -0.0], \"c2\": [120.7, 206.6, 84.0, -0.0, 0.0, 0.0], \"c1\": [206.6, 120.7, 84.0, 0.0, 0.0, -12.4], \"c6\": [-12.4, 0.0, -0.0, -0.0, -0.0, 42.9], \"c5\": [0.0, 0.0, 0.0, -0.0, 37.1, -0.0], \"c4\": [0.0, -0.0, 0.0, 37.1, -0.0, -0.0]}, \"Bv\": \"134.0\", \"forcefield\": \"CuAg.eam.alloy\", \"composition\": \"Cu16\", \"structure\": \"Cu2\"}', 'mdf-scroll_id': 2, 'mdf-source_name': 'cip', 'mdf-tags': ['interatomic potentials', 'force-fields', 'total energy', 'elastic matrix', 'structure', 'elastic modulus', 'energy', 'JARVIS'], 'mdf-title': 'NIST Classical Interatomic Potential - CuAg.eam.alloy, Cu16', 'mdf-year': 2017}, {'mdf-author': [{'email': 'kamal.choudhary@nist.gov', 'family_name': 'Choudhary', 'given_name': 'Kamal', 'institution': 'National Institute of Standards and Technology'}, {'family_name': 'Congo', 'given_name': 'Faical', 'institution': 'National Institute of Standards and Technology'}, {'family_name': 'Liang', 'given_name': 'Tao', 'institution': 'The Pennsylvania State University'}, {'family_name': 'Becker', 'given_name': 'Chandler', 'institution': 'National Institute of Standards and Technology'}, {'family_name': 'Hennig', 'given_name': 'Richard', 'institution': 'University of Florida'}, {'family_name': 'Tavazza', 'given_name': 'Francesca', 'institution': 'National Institute of Standards and Technology'}], 'mdf-citation': ['Choudhary K, Congo FYP, Liang T, Becker C, Hennig RG, Tavazza F (2017) Evaluation and comparison of classical interatomic potentials through a user-friendly interactive web-interface. Scientific Data 4: 160125. http://dx.doi.org/10.1038/sdata.2016.125', 'Choudhary K, Congo FYP, Liang T, Becker C, Hennig RG, Tavazza F (2017) Data from: Evaluation and comparison of classical interatomic potentials through a user-friendly interactive web-interface. Dryad Digital Repository. http://dx.doi.org/10.5061/dryad.dd56c'], 'mdf-collection': 'NIST Classical Interatomic Potentials', 'mdf-composition': 'Cu32', 'mdf-data_contact': {'email': 'kamal.choudhary@nist.gov', 'family_name': 'Choudhary', 'given_name': 'Kamal', 'institution': 'National Institute of Standards and Technology'}, 'mdf-data_contributor': [{'email': 'jgaff@uchicago.edu', 'family_name': 'Gaff', 'github': 'jgaff', 'given_name': 'Jonathon', 'institution': 'The University of Chicago'}], 'mdf-data_format': ['json'], 'mdf-data_type': ['Simulation'], 'mdf-elements': ['Cu'], 'mdf-id': '595d0057d0a0d30d3f066de2', 'mdf-ingest_date': '2017-07-05T15:05:59.478114Z', 'mdf-license': 'https://creativecommons.org/publicdomain/zero/1.0/', 'mdf-links': {'mdf-dataset_doi': 'http://dx.doi.org/10.5061/dryad.dd56c', 'mdf-landing_page': 'https://www.ctcms.nist.gov/~knc6/periodic.html#3', 'mdf-parent_id': '595d0057d0a0d30d3f066ddf', 'mdf-publication': ['http://dx.doi.org/10.1038/sdata.2016.125']}, 'mdf-metadata_version': '0.2.1', 'mdf-node_type': 'record', 'mdf-publish.publication.community': 'Materials Data Facility', 'mdf-raw': '{\"Gv\": \"55.2\", \"search\": \"Cu\", \"mpid\": \"mp-30\", \"totenergy\": \"-113.28\", \"energy\": \"-3.54\", \"case-number\": \"Calc-3\", \"ehull\": \"0\", \"elastic_matrix\": {\"c3\": [122.6, 122.6, 169.9, -0.0, 0.0, 0.0], \"c2\": [122.6, 169.9, 122.6, -0.0, 0.0, 0.0], \"c1\": [169.9, 122.6, 122.6, -0.0, 0.0, -0.0], \"c6\": [-0.0, 0.0, 0.0, -0.0, 0.0, 76.2], \"c5\": [0.0, 0.0, 0.0, -0.0, 76.2, 0.0], \"c4\": [-0.0, -0.0, -0.0, 76.2, -0.0, -0.0]}, \"Bv\": \"138.4\", \"forcefield\": \"CuAg.eam.alloy\", \"composition\": \"Cu32\", \"structure\": \"Cu1\"}', 'mdf-scroll_id': 3, 'mdf-source_name': 'cip', 'mdf-tags': ['interatomic potentials', 'force-fields', 'total energy', 'elastic matrix', 'structure', 'elastic modulus', 'energy', 'JARVIS'], 'mdf-title': 'NIST Classical Interatomic Potential - CuAg.eam.alloy, Cu32', 'mdf-year': 2017}, {'mdf-author': [{'email': 'kamal.choudhary@nist.gov', 'family_name': 'Choudhary', 'given_name': 'Kamal', 'institution': 'National Institute of Standards and Technology'}, {'family_name': 'Congo', 'given_name': 'Faical', 'institution': 'National Institute of Standards and Technology'}, {'family_name': 'Liang', 'given_name': 'Tao', 'institution': 'The Pennsylvania State University'}, {'family_name': 'Becker', 'given_name': 'Chandler', 'institution': 'National Institute of Standards and Technology'}, {'family_name': 'Hennig', 'given_name': 'Richard', 'institution': 'University of Florida'}, {'family_name': 'Tavazza', 'given_name': 'Francesca', 'institution': 'National Institute of Standards and Technology'}], 'mdf-citation': ['Choudhary K, Congo FYP, Liang T, Becker C, Hennig RG, Tavazza F (2017) Evaluation and comparison of classical interatomic potentials through a user-friendly interactive web-interface. Scientific Data 4: 160125. http://dx.doi.org/10.1038/sdata.2016.125', 'Choudhary K, Congo FYP, Liang T, Becker C, Hennig RG, Tavazza F (2017) Data from: Evaluation and comparison of classical interatomic potentials through a user-friendly interactive web-interface. Dryad Digital Repository. http://dx.doi.org/10.5061/dryad.dd56c'], 'mdf-collection': 'NIST Classical Interatomic Potentials', 'mdf-composition': 'Ag16', 'mdf-data_contact': {'email': 'kamal.choudhary@nist.gov', 'family_name': 'Choudhary', 'given_name': 'Kamal', 'institution': 'National Institute of Standards and Technology'}, 'mdf-data_contributor': [{'email': 'jgaff@uchicago.edu', 'family_name': 'Gaff', 'github': 'jgaff', 'given_name': 'Jonathon', 'institution': 'The University of Chicago'}], 'mdf-data_format': ['json'], 'mdf-data_type': ['Simulation'], 'mdf-elements': ['Ag'], 'mdf-id': '595d0057d0a0d30d3f066de6', 'mdf-ingest_date': '2017-07-05T15:05:59.507464Z', 'mdf-license': 'https://creativecommons.org/publicdomain/zero/1.0/', 'mdf-links': {'mdf-dataset_doi': 'http://dx.doi.org/10.5061/dryad.dd56c', 'mdf-landing_page': 'https://www.ctcms.nist.gov/~knc6/periodic.html#7', 'mdf-parent_id': '595d0057d0a0d30d3f066ddf', 'mdf-publication': ['http://dx.doi.org/10.1038/sdata.2016.125']}, 'mdf-metadata_version': '0.2.1', 'mdf-node_type': 'record', 'mdf-publish.publication.community': 'Materials Data Facility', 'mdf-raw': '{\"Gv\": \"29.5\", \"search\": \"Ag\", \"mpid\": \"mp-10597\", \"totenergy\": \"-45.53844\", \"energy\": \"-2.85\", \"case-number\": \"Calc-7\", \"ehull\": \"0.011747485\", \"elastic_matrix\": {\"c3\": [75.1, 75.1, 159.4, 0.0, 0.0, 0.0], \"c2\": [94.2, 146.7, 75.1, -0.0, 0.0, -0.0], \"c1\": [146.7, 94.2, 75.1, 0.0, 0.0, 7.6], \"c6\": [7.6, -0.0, 0.0, 0.0, -0.0, 26.2], \"c5\": [0.0, 0.0, 0.0, 0.0, 25.8, -0.0], \"c4\": [0.0, -0.0, 0.0, 25.8, 0.0, 0.0]}, \"Bv\": \"104.6\", \"forcefield\": \"CuAg.eam.alloy\", \"composition\": \"Ag16\", \"structure\": \"Ag2\"}', 'mdf-scroll_id': 7, 'mdf-source_name': 'cip', 'mdf-tags': ['interatomic potentials', 'force-fields', 'total energy', 'elastic matrix', 'structure', 'elastic modulus', 'energy', 'JARVIS'], 'mdf-title': 'NIST Classical Interatomic Potential - CuAg.eam.alloy, Ag16', 'mdf-year': 2017}, {'mdf-author': [{'email': 'kamal.choudhary@nist.gov', 'family_name': 'Choudhary', 'given_name': 'Kamal', 'institution': 'National Institute of Standards and Technology'}, {'family_name': 'Congo', 'given_name': 'Faical', 'institution': 'National Institute of Standards and Technology'}, {'family_name': 'Liang', 'given_name': 'Tao', 'institution': 'The Pennsylvania State University'}, {'family_name': 'Becker', 'given_name': 'Chandler', 'institution': 'National Institute of Standards and Technology'}, {'family_name': 'Hennig', 'given_name': 'Richard', 'institution': 'University of Florida'}, {'family_name': 'Tavazza', 'given_name': 'Francesca', 'institution': 'National Institute of Standards and Technology'}], 'mdf-citation': ['Choudhary K, Congo FYP, Liang T, Becker C, Hennig RG, Tavazza F (2017) Evaluation and comparison of classical interatomic potentials through a user-friendly interactive web-interface. Scientific Data 4: 160125. http://dx.doi.org/10.1038/sdata.2016.125', 'Choudhary K, Congo FYP, Liang T, Becker C, Hennig RG, Tavazza F (2017) Data from: Evaluation and comparison of classical interatomic potentials through a user-friendly interactive web-interface. Dryad Digital Repository. http://dx.doi.org/10.5061/dryad.dd56c'], 'mdf-collection': 'NIST Classical Interatomic Potentials', 'mdf-composition': 'Ag32', 'mdf-data_contact': {'email': 'kamal.choudhary@nist.gov', 'family_name': 'Choudhary', 'given_name': 'Kamal', 'institution': 'National Institute of Standards and Technology'}, 'mdf-data_contributor': [{'email': 'jgaff@uchicago.edu', 'family_name': 'Gaff', 'github': 'jgaff', 'given_name': 'Jonathon', 'institution': 'The University of Chicago'}], 'mdf-data_format': ['json'], 'mdf-data_type': ['Simulation'], 'mdf-elements': ['Ag'], 'mdf-id': '595d0057d0a0d30d3f066de7', 'mdf-ingest_date': '2017-07-05T15:05:59.513218Z', 'mdf-license': 'https://creativecommons.org/publicdomain/zero/1.0/', 'mdf-links': {'mdf-dataset_doi': 'http://dx.doi.org/10.5061/dryad.dd56c', 'mdf-landing_page': 'https://www.ctcms.nist.gov/~knc6/periodic.html#8', 'mdf-parent_id': '595d0057d0a0d30d3f066ddf', 'mdf-publication': ['http://dx.doi.org/10.1038/sdata.2016.125']}, 'mdf-metadata_version': '0.2.1', 'mdf-node_type': 'record', 'mdf-publish.publication.community': 'Materials Data Facility', 'mdf-raw': '{\"Gv\": \"33.9\", \"search\": \"Ag\", \"mpid\": \"mp-124\", \"totenergy\": \"-91.199999\", \"energy\": \"-2.85\", \"case-number\": \"Calc-8\", \"ehull\": \"0\", \"elastic_matrix\": {\"c3\": [93.9, 93.9, 124.2, -0.0, -0.0, -0.0], \"c2\": [93.9, 124.2, 93.9, 0.0, -0.0, -0.0], \"c1\": [124.2, 93.9, 93.9, -0.0, -0.0, -0.0], \"c6\": [-0.0, -0.0, -0.0, 0.0, 0.0, 46.4], \"c5\": [-0.0, -0.0, -0.0, 0.0, 46.4, 0.0], \"c4\": [-0.0, 0.0, -0.0, 46.4, 0.0, 0.0]}, \"Bv\": \"104.0\", \"forcefield\": \"CuAg.eam.alloy\", \"composition\": \"Ag32\", \"structure\": \"Ag1\"}', 'mdf-scroll_id': 8, 'mdf-source_name': 'cip', 'mdf-tags': ['interatomic potentials', 'force-fields', 'total energy', 'elastic matrix', 'structure', 'elastic modulus', 'energy', 'JARVIS'], 'mdf-title': 'NIST Classical Interatomic Potential - CuAg.eam.alloy, Ag32', 'mdf-year': 2017}, {'mdf-author': [{'email': 'kamal.choudhary@nist.gov', 'family_name': 'Choudhary', 'given_name': 'Kamal', 'institution': 'National Institute of Standards and Technology'}, {'family_name': 'Congo', 'given_name': 'Faical', 'institution': 'National Institute of Standards and Technology'}, {'family_name': 'Liang', 'given_name': 'Tao', 'institution': 'The Pennsylvania State University'}, {'family_name': 'Becker', 'given_name': 'Chandler', 'institution': 'National Institute of Standards and Technology'}, {'family_name': 'Hennig', 'given_name': 'Richard', 'institution': 'University of Florida'}, {'family_name': 'Tavazza', 'given_name': 'Francesca', 'institution': 'National Institute of Standards and Technology'}], 'mdf-citation': ['Choudhary K, Congo FYP, Liang T, Becker C, Hennig RG, Tavazza F (2017) Evaluation and comparison of classical interatomic potentials through a user-friendly interactive web-interface. Scientific Data 4: 160125. http://dx.doi.org/10.1038/sdata.2016.125', 'Choudhary K, Congo FYP, Liang T, Becker C, Hennig RG, Tavazza F (2017) Data from: Evaluation and comparison of classical interatomic potentials through a user-friendly interactive web-interface. Dryad Digital Repository. http://dx.doi.org/10.5061/dryad.dd56c'], 'mdf-collection': 'NIST Classical Interatomic Potentials', 'mdf-composition': 'Fe24', 'mdf-data_contact': {'email': 'kamal.choudhary@nist.gov', 'family_name': 'Choudhary', 'given_name': 'Kamal', 'institution': 'National Institute of Standards and Technology'}, 'mdf-data_contributor': [{'email': 'jgaff@uchicago.edu', 'family_name': 'Gaff', 'github': 'jgaff', 'given_name': 'Jonathon', 'institution': 'The University of Chicago'}], 'mdf-data_format': ['json'], 'mdf-data_type': ['Simulation'], 'mdf-elements': ['Fe'], 'mdf-id': '595d0057d0a0d30d3f066de9', 'mdf-ingest_date': '2017-07-05T15:05:59.527210Z', 'mdf-license': 'https://creativecommons.org/publicdomain/zero/1.0/', 'mdf-links': {'mdf-dataset_doi': 'http://dx.doi.org/10.5061/dryad.dd56c', 'mdf-landing_page': 'https://www.ctcms.nist.gov/~knc6/periodic.html#10', 'mdf-parent_id': '595d0057d0a0d30d3f066ddf', 'mdf-publication': ['http://dx.doi.org/10.1038/sdata.2016.125']}, 'mdf-metadata_version': '0.2.1', 'mdf-node_type': 'record', 'mdf-publish.publication.community': 'Materials Data Facility', 'mdf-raw': '{\"Gv\": \"117.4\", \"search\": \"Fe\", \"mpid\": \"mp-568345\", \"totenergy\": \"-82.02022\", \"energy\": \"-3.42\", \"case-number\": \"Calc-10\", \"ehull\": \"0.785450293333\", \"elastic_matrix\": {\"c3\": [7.9, 7.9, 672.5, 0.0, 0.0, -0.0], \"c2\": [7.9, 672.5, 7.9, -0.0, -0.0, 0.0], \"c1\": [672.5, 7.9, 7.9, -0.0, 0.0, -0.0], \"c6\": [-0.0, 0.0, -0.0, 0.0, -0.0, -25.8], \"c5\": [0.0, -0.0, 0.0, 0.0, -25.8, -0.0], \"c4\": [-0.0, -0.0, 0.0, -25.8, 0.0, 0.0]}, \"Bv\": \"229.4\", \"forcefield\": \"FeCuNi.eam.alloy\", \"composition\": \"Fe24\", \"structure\": \"Fe6\"}', 'mdf-scroll_id': 10, 'mdf-source_name': 'cip', 'mdf-tags': ['interatomic potentials', 'force-fields', 'total energy', 'elastic matrix', 'structure', 'elastic modulus', 'energy', 'JARVIS'], 'mdf-title': 'NIST Classical Interatomic Potential - FeCuNi.eam.alloy, Fe24', 'mdf-year': 2017}, {'mdf-author': [{'email': 'kamal.choudhary@nist.gov', 'family_name': 'Choudhary', 'given_name': 'Kamal', 'institution': 'National Institute of Standards and Technology'}, {'family_name': 'Congo', 'given_name': 'Faical', 'institution': 'National Institute of Standards and Technology'}, {'family_name': 'Liang', 'given_name': 'Tao', 'institution': 'The Pennsylvania State University'}, {'family_name': 'Becker', 'given_name': 'Chandler', 'institution': 'National Institute of Standards and Technology'}, {'family_name': 'Hennig', 'given_name': 'Richard', 'institution': 'University of Florida'}, {'family_name': 'Tavazza', 'given_name': 'Francesca', 'institution': 'National Institute of Standards and Technology'}], 'mdf-citation': ['Choudhary K, Congo FYP, Liang T, Becker C, Hennig RG, Tavazza F (2017) Evaluation and comparison of classical interatomic potentials through a user-friendly interactive web-interface. Scientific Data 4: 160125. http://dx.doi.org/10.1038/sdata.2016.125', 'Choudhary K, Congo FYP, Liang T, Becker C, Hennig RG, Tavazza F (2017) Data from: Evaluation and comparison of classical interatomic potentials through a user-friendly interactive web-interface. Dryad Digital Repository. http://dx.doi.org/10.5061/dryad.dd56c'], 'mdf-collection': 'NIST Classical Interatomic Potentials', 'mdf-composition': 'Ni32', 'mdf-data_contact': {'email': 'kamal.choudhary@nist.gov', 'family_name': 'Choudhary', 'given_name': 'Kamal', 'institution': 'National Institute of Standards and Technology'}, 'mdf-data_contributor': [{'email': 'jgaff@uchicago.edu', 'family_name': 'Gaff', 'github': 'jgaff', 'given_name': 'Jonathon', 'institution': 'The University of Chicago'}], 'mdf-data_format': ['json'], 'mdf-data_type': ['Simulation'], 'mdf-elements': ['Ni'], 'mdf-id': '595d0057d0a0d30d3f066df1', 'mdf-ingest_date': '2017-07-05T15:05:59.583230Z', 'mdf-license': 'https://creativecommons.org/publicdomain/zero/1.0/', 'mdf-links': {'mdf-dataset_doi': 'http://dx.doi.org/10.5061/dryad.dd56c', 'mdf-landing_page': 'https://www.ctcms.nist.gov/~knc6/periodic.html#18', 'mdf-parent_id': '595d0057d0a0d30d3f066ddf', 'mdf-publication': ['http://dx.doi.org/10.1038/sdata.2016.125']}, 'mdf-metadata_version': '0.2.1', 'mdf-node_type': 'record', 'mdf-publish.publication.community': 'Materials Data Facility', 'mdf-raw': '{\"Gv\": \"94.4\", \"search\": \"Ni\", \"mpid\": \"mp-23\", \"totenergy\": \"-142.40837\", \"energy\": \"-4.45\", \"case-number\": \"Calc-18\", \"ehull\": \"0\", \"elastic_matrix\": {\"c3\": [148.5, 148.5, 244.2, -0.0, -0.0, -0.0], \"c2\": [148.5, 244.2, 148.5, -0.0, 0.0, 0.0], \"c1\": [244.2, 148.5, 148.5, -0.0, -0.0, 0.0], \"c6\": [0.0, 0.0, -0.0, -0.0, -0.0, 125.5], \"c5\": [-0.0, 0.0, -0.0, 0.0, 125.5, -0.0], \"c4\": [-0.0, -0.0, -0.0, 125.5, 0.0, -0.0]}, \"Bv\": \"180.4\", \"forcefield\": \"FeCuNi.eam.alloy\", \"composition\": \"Ni32\", \"structure\": \"Ni1\"}', 'mdf-scroll_id': 18, 'mdf-source_name': 'cip', 'mdf-tags': ['interatomic potentials', 'force-fields', 'total energy', 'elastic matrix', 'structure', 'elastic modulus', 'energy', 'JARVIS'], 'mdf-title': 'NIST Classical Interatomic Potential - FeCuNi.eam.alloy, Ni32', 'mdf-year': 2017}, {'mdf-author': [{'email': 'kamal.choudhary@nist.gov', 'family_name': 'Choudhary', 'given_name': 'Kamal', 'institution': 'National Institute of Standards and Technology'}, {'family_name': 'Congo', 'given_name': 'Faical', 'institution': 'National Institute of Standards and Technology'}, {'family_name': 'Liang', 'given_name': 'Tao', 'institution': 'The Pennsylvania State University'}, {'family_name': 'Becker', 'given_name': 'Chandler', 'institution': 'National Institute of Standards and Technology'}, {'family_name': 'Hennig', 'given_name': 'Richard', 'institution': 'University of Florida'}, {'family_name': 'Tavazza', 'given_name': 'Francesca', 'institution': 'National Institute of Standards and Technology'}], 'mdf-citation': ['Choudhary K, Congo FYP, Liang T, Becker C, Hennig RG, Tavazza F (2017) Evaluation and comparison of classical interatomic potentials through a user-friendly interactive web-interface. Scientific Data 4: 160125. http://dx.doi.org/10.1038/sdata.2016.125', 'Choudhary K, Congo FYP, Liang T, Becker C, Hennig RG, Tavazza F (2017) Data from: Evaluation and comparison of classical interatomic potentials through a user-friendly interactive web-interface. Dryad Digital Repository. http://dx.doi.org/10.5061/dryad.dd56c'], 'mdf-collection': 'NIST Classical Interatomic Potentials', 'mdf-composition': 'Fe24', 'mdf-data_contact': {'email': 'kamal.choudhary@nist.gov', 'family_name': 'Choudhary', 'given_name': 'Kamal', 'institution': 'National Institute of Standards and Technology'}, 'mdf-data_contributor': [{'email': 'jgaff@uchicago.edu', 'family_name': 'Gaff', 'github': 'jgaff', 'given_name': 'Jonathon', 'institution': 'The University of Chicago'}], 'mdf-data_format': ['json'], 'mdf-data_type': ['Simulation'], 'mdf-elements': ['Fe'], 'mdf-id': '595d0057d0a0d30d3f066df4', 'mdf-ingest_date': '2017-07-05T15:05:59.604530Z', 'mdf-license': 'https://creativecommons.org/publicdomain/zero/1.0/', 'mdf-links': {'mdf-dataset_doi': 'http://dx.doi.org/10.5061/dryad.dd56c', 'mdf-landing_page': 'https://www.ctcms.nist.gov/~knc6/periodic.html#21', 'mdf-parent_id': '595d0057d0a0d30d3f066ddf', 'mdf-publication': ['http://dx.doi.org/10.1038/sdata.2016.125']}, 'mdf-metadata_version': '0.2.1', 'mdf-node_type': 'record', 'mdf-publish.publication.community': 'Materials Data Facility', 'mdf-raw': '{\"Gv\": \"215.9\", \"search\": \"Fe\", \"mpid\": \"mp-568345\", \"totenergy\": \"-95.376506\", \"energy\": \"-3.97\", \"case-number\": \"Calc-21\", \"ehull\": \"0.785450293333\", \"elastic_matrix\": {\"c3\": [109.7, 109.7, 974.7, 0.0, 0.0, -0.0], \"c2\": [109.7, 974.7, 109.7, 0.0, 0.0, -0.0], \"c1\": [974.7, 109.7, 109.7, 0.0, 0.0, -0.0], \"c6\": [-0.0, -0.0, -0.0, 0.0, -0.0, 71.5], \"c5\": [0.0, 0.0, 0.0, 0.0, 71.5, -0.0], \"c4\": [0.0, 0.0, 0.0, 71.5, 0.0, 0.0]}, \"Bv\": \"398.0\", \"forcefield\": \"FeNiCr_Bonny_2013_ptDef.eam.alloy\", \"composition\": \"Fe24\", \"structure\": \"Fe6\"}', 'mdf-scroll_id': 21, 'mdf-source_name': 'cip', 'mdf-tags': ['interatomic potentials', 'force-fields', 'total energy', 'elastic matrix', 'structure', 'elastic modulus', 'energy', 'JARVIS'], 'mdf-title': 'NIST Classical Interatomic Potential - FeNiCr_Bonny_2013_ptDef.eam.alloy, Fe24', 'mdf-year': 2017}, {'mdf-author': [{'email': 'kamal.choudhary@nist.gov', 'family_name': 'Choudhary', 'given_name': 'Kamal', 'institution': 'National Institute of Standards and Technology'}, {'family_name': 'Congo', 'given_name': 'Faical', 'institution': 'National Institute of Standards and Technology'}, {'family_name': 'Liang', 'given_name': 'Tao', 'institution': 'The Pennsylvania State University'}, {'family_name': 'Becker', 'given_name': 'Chandler', 'institution': 'National Institute of Standards and Technology'}, {'family_name': 'Hennig', 'given_name': 'Richard', 'institution': 'University of Florida'}, {'family_name': 'Tavazza', 'given_name': 'Francesca', 'institution': 'National Institute of Standards and Technology'}], 'mdf-citation': ['Choudhary K, Congo FYP, Liang T, Becker C, Hennig RG, Tavazza F (2017) Evaluation and comparison of classical interatomic potentials through a user-friendly interactive web-interface. Scientific Data 4: 160125. http://dx.doi.org/10.1038/sdata.2016.125', 'Choudhary K, Congo FYP, Liang T, Becker C, Hennig RG, Tavazza F (2017) Data from: Evaluation and comparison of classical interatomic potentials through a user-friendly interactive web-interface. Dryad Digital Repository. http://dx.doi.org/10.5061/dryad.dd56c'], 'mdf-collection': 'NIST Classical Interatomic Potentials', 'mdf-composition': 'Fe16', 'mdf-data_contact': {'email': 'kamal.choudhary@nist.gov', 'family_name': 'Choudhary', 'given_name': 'Kamal', 'institution': 'National Institute of Standards and Technology'}, 'mdf-data_contributor': [{'email': 'jgaff@uchicago.edu', 'family_name': 'Gaff', 'github': 'jgaff', 'given_name': 'Jonathon', 'institution': 'The University of Chicago'}], 'mdf-data_format': ['json'], 'mdf-data_type': ['Simulation'], 'mdf-elements': ['Fe'], 'mdf-id': '595d0057d0a0d30d3f066df5', 'mdf-ingest_date': '2017-07-05T15:05:59.611194Z', 'mdf-license': 'https://creativecommons.org/publicdomain/zero/1.0/', 'mdf-links': {'mdf-dataset_doi': 'http://dx.doi.org/10.5061/dryad.dd56c', 'mdf-landing_page': 'https://www.ctcms.nist.gov/~knc6/periodic.html#22', 'mdf-parent_id': '595d0057d0a0d30d3f066ddf', 'mdf-publication': ['http://dx.doi.org/10.1038/sdata.2016.125']}, 'mdf-metadata_version': '0.2.1', 'mdf-node_type': 'record', 'mdf-publish.publication.community': 'Materials Data Facility', 'mdf-raw': '{\"Gv\": \"72.0\", \"search\": \"Fe\", \"mpid\": \"mp-13\", \"totenergy\": \"-68.484704\", \"energy\": \"-4.28\", \"case-number\": \"Calc-22\", \"ehull\": \"0\", \"elastic_matrix\": {\"c3\": [153.8, 153.8, 185.2, 0.0, -0.0, -0.0], \"c2\": [153.8, 185.2, 153.8, -0.0, -0.0, -0.0], \"c1\": [185.2, 153.8, 153.8, -0.0, -0.0, -0.0], \"c6\": [-0.0, -0.0, -0.0, 0.0, 0.0, 109.5], \"c5\": [-0.0, -0.0, -0.0, -0.0, 109.5, 0.0], \"c4\": [-0.0, -0.0, 0.0, 109.5, -0.0, 0.0]}, \"Bv\": \"164.3\", \"forcefield\": \"FeNiCr_Bonny_2013_ptDef.eam.alloy\", \"composition\": \"Fe16\", \"structure\": \"Fe1\"}', 'mdf-scroll_id': 22, 'mdf-source_name': 'cip', 'mdf-tags': ['interatomic potentials', 'force-fields', 'total energy', 'elastic matrix', 'structure', 'elastic modulus', 'energy', 'JARVIS'], 'mdf-title': 'NIST Classical Interatomic Potential - FeNiCr_Bonny_2013_ptDef.eam.alloy, Fe16', 'mdf-year': 2017}]\n"
     ]
    }
   ],
   "source": [
    "query = {\n",
    "    \"q\": \"test\",\n",
    "    \"advanced\": True,\n",
    "    \"\"\n",
    "    \"limit\": 10\n",
    "}\n",
    "search_result = client.structured_search(query)\n",
    "cleaned_search_result = gmeta_pop(search_result)\n",
    "print(cleaned_search_result)"
   ]
  },
  {
   "cell_type": "markdown",
   "metadata": {
    "deletable": true,
    "editable": true
   },
   "source": [
    "# Search for specific elements"
   ]
  },
  {
   "cell_type": "code",
   "execution_count": 4,
   "metadata": {
    "collapsed": true,
    "deletable": true,
    "editable": true
   },
   "outputs": [],
   "source": [
    "all_elements = {\"Actinium\": \"Ac\", \"Silver\": \"Ag\", \"Aluminum\": \"Al\", \"Americium\": \"Am\", \"Argon\": \"Ar\", \"Arsenic\": \"As\", \"Astatine\": \"At\", \"Gold\": \"Au\", \"Boron\": \"B\", \"Barium\": \"Ba\", \"Beryllium\": \"Be\", \"Bohrium\": \"Bh\", \"Bismuth\": \"Bi\", \"Berkelium\": \"Bk\", \"Brom    ine\": \"Br\", \"Carbon\": \"C\", \"Calcium\": \"Ca\", \"Cadmium\": \"Cd\", \"Cerium\": \"Ce\", \"Californium\": \"Cf\", \"Chlorine\": \"Cl\", \"Curium\": \"Cm\", \"Copernicium\": \"Cn\", \"Cobalt\": \"Co\", \"Chromium\": \"Cr\", \"Cesium\": \"Cs\", \"Copper\": \"Cu\", \"Dubnium\": \"Db\", \"Darmstadtium\": \"Ds\", \"Dyspros    ium\": \"Dy\", \"Erbium\": \"Er\", \"Einsteinium\": \"Es\", \"Europium\": \"Eu\", \"Fluorine\": \"F\", \"Iron\": \"Fe\", \"Flerovium\": \"Fl\", \"Fermium\": \"Fm\", \"Francium\": \"Fr\", \"Gallium\": \"Ga\", \"Gadolinium\": \"Gd\", \"Germanium\": \"Ge\", \"Hydrogen\": \"H\", \"Helium\": \"He\", \"Hafnium\": \"Hf\", \"Mercury\": \"Hg\", \"Holmium\": \"Ho\", \"Hassium\": \"Hs\", \"Iodine\": \"I\", \"Indium\": \"In\", \"Iridium\": \"Ir\", \"Potassium\": \"K\", \"Krypton\": \"Kr\", \"Lanthanum\": \"La\", \"Lithium\": \"Li\", \"Lawrencium\": \"Lr\", \"Lutetium\": \"Lu\", \"Livermorium\": \"Lv\", \"Mendelevium\": \"Md\", \"Magnesium\": \"Mg\", \"Mang    anese\": \"Mn\", \"Molybdenum\": \"Mo\", \"Meitnerium\": \"Mt\", \"Nitrogen\": \"N\", \"Sodium\": \"Na\", \"Niobium\": \"Nb\", \"Neodymium\": \"Nd\", \"Neon\": \"Ne\", \"Nickel\": \"Ni\", \"Nobelium\": \"No\", \"Neptunium\": \"Np\", \"Oxygen\": \"O\", \"Osmium\": \"Os\", \"Phosphorus\": \"P\", \"Protactinium\": \"Pa\", \"Lea    d\": \"Pb\", \"Palladium\": \"Pd\", \"Promethium\": \"Pm\", \"Polonium\": \"Po\", \"Praseodymium\": \"Pr\", \"Platinum\": \"Pt\", \"Plutonium\": \"Pu\", \"Radium\": \"Ra\", \"Rubidium\": \"Rb\", \"Rhenium\": \"Re\", \"Rutherfordium\": \"Rf\", \"Roentgenium\": \"Rg\", \"Rhodium\": \"Rh\", \"Radon\": \"Rn\", \"Ruthenium\":     \"Ru\", \"Sulfur\": \"S\", \"Antimony\": \"Sb\", \"Scandium\": \"Sc\", \"Selenium\": \"Se\", \"Seaborgium\": \"Sg\", \"Silicon\": \"Si\", \"Samarium\": \"Sm\", \"Tin\": \"Sn\", \"Strontium\": \"Sr\", \"Tantalum\": \"Ta\", \"Terbium\": \"Tb\", \"Technetium\": \"Tc\", \"Tellurium\": \"Te\", \"Thorium\": \"Th\", \"Titanium\": \"Ti\", \"Thallium\": \"Tl\", \"Thulium\": \"Tm\", \"Uranium\": \"U\", \"Ununoctium\": \"Uuo\", \"Ununpentium\": \"Uup\", \"Ununseptium\": \"Uus\", \"Ununtrium\": \"Uut\", \"Vanadium\": \"V\", \"Tungsten\": \"W\", \"Xenon\": \"Xe\", \"Yttrium\": \"Y\", \"Ytterbium\": \"Yb\", \"Zinc\": \"Zn\", \"Zirconium\": \"Zr\"}"
   ]
  },
  {
   "cell_type": "code",
   "execution_count": 5,
   "metadata": {
    "collapsed": false,
    "deletable": true,
    "editable": true
   },
   "outputs": [],
   "source": [
    "elems = all_elements.values()"
   ]
  },
  {
   "cell_type": "code",
   "execution_count": 6,
   "metadata": {
    "collapsed": false,
    "deletable": true,
    "editable": true
   },
   "outputs": [],
   "source": [
    "query = {\n",
    "    \"q\": \"mdf-source_name:hopv AND mdf-node_type:record\",\n",
    "    \"advanced\": True,\n",
    "    \"limit\": 2\n",
    "}\n",
    "must = [\"Al\", \"Ni\", \"O\"]\n",
    "query2 = {\n",
    "    \"q\": \"\",\n",
    "    \"advanced\": True,\n",
    "    \"limit\": 9999\n",
    "}\n",
    "for elem in elems:\n",
    "    if elem in must:\n",
    "        query2[\"q\"] += \" AND elements:\" + elem\n",
    "    else:\n",
    "        query2[\"q\"] += \" AND NOT elements:\" + elem\n",
    "if query2[\"q\"].startswith(\" AND \"):\n",
    "    query2[\"q\"] = query2[\"q\"].replace(\" AND \", \"\", 1)\n",
    "else:\n",
    "    print(\"No replace\")"
   ]
  },
  {
   "cell_type": "code",
   "execution_count": 7,
   "metadata": {
    "collapsed": false,
    "deletable": true,
    "editable": true
   },
   "outputs": [],
   "source": [
    "#search_res = gmeta_pop(client.structured_search(query))\n",
    "raw_res = client.structured_search(query)\n",
    "#raw_res2 = client.structured_search(query2)\n",
    "search_res = gmeta_pop(raw_res)\n",
    "#search_res2 = gmeta_pop(raw_res2)"
   ]
  },
  {
   "cell_type": "code",
   "execution_count": 8,
   "metadata": {
    "collapsed": false,
    "deletable": true,
    "editable": true
   },
   "outputs": [
    {
     "name": "stdout",
     "output_type": "stream",
     "text": [
      "0\n",
      "0\n"
     ]
    },
    {
     "ename": "IndexError",
     "evalue": "list index out of range",
     "output_type": "error",
     "traceback": [
      "\u001b[0;31m---------------------------------------------------------------------------\u001b[0m",
      "\u001b[0;31mIndexError\u001b[0m                                Traceback (most recent call last)",
      "\u001b[0;32m<ipython-input-8-c1c22f84cc2f>\u001b[0m in \u001b[0;36m<module>\u001b[0;34m()\u001b[0m\n\u001b[1;32m      3\u001b[0m \u001b[0mprint\u001b[0m\u001b[0;34m(\u001b[0m\u001b[0mlen\u001b[0m\u001b[0;34m(\u001b[0m\u001b[0msearch_res\u001b[0m\u001b[0;34m)\u001b[0m\u001b[0;34m)\u001b[0m\u001b[0;34m\u001b[0m\u001b[0m\n\u001b[1;32m      4\u001b[0m \u001b[0;31m#print(raw_res)\u001b[0m\u001b[0;34m\u001b[0m\u001b[0;34m\u001b[0m\u001b[0m\n\u001b[0;32m----> 5\u001b[0;31m \u001b[0msearch_res\u001b[0m\u001b[0;34m[\u001b[0m\u001b[0;36m0\u001b[0m\u001b[0;34m]\u001b[0m\u001b[0;34m\u001b[0m\u001b[0m\n\u001b[0m",
      "\u001b[0;31mIndexError\u001b[0m: list index out of range"
     ]
    }
   ],
   "source": [
    "print(raw_res[\"total\"])\n",
    "#print(raw_res2[\"total\"])\n",
    "print(len(search_res))\n",
    "#print(raw_res)\n",
    "search_res[0]"
   ]
  },
  {
   "cell_type": "code",
   "execution_count": null,
   "metadata": {
    "collapsed": false,
    "deletable": true,
    "editable": true
   },
   "outputs": [],
   "source": [
    "#elements = set()\n",
    "#for res in search_res:\n",
    "#    for elem in res.get(\"http://globus.org/publication-schemas/mdf-base/0.1#elements\", []):\n",
    "#        elements.add(elem)\n",
    "elements2 = set()\n",
    "for res2 in search_res2:\n",
    "    for elem2 in res2.get(\"mdf-elements\", []):\n",
    "        elements2.add(elem2)"
   ]
  },
  {
   "cell_type": "code",
   "execution_count": null,
   "metadata": {
    "collapsed": false,
    "deletable": true,
    "editable": true
   },
   "outputs": [],
   "source": [
    "print((\"Al\" not in elements))\n",
    "print((\"Al\" in elements2))\n",
    "print((\"Cu\" not in elements2))\n",
    "#print(str(elements))\n",
    "print(str(elements2))"
   ]
  },
  {
   "cell_type": "code",
   "execution_count": null,
   "metadata": {
    "collapsed": false,
    "deletable": true,
    "editable": true
   },
   "outputs": [],
   "source": [
    "search_res2[0]"
   ]
  },
  {
   "cell_type": "markdown",
   "metadata": {
    "collapsed": false,
    "deletable": true,
    "editable": true
   },
   "source": [
    "# Search for >10k records"
   ]
  },
  {
   "cell_type": "code",
   "execution_count": null,
   "metadata": {
    "collapsed": false,
    "deletable": true,
    "editable": true
   },
   "outputs": [],
   "source": [
    "count = 0\n",
    "saved = 0\n",
    "while True:\n",
    "    query = {\n",
    "        \"q\": (\"mdf-source_name:nist_xps_db AND mdf-node_type:record AND \"\n",
    "        \"mdf-scroll_id:(>=\" + str(count) + \" AND <\" + str(count + 10000) + \")\"),\n",
    "        \"advanced\": True,\n",
    "        \"limit\": 10000\n",
    "    }\n",
    "    raw_res = client.structured_search(query)\n",
    "    num_ret = len(gmeta_pop(raw_res))\n",
    "    if num_ret:\n",
    "        saved += num_ret\n",
    "        count += 10000\n",
    "    else:\n",
    "        break"
   ]
  },
  {
   "cell_type": "code",
   "execution_count": null,
   "metadata": {
    "collapsed": false,
    "deletable": true,
    "editable": true
   },
   "outputs": [],
   "source": [
    "print(saved)"
   ]
  },
  {
   "cell_type": "code",
   "execution_count": null,
   "metadata": {
    "collapsed": true,
    "deletable": true,
    "editable": true
   },
   "outputs": [],
   "source": []
  }
 ],
 "metadata": {
  "kernelspec": {
   "display_name": "Python 3",
   "language": "python",
   "name": "python3"
  },
  "language_info": {
   "codemirror_mode": {
    "name": "ipython",
    "version": 3
   },
   "file_extension": ".py",
   "mimetype": "text/x-python",
   "name": "python",
   "nbconvert_exporter": "python",
   "pygments_lexer": "ipython3",
   "version": "3.6.0"
  }
 },
 "nbformat": 4,
 "nbformat_minor": 2
}
