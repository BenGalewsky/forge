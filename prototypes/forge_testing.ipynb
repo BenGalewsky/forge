{
 "cells": [
  {
   "cell_type": "code",
   "execution_count": 1,
   "metadata": {
    "collapsed": false,
    "deletable": true,
    "editable": true,
    "scrolled": false
   },
   "outputs": [],
   "source": [
    "%load_ext autoreload\n",
    "%autoreload 2"
   ]
  },
  {
   "cell_type": "code",
   "execution_count": 1,
   "metadata": {
    "collapsed": false,
    "deletable": true,
    "editable": true,
    "scrolled": true
   },
   "outputs": [],
   "source": [
    "from mdf_forge.forge import Forge\n",
    "#import mdf_dataworks\n",
    "#import mdf_forge\n",
    "from mdf_refinery.validator import Validator\n",
    "#from mdf_refinery.parsers.ase_parser import parse_ase"
   ]
  },
  {
   "cell_type": "code",
   "execution_count": 9,
   "metadata": {
    "collapsed": true,
    "deletable": true,
    "editable": true
   },
   "outputs": [],
   "source": [
    "from mdf_forge.toolbox import find_files"
   ]
  },
  {
   "cell_type": "code",
   "execution_count": 5,
   "metadata": {
    "collapsed": false,
    "deletable": true,
    "editable": true
   },
   "outputs": [
    {
     "ename": "ValueError",
     "evalue": "You must specify the metadata for this dataset",
     "output_type": "error",
     "traceback": [
      "\u001b[0;31m---------------------------------------------------------------------------\u001b[0m",
      "\u001b[0;31mValueError\u001b[0m                                Traceback (most recent call last)",
      "\u001b[0;32m<ipython-input-5-3d8750e11585>\u001b[0m in \u001b[0;36m<module>\u001b[0;34m()\u001b[0m\n\u001b[0;32m----> 1\u001b[0;31m \u001b[0mValidator\u001b[0m\u001b[0;34m(\u001b[0m\u001b[0;34m)\u001b[0m\u001b[0;34m\u001b[0m\u001b[0m\n\u001b[0m",
      "\u001b[0;32m/Library/Frameworks/Python.framework/Versions/3.6/lib/python3.6/site-packages/mdf_refinery-0.0.1-py3.6.egg/mdf_refinery/validator/schema_validator.py\u001b[0m in \u001b[0;36m__init__\u001b[0;34m(self, metadata, resource_type, version)\u001b[0m\n\u001b[1;32m     25\u001b[0m     \u001b[0;32mdef\u001b[0m \u001b[0m__init__\u001b[0m\u001b[0;34m(\u001b[0m\u001b[0mself\u001b[0m\u001b[0;34m,\u001b[0m \u001b[0mmetadata\u001b[0m\u001b[0;34m=\u001b[0m\u001b[0;32mNone\u001b[0m\u001b[0;34m,\u001b[0m \u001b[0mresource_type\u001b[0m\u001b[0;34m=\u001b[0m\u001b[0;34m\"dataset\"\u001b[0m\u001b[0;34m,\u001b[0m \u001b[0mversion\u001b[0m\u001b[0;34m=\u001b[0m\u001b[0mVALIDATOR_VERSION\u001b[0m\u001b[0;34m)\u001b[0m\u001b[0;34m:\u001b[0m\u001b[0;34m\u001b[0m\u001b[0m\n\u001b[1;32m     26\u001b[0m         \u001b[0;32mif\u001b[0m \u001b[0;32mnot\u001b[0m \u001b[0mmetadata\u001b[0m\u001b[0;34m:\u001b[0m\u001b[0;34m\u001b[0m\u001b[0m\n\u001b[0;32m---> 27\u001b[0;31m             \u001b[0;32mraise\u001b[0m \u001b[0mValueError\u001b[0m\u001b[0;34m(\u001b[0m\u001b[0;34m\"You must specify the metadata for this \"\u001b[0m \u001b[0;34m+\u001b[0m \u001b[0mresource_type\u001b[0m\u001b[0;34m)\u001b[0m\u001b[0;34m\u001b[0m\u001b[0m\n\u001b[0m\u001b[1;32m     28\u001b[0m         \u001b[0;32mif\u001b[0m \u001b[0;32mnot\u001b[0m \u001b[0mversion\u001b[0m\u001b[0;34m.\u001b[0m\u001b[0mstartswith\u001b[0m\u001b[0;34m(\u001b[0m\u001b[0mVALIDATOR_VERSION\u001b[0m\u001b[0;34m.\u001b[0m\u001b[0mreplace\u001b[0m\u001b[0;34m(\u001b[0m\u001b[0;34m\".x\"\u001b[0m\u001b[0;34m,\u001b[0m \u001b[0;34m\"\"\u001b[0m\u001b[0;34m)\u001b[0m\u001b[0;34m)\u001b[0m\u001b[0;34m:\u001b[0m\u001b[0;34m\u001b[0m\u001b[0m\n\u001b[1;32m     29\u001b[0m             \u001b[0mprint\u001b[0m\u001b[0;34m(\u001b[0m\u001b[0;34m\"Caution: You are using the\"\u001b[0m\u001b[0;34m,\u001b[0m \u001b[0mVALIDATOR_VERSION\u001b[0m\u001b[0;34m,\u001b[0m \u001b[0;34m\"version of the Validator for metadata in version\"\u001b[0m\u001b[0;34m,\u001b[0m \u001b[0mversion\u001b[0m\u001b[0;34m,\u001b[0m \u001b[0;34m\"which could cause errors.\"\u001b[0m\u001b[0;34m)\u001b[0m\u001b[0;34m\u001b[0m\u001b[0m\n",
      "\u001b[0;31mValueError\u001b[0m: You must specify the metadata for this dataset"
     ]
    }
   ],
   "source": [
    "Validator()"
   ]
  },
  {
   "cell_type": "code",
   "execution_count": 2,
   "metadata": {
    "collapsed": false,
    "deletable": true,
    "editable": true
   },
   "outputs": [],
   "source": [
    "mdf = Forge()"
   ]
  },
  {
   "cell_type": "code",
   "execution_count": 11,
   "metadata": {
    "collapsed": false,
    "deletable": true,
    "editable": true
   },
   "outputs": [],
   "source": [
    "res = mdf.match_sources([\"oqmd\"], match_all=False).search(limit=1, info=True)"
   ]
  },
  {
   "cell_type": "code",
   "execution_count": 12,
   "metadata": {
    "collapsed": false,
    "deletable": true,
    "editable": true
   },
   "outputs": [
    {
     "data": {
      "text/plain": [
       "([{'mdf': {'collection': 'OQMD',\n",
       "    'composition': 'Al1Cr1Hg1',\n",
       "    'elements': ['Hg', 'Cr', 'Al'],\n",
       "    'ingest_date': '2017-07-12T19:10:55.811617Z',\n",
       "    'links': {'landing_page': 'http://oqmd.org/analysis/calculation/2032233',\n",
       "     'metadata': {'globus_endpoint': '82f1b5c6-6e9b-11e5-ba47-22000b92c6ec',\n",
       "      'http_host': 'https://data.materialsdatafacility.org',\n",
       "      'path': '/collections/oqmd/data/home/oqmd/libraries/prototypes/ternaries/half_heusler/Cr/Al_Hg/relaxation/metadata.json'},\n",
       "     'outcar': {'globus_endpoint': '82f1b5c6-6e9b-11e5-ba47-22000b92c6ec',\n",
       "      'http_host': 'https://data.materialsdatafacility.org',\n",
       "      'path': '/collections/oqmd/data/home/oqmd/libraries/prototypes/ternaries/half_heusler/Cr/Al_Hg/relaxation'},\n",
       "     'parent_id': '596670e4f2c0041b5cbb00aa'},\n",
       "    'mdf-id': '5966743ff2c0041b5cbbfe93',\n",
       "    'metadata_version': '0.3.0',\n",
       "    'resource_type': 'record',\n",
       "    'scroll_id': 65001,\n",
       "    'source_name': 'oqmd',\n",
       "    'title': 'OQMD - Al1Cr1Hg1'},\n",
       "   'oqmd': {'band_gap': 0.0,\n",
       "    'configuration': 'relaxation',\n",
       "    'converged': True,\n",
       "    'magnetic_moment': {'units': 'bohr/atom', 'value': 1.1257284},\n",
       "    'total_energy': {'units': 'eV/atom', 'value': -4.02591603333333}}}],\n",
       " {'total_query_matches': 687395})"
      ]
     },
     "execution_count": 12,
     "metadata": {},
     "output_type": "execute_result"
    }
   ],
   "source": [
    "res"
   ]
  },
  {
   "cell_type": "code",
   "execution_count": 6,
   "metadata": {
    "collapsed": false,
    "deletable": true,
    "editable": true,
    "scrolled": false
   },
   "outputs": [],
   "source": [
    "res, info = mdf.search(\"Al\", info=True, limit=10)"
   ]
  },
  {
   "cell_type": "code",
   "execution_count": 7,
   "metadata": {
    "collapsed": false,
    "deletable": true,
    "editable": true
   },
   "outputs": [
    {
     "data": {
      "text/plain": [
       "{'total_query_matches': 41057}"
      ]
     },
     "execution_count": 7,
     "metadata": {},
     "output_type": "execute_result"
    }
   ],
   "source": [
    "len(res)\n",
    "info"
   ]
  },
  {
   "cell_type": "code",
   "execution_count": 5,
   "metadata": {
    "collapsed": false,
    "deletable": true,
    "editable": true,
    "scrolled": false
   },
   "outputs": [],
   "source": [
    "res2 = mdf.match_term(\"Al\").match_term(\"C\").execute(limit=10)"
   ]
  },
  {
   "cell_type": "code",
   "execution_count": 6,
   "metadata": {
    "collapsed": false,
    "deletable": true,
    "editable": true
   },
   "outputs": [
    {
     "data": {
      "text/plain": [
       "10"
      ]
     },
     "execution_count": 6,
     "metadata": {},
     "output_type": "execute_result"
    }
   ],
   "source": [
    "len(res2)"
   ]
  },
  {
   "cell_type": "code",
   "execution_count": 10,
   "metadata": {
    "collapsed": false,
    "deletable": true,
    "editable": true,
    "scrolled": true
   },
   "outputs": [
    {
     "name": "stderr",
     "output_type": "stream",
     "text": [
      "Fetching files: 100%|██████████| 5/5 [00:02<00:00,  1.80it/s]\n"
     ]
    }
   ],
   "source": [
    "#mdf.http_download(res[:5], dest=\"/Users/jonathongaff/Downloads/oqmd\", preserve_dir=False)"
   ]
  },
  {
   "cell_type": "code",
   "execution_count": 11,
   "metadata": {
    "collapsed": true,
    "deletable": true,
    "editable": true
   },
   "outputs": [],
   "source": [
    "#r = mdf.http_stream(res)"
   ]
  },
  {
   "cell_type": "code",
   "execution_count": 7,
   "metadata": {
    "collapsed": false,
    "deletable": true,
    "editable": true,
    "scrolled": true
   },
   "outputs": [],
   "source": [
    "r = mdf.search_by_elements([\"Al\", \"Cr\", \"Pb\", \"U\"], match_all=True)"
   ]
  },
  {
   "cell_type": "code",
   "execution_count": 8,
   "metadata": {
    "collapsed": false,
    "deletable": true,
    "editable": true
   },
   "outputs": [
    {
     "data": {
      "text/plain": [
       "[{'mdf': {'collection': 'AMCS',\n",
       "   'composition': 'Na0.09 Sr1.599 Ca0.078 La0.528 Ce0.303 Y0.615 U1.221 Ti37.26 Mn0.216 Nb0.054 Al0.108 V0.54 Cr4.86 Fe16.26 Sn0.054 Pb0.315 O114',\n",
       "   'elements': ['Pb',\n",
       "    'Ti',\n",
       "    'Al',\n",
       "    'Mn',\n",
       "    'Ce',\n",
       "    'Y',\n",
       "    'V',\n",
       "    'Nb',\n",
       "    'Cr',\n",
       "    'Fe',\n",
       "    'Ca',\n",
       "    'La',\n",
       "    'Sn',\n",
       "    'Sr',\n",
       "    'O',\n",
       "    'U',\n",
       "    'Na'],\n",
       "   'ingest_date': '2017-07-11T15:29:25.630976Z',\n",
       "   'links': {'cif': {'http_host': 'http://rruff.geo.arizona.edu',\n",
       "     'path': '/AMS/xtal_data/CIFfiles/08493.cif'},\n",
       "    'dif': {'http_host': 'http://rruff.geo.arizona.edu',\n",
       "     'path': '/AMS/xtal_data/DIFfiles/08493.txt'},\n",
       "    'landing_page': 'http://rruff.geo.arizona.edu/AMS/minerals/Mapiquiroite',\n",
       "    'parent_id': '5964ec8bd0a0d30be1796bb1'},\n",
       "   'mdf-id': '5964eed5d0a0d30be1798a5d',\n",
       "   'metadata_version': '0.3.0',\n",
       "   'resource_type': 'record',\n",
       "   'scroll_id': 7852,\n",
       "   'source_name': 'amcs',\n",
       "   'tags': ['Mapiquiroite'],\n",
       "   'title': 'AMCS - Mapiquiroite'}}]"
      ]
     },
     "execution_count": 8,
     "metadata": {},
     "output_type": "execute_result"
    }
   ],
   "source": [
    "r"
   ]
  },
  {
   "cell_type": "code",
   "execution_count": 1,
   "metadata": {
    "collapsed": false,
    "deletable": true,
    "editable": true,
    "scrolled": true
   },
   "outputs": [
    {
     "ename": "NameError",
     "evalue": "name 'mdf_dataworks' is not defined",
     "output_type": "error",
     "traceback": [
      "\u001b[0;31m---------------------------------------------------------------------------\u001b[0m",
      "\u001b[0;31mNameError\u001b[0m                                 Traceback (most recent call last)",
      "\u001b[0;32m<ipython-input-1-45c4b3e0af19>\u001b[0m in \u001b[0;36m<module>\u001b[0;34m()\u001b[0m\n\u001b[0;32m----> 1\u001b[0;31m \u001b[0msc\u001b[0m \u001b[0;34m=\u001b[0m \u001b[0mmdf_dataworks\u001b[0m\u001b[0;34m.\u001b[0m\u001b[0mtoolbox\u001b[0m\u001b[0;34m.\u001b[0m\u001b[0mlogin\u001b[0m\u001b[0;34m(\u001b[0m\u001b[0;34m\"search_ingest\"\u001b[0m\u001b[0;34m,\u001b[0m \u001b[0mcredentials\u001b[0m\u001b[0;34m=\u001b[0m\u001b[0;34m{\u001b[0m\u001b[0;34m\"index\"\u001b[0m\u001b[0;34m:\u001b[0m\u001b[0;34m\"mdf\"\u001b[0m\u001b[0;34m,\u001b[0m \u001b[0;34m\"app_name\"\u001b[0m\u001b[0;34m:\u001b[0m\u001b[0;34m\"forge_test\"\u001b[0m\u001b[0;34m}\u001b[0m\u001b[0;34m)\u001b[0m\u001b[0;34m\u001b[0m\u001b[0m\n\u001b[0m",
      "\u001b[0;31mNameError\u001b[0m: name 'mdf_dataworks' is not defined"
     ]
    }
   ],
   "source": [
    "sc = mdf_dataworks.toolbox.login(\"search_ingest\", credentials={\"index\":\"mdf\", \"app_name\":\"forge_test\"})"
   ]
  },
  {
   "cell_type": "code",
   "execution_count": 16,
   "metadata": {
    "collapsed": false,
    "deletable": true,
    "editable": true
   },
   "outputs": [],
   "source": [
    "search_client = sc[\"search\"]"
   ]
  },
  {
   "cell_type": "code",
   "execution_count": 31,
   "metadata": {
    "collapsed": false,
    "deletable": true,
    "editable": true
   },
   "outputs": [
    {
     "data": {
      "text/plain": [
       "[{'fe_cr_al_oxidation': {'atomic_composition_percent': {'Al': 3.1,\n",
       "    'Cr': 23.5,\n",
       "    'Fe': 73.4},\n",
       "   'temperature_k': 690.0},\n",
       "  'mdf': {'collection': 'Fe-Cr-Al Oxidation Studies',\n",
       "   'composition': 'FeCrAl',\n",
       "   'elements': ['Al', 'Cr', 'Fe'],\n",
       "   'ingest_date': '2017-07-26T14:07:26.060285Z',\n",
       "   'links': {'csv': {'globus_endpoint': '82f1b5c6-6e9b-11e5-ba47-22000b92c6ec',\n",
       "     'http_host': 'https://data.materialsdatafacility.org',\n",
       "     'path': '/collections/Fe_Cr_Al_data/690 K Hour 1/690 K Hour 1 Point 1_088.txt'},\n",
       "    'landing_page': 'https://materialsdata.nist.gov/dspace/xmlui/handle/11256/836#800',\n",
       "    'parent_id': '5978a212f2c0040e84d2eb62'},\n",
       "   'mdf-id': '5978a21ef2c0040e84d2ee82',\n",
       "   'metadata_version': '0.3.0',\n",
       "   'resource_type': 'record',\n",
       "   'scroll_id': 800,\n",
       "   'source_name': 'fe_cr_al_oxidation',\n",
       "   'tags': ['csv'],\n",
       "   'title': 'Fe-Cr-Al Oxidation - 690 K Hour 1 Point 1_088'}},\n",
       " {'fe_cr_al_oxidation': {'atomic_composition_percent': {'Al': 2.8,\n",
       "    'Cr': 23.7,\n",
       "    'Fe': 73.6},\n",
       "   'temperature_k': 690.0},\n",
       "  'mdf': {'collection': 'Fe-Cr-Al Oxidation Studies',\n",
       "   'composition': 'FeCrAl',\n",
       "   'elements': ['Al', 'Cr', 'Fe'],\n",
       "   'ingest_date': '2017-07-26T14:07:26.070610Z',\n",
       "   'links': {'csv': {'globus_endpoint': '82f1b5c6-6e9b-11e5-ba47-22000b92c6ec',\n",
       "     'http_host': 'https://data.materialsdatafacility.org',\n",
       "     'path': '/collections/Fe_Cr_Al_data/690 K Hour 1/690 K Hour 1 Point 1_089.txt'},\n",
       "    'landing_page': 'https://materialsdata.nist.gov/dspace/xmlui/handle/11256/836#801',\n",
       "    'parent_id': '5978a212f2c0040e84d2eb62'},\n",
       "   'mdf-id': '5978a21ef2c0040e84d2ee83',\n",
       "   'metadata_version': '0.3.0',\n",
       "   'resource_type': 'record',\n",
       "   'scroll_id': 801,\n",
       "   'source_name': 'fe_cr_al_oxidation',\n",
       "   'tags': ['csv'],\n",
       "   'title': 'Fe-Cr-Al Oxidation - 690 K Hour 1 Point 1_089'}},\n",
       " {'fe_cr_al_oxidation': {'atomic_composition_percent': {'Al': 1.4,\n",
       "    'Cr': 24.8,\n",
       "    'Fe': 73.8},\n",
       "   'temperature_k': 690.0},\n",
       "  'mdf': {'collection': 'Fe-Cr-Al Oxidation Studies',\n",
       "   'composition': 'FeCrAl',\n",
       "   'elements': ['Al', 'Cr', 'Fe'],\n",
       "   'ingest_date': '2017-07-26T14:07:26.167189Z',\n",
       "   'links': {'csv': {'globus_endpoint': '82f1b5c6-6e9b-11e5-ba47-22000b92c6ec',\n",
       "     'http_host': 'https://data.materialsdatafacility.org',\n",
       "     'path': '/collections/Fe_Cr_Al_data/690 K Hour 1/690 K Hour 1 Point 1_096.txt'},\n",
       "    'landing_page': 'https://materialsdata.nist.gov/dspace/xmlui/handle/11256/836#808',\n",
       "    'parent_id': '5978a212f2c0040e84d2eb62'},\n",
       "   'mdf-id': '5978a21ef2c0040e84d2ee8a',\n",
       "   'metadata_version': '0.3.0',\n",
       "   'resource_type': 'record',\n",
       "   'scroll_id': 808,\n",
       "   'source_name': 'fe_cr_al_oxidation',\n",
       "   'tags': ['csv'],\n",
       "   'title': 'Fe-Cr-Al Oxidation - 690 K Hour 1 Point 1_096'}},\n",
       " {'fe_cr_al_oxidation': {'atomic_composition_percent': {'Al': 4.1,\n",
       "    'Cr': 25.9,\n",
       "    'Fe': 70.0},\n",
       "   'temperature_k': 690.0},\n",
       "  'mdf': {'collection': 'Fe-Cr-Al Oxidation Studies',\n",
       "   'composition': 'FeCrAl',\n",
       "   'elements': ['Al', 'Cr', 'Fe'],\n",
       "   'ingest_date': '2017-07-26T14:07:26.228775Z',\n",
       "   'links': {'csv': {'globus_endpoint': '82f1b5c6-6e9b-11e5-ba47-22000b92c6ec',\n",
       "     'http_host': 'https://data.materialsdatafacility.org',\n",
       "     'path': '/collections/Fe_Cr_Al_data/690 K Hour 1/690 K Hour 1 Point 1_101.txt'},\n",
       "    'landing_page': 'https://materialsdata.nist.gov/dspace/xmlui/handle/11256/836#813',\n",
       "    'parent_id': '5978a212f2c0040e84d2eb62'},\n",
       "   'mdf-id': '5978a21ef2c0040e84d2ee8f',\n",
       "   'metadata_version': '0.3.0',\n",
       "   'resource_type': 'record',\n",
       "   'scroll_id': 813,\n",
       "   'source_name': 'fe_cr_al_oxidation',\n",
       "   'tags': ['csv'],\n",
       "   'title': 'Fe-Cr-Al Oxidation - 690 K Hour 1 Point 1_101'}},\n",
       " {'fe_cr_al_oxidation': {'atomic_composition_percent': {'Al': 3.7,\n",
       "    'Cr': 26.1,\n",
       "    'Fe': 70.2},\n",
       "   'temperature_k': 690.0},\n",
       "  'mdf': {'collection': 'Fe-Cr-Al Oxidation Studies',\n",
       "   'composition': 'FeCrAl',\n",
       "   'elements': ['Al', 'Cr', 'Fe'],\n",
       "   'ingest_date': '2017-07-26T14:07:26.246488Z',\n",
       "   'links': {'csv': {'globus_endpoint': '82f1b5c6-6e9b-11e5-ba47-22000b92c6ec',\n",
       "     'http_host': 'https://data.materialsdatafacility.org',\n",
       "     'path': '/collections/Fe_Cr_Al_data/690 K Hour 1/690 K Hour 1 Point 1_102.txt'},\n",
       "    'landing_page': 'https://materialsdata.nist.gov/dspace/xmlui/handle/11256/836#814',\n",
       "    'parent_id': '5978a212f2c0040e84d2eb62'},\n",
       "   'mdf-id': '5978a21ef2c0040e84d2ee90',\n",
       "   'metadata_version': '0.3.0',\n",
       "   'resource_type': 'record',\n",
       "   'scroll_id': 814,\n",
       "   'source_name': 'fe_cr_al_oxidation',\n",
       "   'tags': ['csv'],\n",
       "   'title': 'Fe-Cr-Al Oxidation - 690 K Hour 1 Point 1_102'}},\n",
       " {'fe_cr_al_oxidation': {'atomic_composition_percent': {'Al': 2.3,\n",
       "    'Cr': 27.1,\n",
       "    'Fe': 70.6},\n",
       "   'temperature_k': 690.0},\n",
       "  'mdf': {'collection': 'Fe-Cr-Al Oxidation Studies',\n",
       "   'composition': 'FeCrAl',\n",
       "   'elements': ['Al', 'Cr', 'Fe'],\n",
       "   'ingest_date': '2017-07-26T14:07:26.306011Z',\n",
       "   'links': {'csv': {'globus_endpoint': '82f1b5c6-6e9b-11e5-ba47-22000b92c6ec',\n",
       "     'http_host': 'https://data.materialsdatafacility.org',\n",
       "     'path': '/collections/Fe_Cr_Al_data/690 K Hour 1/690 K Hour 1 Point 1_107.txt'},\n",
       "    'landing_page': 'https://materialsdata.nist.gov/dspace/xmlui/handle/11256/836#819',\n",
       "    'parent_id': '5978a212f2c0040e84d2eb62'},\n",
       "   'mdf-id': '5978a21ef2c0040e84d2ee95',\n",
       "   'metadata_version': '0.3.0',\n",
       "   'resource_type': 'record',\n",
       "   'scroll_id': 819,\n",
       "   'source_name': 'fe_cr_al_oxidation',\n",
       "   'tags': ['csv'],\n",
       "   'title': 'Fe-Cr-Al Oxidation - 690 K Hour 1 Point 1_107'}},\n",
       " {'fe_cr_al_oxidation': {'atomic_composition_percent': {'Al': 2.1,\n",
       "    'Cr': 27.3,\n",
       "    'Fe': 70.6},\n",
       "   'temperature_k': 690.0},\n",
       "  'mdf': {'collection': 'Fe-Cr-Al Oxidation Studies',\n",
       "   'composition': 'FeCrAl',\n",
       "   'elements': ['Al', 'Cr', 'Fe'],\n",
       "   'ingest_date': '2017-07-26T14:07:26.319720Z',\n",
       "   'links': {'csv': {'globus_endpoint': '82f1b5c6-6e9b-11e5-ba47-22000b92c6ec',\n",
       "     'http_host': 'https://data.materialsdatafacility.org',\n",
       "     'path': '/collections/Fe_Cr_Al_data/690 K Hour 1/690 K Hour 1 Point 1_108.txt'},\n",
       "    'landing_page': 'https://materialsdata.nist.gov/dspace/xmlui/handle/11256/836#820',\n",
       "    'parent_id': '5978a212f2c0040e84d2eb62'},\n",
       "   'mdf-id': '5978a21ef2c0040e84d2ee96',\n",
       "   'metadata_version': '0.3.0',\n",
       "   'resource_type': 'record',\n",
       "   'scroll_id': 820,\n",
       "   'source_name': 'fe_cr_al_oxidation',\n",
       "   'tags': ['csv'],\n",
       "   'title': 'Fe-Cr-Al Oxidation - 690 K Hour 1 Point 1_108'}},\n",
       " {'fe_cr_al_oxidation': {'atomic_composition_percent': {'Al': 1.7,\n",
       "    'Cr': 27.8,\n",
       "    'Fe': 70.5},\n",
       "   'temperature_k': 690.0},\n",
       "  'mdf': {'collection': 'Fe-Cr-Al Oxidation Studies',\n",
       "   'composition': 'FeCrAl',\n",
       "   'elements': ['Al', 'Cr', 'Fe'],\n",
       "   'ingest_date': '2017-07-26T14:07:26.344036Z',\n",
       "   'links': {'csv': {'globus_endpoint': '82f1b5c6-6e9b-11e5-ba47-22000b92c6ec',\n",
       "     'http_host': 'https://data.materialsdatafacility.org',\n",
       "     'path': '/collections/Fe_Cr_Al_data/690 K Hour 1/690 K Hour 1 Point 1_110.txt'},\n",
       "    'landing_page': 'https://materialsdata.nist.gov/dspace/xmlui/handle/11256/836#822',\n",
       "    'parent_id': '5978a212f2c0040e84d2eb62'},\n",
       "   'mdf-id': '5978a21ef2c0040e84d2ee98',\n",
       "   'metadata_version': '0.3.0',\n",
       "   'resource_type': 'record',\n",
       "   'scroll_id': 822,\n",
       "   'source_name': 'fe_cr_al_oxidation',\n",
       "   'tags': ['csv'],\n",
       "   'title': 'Fe-Cr-Al Oxidation - 690 K Hour 1 Point 1_110'}},\n",
       " {'fe_cr_al_oxidation': {'atomic_composition_percent': {'Al': 1.6,\n",
       "    'Cr': 28.0,\n",
       "    'Fe': 70.4},\n",
       "   'temperature_k': 690.0},\n",
       "  'mdf': {'collection': 'Fe-Cr-Al Oxidation Studies',\n",
       "   'composition': 'FeCrAl',\n",
       "   'elements': ['Al', 'Cr', 'Fe'],\n",
       "   'ingest_date': '2017-07-26T14:07:26.358206Z',\n",
       "   'links': {'csv': {'globus_endpoint': '82f1b5c6-6e9b-11e5-ba47-22000b92c6ec',\n",
       "     'http_host': 'https://data.materialsdatafacility.org',\n",
       "     'path': '/collections/Fe_Cr_Al_data/690 K Hour 1/690 K Hour 1 Point 1_111.txt'},\n",
       "    'landing_page': 'https://materialsdata.nist.gov/dspace/xmlui/handle/11256/836#823',\n",
       "    'parent_id': '5978a212f2c0040e84d2eb62'},\n",
       "   'mdf-id': '5978a21ef2c0040e84d2ee99',\n",
       "   'metadata_version': '0.3.0',\n",
       "   'resource_type': 'record',\n",
       "   'scroll_id': 823,\n",
       "   'source_name': 'fe_cr_al_oxidation',\n",
       "   'tags': ['csv'],\n",
       "   'title': 'Fe-Cr-Al Oxidation - 690 K Hour 1 Point 1_111'}},\n",
       " {'fe_cr_al_oxidation': {'atomic_composition_percent': {'Al': 4.6,\n",
       "    'Cr': 28.7,\n",
       "    'Fe': 66.7},\n",
       "   'temperature_k': 690.0},\n",
       "  'mdf': {'collection': 'Fe-Cr-Al Oxidation Studies',\n",
       "   'composition': 'FeCrAl',\n",
       "   'elements': ['Al', 'Cr', 'Fe'],\n",
       "   'ingest_date': '2017-07-26T14:07:26.400194Z',\n",
       "   'links': {'csv': {'globus_endpoint': '82f1b5c6-6e9b-11e5-ba47-22000b92c6ec',\n",
       "     'http_host': 'https://data.materialsdatafacility.org',\n",
       "     'path': '/collections/Fe_Cr_Al_data/690 K Hour 1/690 K Hour 1 Point 1_114.txt'},\n",
       "    'landing_page': 'https://materialsdata.nist.gov/dspace/xmlui/handle/11256/836#826',\n",
       "    'parent_id': '5978a212f2c0040e84d2eb62'},\n",
       "   'mdf-id': '5978a21ef2c0040e84d2ee9c',\n",
       "   'metadata_version': '0.3.0',\n",
       "   'resource_type': 'record',\n",
       "   'scroll_id': 826,\n",
       "   'source_name': 'fe_cr_al_oxidation',\n",
       "   'tags': ['csv'],\n",
       "   'title': 'Fe-Cr-Al Oxidation - 690 K Hour 1 Point 1_114'}}]"
      ]
     },
     "execution_count": 31,
     "metadata": {},
     "output_type": "execute_result"
    }
   ],
   "source": [
    "q = {\n",
    "    \"q\": \"mdf.mdf-id:(>5978a212f2c0040e84d2eb64 AND <5978b0e217f4074f79324167)\",\n",
    "    \"advanced\": True,\n",
    "    \"limit\": 10\n",
    "}\n",
    "mdf_dataworks.toolbox.gmeta_pop(search_client.structured_search(q))"
   ]
  },
  {
   "cell_type": "code",
   "execution_count": null,
   "metadata": {
    "collapsed": true,
    "deletable": true,
    "editable": true
   },
   "outputs": [],
   "source": []
  },
  {
   "cell_type": "code",
   "execution_count": 6,
   "metadata": {
    "collapsed": true,
    "deletable": true,
    "editable": true
   },
   "outputs": [],
   "source": [
    "from mdf_dataworks.toolbox import SearchClient as search_client\n",
    "from mdf_dataworks.toolbox import gmeta_pop"
   ]
  },
  {
   "cell_type": "code",
   "execution_count": 3,
   "metadata": {
    "collapsed": true,
    "deletable": true,
    "editable": true
   },
   "outputs": [],
   "source": [
    "sc = search_client(default_index=\"mdf\")"
   ]
  },
  {
   "cell_type": "code",
   "execution_count": 8,
   "metadata": {
    "collapsed": false,
    "deletable": true,
    "editable": true
   },
   "outputs": [
    {
     "data": {
      "text/plain": [
       "10"
      ]
     },
     "execution_count": 8,
     "metadata": {},
     "output_type": "execute_result"
    }
   ],
   "source": [
    "len(gmeta_pop(sc.search(\"oqmd\")))"
   ]
  },
  {
   "cell_type": "code",
   "execution_count": null,
   "metadata": {
    "collapsed": true,
    "deletable": true,
    "editable": true
   },
   "outputs": [],
   "source": []
  }
 ],
 "metadata": {
  "kernelspec": {
   "display_name": "Python 3",
   "language": "python",
   "name": "python3"
  },
  "language_info": {
   "codemirror_mode": {
    "name": "ipython",
    "version": 3
   },
   "file_extension": ".py",
   "mimetype": "text/x-python",
   "name": "python",
   "nbconvert_exporter": "python",
   "pygments_lexer": "ipython3",
   "version": "3.6.0"
  }
 },
 "nbformat": 4,
 "nbformat_minor": 2
}
